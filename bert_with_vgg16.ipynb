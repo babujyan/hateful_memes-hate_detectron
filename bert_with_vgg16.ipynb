{
  "nbformat": 4,
  "nbformat_minor": 0,
  "metadata": {
    "accelerator": "GPU",
    "colab": {
      "name": "Copy of classify_text_with_bert.ipynb",
      "provenance": [],
      "collapsed_sections": [],
      "include_colab_link": true
    },
    "kernelspec": {
      "display_name": "Python 3",
      "name": "python3"
    }
  },
  "cells": [
    {
      "cell_type": "markdown",
      "metadata": {
        "id": "view-in-github",
        "colab_type": "text"
      },
      "source": [
        "<a href=\"https://colab.research.google.com/github/babujyan/hateful_memes-hate_detectron/blob/main/bert_with_vgg16.ipynb\" target=\"_parent\"><img src=\"https://colab.research.google.com/assets/colab-badge.svg\" alt=\"Open In Colab\"/></a>"
      ]
    },
    {
      "cell_type": "markdown",
      "metadata": {
        "id": "Cb4espuLKJiA"
      },
      "source": [
        "##### Copyright 2020 The TensorFlow Hub Authors.\n"
      ]
    },
    {
      "cell_type": "code",
      "metadata": {
        "cellView": "form",
        "id": "jM3hCI1UUzar"
      },
      "source": [
        "#@title Licensed under the Apache License, Version 2.0 (the \"License\");\n",
        "# you may not use this file except in compliance with the License.\n",
        "# You may obtain a copy of the License at\n",
        "#\n",
        "# https://www.apache.org/licenses/LICENSE-2.0\n",
        "#\n",
        "# Unless required by applicable law or agreed to in writing, software\n",
        "# distributed under the License is distributed on an \"AS IS\" BASIS,\n",
        "# WITHOUT WARRANTIES OR CONDITIONS OF ANY KIND, either express or implied.\n",
        "# See the License for the specific language governing permissions and\n",
        "# limitations under the License."
      ],
      "execution_count": null,
      "outputs": []
    },
    {
      "cell_type": "markdown",
      "metadata": {
        "id": "4_NEJlxKKjyI"
      },
      "source": [
        "<table class=\"tfo-notebook-buttons\" align=\"left\">\n",
        "  <td>\n",
        "    <a target=\"_blank\" href=\"https://www.tensorflow.org/tutorials/text/classify_text_with_bert\"><img src=\"https://www.tensorflow.org/images/tf_logo_32px.png\" />View on TensorFlow.org</a>\n",
        "  </td>\n",
        "  <td>\n",
        "    <a target=\"_blank\" href=\"https://colab.research.google.com/github/tensorflow/docs/blob/master/site/en/tutorials/text/classify_text_with_bert.ipynb\"><img src=\"https://www.tensorflow.org/images/colab_logo_32px.png\" />Run in Google Colab</a>\n",
        "  </td>\n",
        "  <td>\n",
        "    <a target=\"_blank\" href=\"https://github.com/tensorflow/docs/blob/master/site/en/tutorials/text/classify_text_with_bert.ipynb\"><img src=\"https://www.tensorflow.org/images/GitHub-Mark-32px.png\" />View on GitHub</a>\n",
        "  </td>\n",
        "  <td>\n",
        "    <a href=\"https://storage.googleapis.com/tensorflow_docs/docs/site/en/tutorials/text/classify_text_with_bert.ipynb\"><img src=\"https://www.tensorflow.org/images/download_logo_32px.png\" />Download notebook</a>\n",
        "  </td>\n",
        "  <td>\n",
        "    <a href=\"https://tfhub.dev/google/collections/bert/1\"><img src=\"https://www.tensorflow.org/images/hub_logo_32px.png\" />See TF Hub model</a>\n",
        "  </td>\n",
        "</table>"
      ]
    },
    {
      "cell_type": "markdown",
      "metadata": {
        "id": "IZ6SNYq_tVVC"
      },
      "source": [
        "# Classify text with BERT\n",
        "\n",
        "This tutorial contains complete code to fine-tune BERT to perform sentiment analysis on a dataset of plain-text IMDB movie reviews.\n",
        "In addition to training a model, you will learn how to preprocess text into an appropriate format.\n",
        "\n",
        "In this notebook, you will:\n",
        "\n",
        "- Load the IMDB dataset\n",
        "- Load a BERT model from TensorFlow Hub\n",
        "- Build your own model by combining BERT with a classifier\n",
        "- Train your own model, fine-tuning BERT as part of that\n",
        "- Save your model and use it to classify sentences\n",
        "\n",
        "If you're new to working with the IMDB dataset, please see [Basic text classification](https://www.tensorflow.org/tutorials/keras/text_classification) for more details."
      ]
    },
    {
      "cell_type": "markdown",
      "metadata": {
        "id": "2PHBpLPuQdmK"
      },
      "source": [
        "## About BERT\n",
        "\n",
        "[BERT](https://arxiv.org/abs/1810.04805) and other Transformer encoder architectures have been wildly successful on a variety of tasks in NLP (natural language processing). They compute vector-space representations of natural language that are suitable for use in deep learning models. The BERT family of models uses the Transformer encoder architecture to process each token of input text in the full context of all tokens before and after, hence the name: Bidirectional Encoder Representations from Transformers. \n",
        "\n",
        "BERT models are usually pre-trained on a large corpus of text, then fine-tuned for specific tasks.\n"
      ]
    },
    {
      "cell_type": "markdown",
      "metadata": {
        "id": "SCjmX4zTCkRK"
      },
      "source": [
        "## Setup\n"
      ]
    },
    {
      "cell_type": "code",
      "metadata": {
        "id": "q-YbjCkzw0yU",
        "colab": {
          "base_uri": "https://localhost:8080/"
        },
        "outputId": "940c75d4-9817-4759-b89d-f1ee9246019d"
      },
      "source": [
        "# A dependency of the preprocessing for BERT inputs\n",
        "!pip install -q tensorflow-text"
      ],
      "execution_count": 2,
      "outputs": [
        {
          "output_type": "stream",
          "text": [
            "\u001b[?25l\r\u001b[K     |                                | 10kB 25.5MB/s eta 0:00:01\r\u001b[K     |▏                               | 20kB 32.7MB/s eta 0:00:01\r\u001b[K     |▎                               | 30kB 24.0MB/s eta 0:00:01\r\u001b[K     |▍                               | 40kB 27.4MB/s eta 0:00:01\r\u001b[K     |▌                               | 51kB 27.7MB/s eta 0:00:01\r\u001b[K     |▋                               | 61kB 30.4MB/s eta 0:00:01\r\u001b[K     |▊                               | 71kB 24.3MB/s eta 0:00:01\r\u001b[K     |▉                               | 81kB 25.6MB/s eta 0:00:01\r\u001b[K     |▉                               | 92kB 22.5MB/s eta 0:00:01\r\u001b[K     |█                               | 102kB 22.3MB/s eta 0:00:01\r\u001b[K     |█                               | 112kB 22.3MB/s eta 0:00:01\r\u001b[K     |█▏                              | 122kB 22.3MB/s eta 0:00:01\r\u001b[K     |█▎                              | 133kB 22.3MB/s eta 0:00:01\r\u001b[K     |█▍                              | 143kB 22.3MB/s eta 0:00:01\r\u001b[K     |█▌                              | 153kB 22.3MB/s eta 0:00:01\r\u001b[K     |█▋                              | 163kB 22.3MB/s eta 0:00:01\r\u001b[K     |█▋                              | 174kB 22.3MB/s eta 0:00:01\r\u001b[K     |█▊                              | 184kB 22.3MB/s eta 0:00:01\r\u001b[K     |█▉                              | 194kB 22.3MB/s eta 0:00:01\r\u001b[K     |██                              | 204kB 22.3MB/s eta 0:00:01\r\u001b[K     |██                              | 215kB 22.3MB/s eta 0:00:01\r\u001b[K     |██▏                             | 225kB 22.3MB/s eta 0:00:01\r\u001b[K     |██▎                             | 235kB 22.3MB/s eta 0:00:01\r\u001b[K     |██▍                             | 245kB 22.3MB/s eta 0:00:01\r\u001b[K     |██▍                             | 256kB 22.3MB/s eta 0:00:01\r\u001b[K     |██▌                             | 266kB 22.3MB/s eta 0:00:01\r\u001b[K     |██▋                             | 276kB 22.3MB/s eta 0:00:01\r\u001b[K     |██▊                             | 286kB 22.3MB/s eta 0:00:01\r\u001b[K     |██▉                             | 296kB 22.3MB/s eta 0:00:01\r\u001b[K     |███                             | 307kB 22.3MB/s eta 0:00:01\r\u001b[K     |███                             | 317kB 22.3MB/s eta 0:00:01\r\u001b[K     |███▏                            | 327kB 22.3MB/s eta 0:00:01\r\u001b[K     |███▏                            | 337kB 22.3MB/s eta 0:00:01\r\u001b[K     |███▎                            | 348kB 22.3MB/s eta 0:00:01\r\u001b[K     |███▍                            | 358kB 22.3MB/s eta 0:00:01\r\u001b[K     |███▌                            | 368kB 22.3MB/s eta 0:00:01\r\u001b[K     |███▋                            | 378kB 22.3MB/s eta 0:00:01\r\u001b[K     |███▊                            | 389kB 22.3MB/s eta 0:00:01\r\u001b[K     |███▉                            | 399kB 22.3MB/s eta 0:00:01\r\u001b[K     |████                            | 409kB 22.3MB/s eta 0:00:01\r\u001b[K     |████                            | 419kB 22.3MB/s eta 0:00:01\r\u001b[K     |████                            | 430kB 22.3MB/s eta 0:00:01\r\u001b[K     |████▏                           | 440kB 22.3MB/s eta 0:00:01\r\u001b[K     |████▎                           | 450kB 22.3MB/s eta 0:00:01\r\u001b[K     |████▍                           | 460kB 22.3MB/s eta 0:00:01\r\u001b[K     |████▌                           | 471kB 22.3MB/s eta 0:00:01\r\u001b[K     |████▋                           | 481kB 22.3MB/s eta 0:00:01\r\u001b[K     |████▊                           | 491kB 22.3MB/s eta 0:00:01\r\u001b[K     |████▊                           | 501kB 22.3MB/s eta 0:00:01\r\u001b[K     |████▉                           | 512kB 22.3MB/s eta 0:00:01\r\u001b[K     |█████                           | 522kB 22.3MB/s eta 0:00:01\r\u001b[K     |█████                           | 532kB 22.3MB/s eta 0:00:01\r\u001b[K     |█████▏                          | 542kB 22.3MB/s eta 0:00:01\r\u001b[K     |█████▎                          | 552kB 22.3MB/s eta 0:00:01\r\u001b[K     |█████▍                          | 563kB 22.3MB/s eta 0:00:01\r\u001b[K     |█████▌                          | 573kB 22.3MB/s eta 0:00:01\r\u001b[K     |█████▌                          | 583kB 22.3MB/s eta 0:00:01\r\u001b[K     |█████▋                          | 593kB 22.3MB/s eta 0:00:01\r\u001b[K     |█████▊                          | 604kB 22.3MB/s eta 0:00:01\r\u001b[K     |█████▉                          | 614kB 22.3MB/s eta 0:00:01\r\u001b[K     |██████                          | 624kB 22.3MB/s eta 0:00:01\r\u001b[K     |██████                          | 634kB 22.3MB/s eta 0:00:01\r\u001b[K     |██████▏                         | 645kB 22.3MB/s eta 0:00:01\r\u001b[K     |██████▎                         | 655kB 22.3MB/s eta 0:00:01\r\u001b[K     |██████▎                         | 665kB 22.3MB/s eta 0:00:01\r\u001b[K     |██████▍                         | 675kB 22.3MB/s eta 0:00:01\r\u001b[K     |██████▌                         | 686kB 22.3MB/s eta 0:00:01\r\u001b[K     |██████▋                         | 696kB 22.3MB/s eta 0:00:01\r\u001b[K     |██████▊                         | 706kB 22.3MB/s eta 0:00:01\r\u001b[K     |██████▉                         | 716kB 22.3MB/s eta 0:00:01\r\u001b[K     |███████                         | 727kB 22.3MB/s eta 0:00:01\r\u001b[K     |███████                         | 737kB 22.3MB/s eta 0:00:01\r\u001b[K     |███████                         | 747kB 22.3MB/s eta 0:00:01\r\u001b[K     |███████▏                        | 757kB 22.3MB/s eta 0:00:01\r\u001b[K     |███████▎                        | 768kB 22.3MB/s eta 0:00:01\r\u001b[K     |███████▍                        | 778kB 22.3MB/s eta 0:00:01\r\u001b[K     |███████▌                        | 788kB 22.3MB/s eta 0:00:01\r\u001b[K     |███████▋                        | 798kB 22.3MB/s eta 0:00:01\r\u001b[K     |███████▊                        | 808kB 22.3MB/s eta 0:00:01\r\u001b[K     |███████▉                        | 819kB 22.3MB/s eta 0:00:01\r\u001b[K     |███████▉                        | 829kB 22.3MB/s eta 0:00:01\r\u001b[K     |████████                        | 839kB 22.3MB/s eta 0:00:01\r\u001b[K     |████████                        | 849kB 22.3MB/s eta 0:00:01\r\u001b[K     |████████▏                       | 860kB 22.3MB/s eta 0:00:01\r\u001b[K     |████████▎                       | 870kB 22.3MB/s eta 0:00:01\r\u001b[K     |████████▍                       | 880kB 22.3MB/s eta 0:00:01\r\u001b[K     |████████▌                       | 890kB 22.3MB/s eta 0:00:01\r\u001b[K     |████████▋                       | 901kB 22.3MB/s eta 0:00:01\r\u001b[K     |████████▋                       | 911kB 22.3MB/s eta 0:00:01\r\u001b[K     |████████▊                       | 921kB 22.3MB/s eta 0:00:01\r\u001b[K     |████████▉                       | 931kB 22.3MB/s eta 0:00:01\r\u001b[K     |█████████                       | 942kB 22.3MB/s eta 0:00:01\r\u001b[K     |█████████                       | 952kB 22.3MB/s eta 0:00:01\r\u001b[K     |█████████▏                      | 962kB 22.3MB/s eta 0:00:01\r\u001b[K     |█████████▎                      | 972kB 22.3MB/s eta 0:00:01\r\u001b[K     |█████████▍                      | 983kB 22.3MB/s eta 0:00:01\r\u001b[K     |█████████▌                      | 993kB 22.3MB/s eta 0:00:01\r\u001b[K     |█████████▌                      | 1.0MB 22.3MB/s eta 0:00:01\r\u001b[K     |█████████▋                      | 1.0MB 22.3MB/s eta 0:00:01\r\u001b[K     |█████████▊                      | 1.0MB 22.3MB/s eta 0:00:01\r\u001b[K     |█████████▉                      | 1.0MB 22.3MB/s eta 0:00:01\r\u001b[K     |██████████                      | 1.0MB 22.3MB/s eta 0:00:01\r\u001b[K     |██████████                      | 1.1MB 22.3MB/s eta 0:00:01\r\u001b[K     |██████████▏                     | 1.1MB 22.3MB/s eta 0:00:01\r\u001b[K     |██████████▎                     | 1.1MB 22.3MB/s eta 0:00:01\r\u001b[K     |██████████▎                     | 1.1MB 22.3MB/s eta 0:00:01\r\u001b[K     |██████████▍                     | 1.1MB 22.3MB/s eta 0:00:01\r\u001b[K     |██████████▌                     | 1.1MB 22.3MB/s eta 0:00:01\r\u001b[K     |██████████▋                     | 1.1MB 22.3MB/s eta 0:00:01\r\u001b[K     |██████████▊                     | 1.1MB 22.3MB/s eta 0:00:01\r\u001b[K     |██████████▉                     | 1.1MB 22.3MB/s eta 0:00:01\r\u001b[K     |███████████                     | 1.1MB 22.3MB/s eta 0:00:01\r\u001b[K     |███████████                     | 1.2MB 22.3MB/s eta 0:00:01\r\u001b[K     |███████████                     | 1.2MB 22.3MB/s eta 0:00:01\r\u001b[K     |███████████▏                    | 1.2MB 22.3MB/s eta 0:00:01\r\u001b[K     |███████████▎                    | 1.2MB 22.3MB/s eta 0:00:01\r\u001b[K     |███████████▍                    | 1.2MB 22.3MB/s eta 0:00:01\r\u001b[K     |███████████▌                    | 1.2MB 22.3MB/s eta 0:00:01\r\u001b[K     |███████████▋                    | 1.2MB 22.3MB/s eta 0:00:01\r\u001b[K     |███████████▊                    | 1.2MB 22.3MB/s eta 0:00:01\r\u001b[K     |███████████▉                    | 1.2MB 22.3MB/s eta 0:00:01\r\u001b[K     |███████████▉                    | 1.2MB 22.3MB/s eta 0:00:01\r\u001b[K     |████████████                    | 1.3MB 22.3MB/s eta 0:00:01\r\u001b[K     |████████████                    | 1.3MB 22.3MB/s eta 0:00:01\r\u001b[K     |████████████▏                   | 1.3MB 22.3MB/s eta 0:00:01\r\u001b[K     |████████████▎                   | 1.3MB 22.3MB/s eta 0:00:01\r\u001b[K     |████████████▍                   | 1.3MB 22.3MB/s eta 0:00:01\r\u001b[K     |████████████▌                   | 1.3MB 22.3MB/s eta 0:00:01\r\u001b[K     |████████████▋                   | 1.3MB 22.3MB/s eta 0:00:01\r\u001b[K     |████████████▋                   | 1.3MB 22.3MB/s eta 0:00:01\r\u001b[K     |████████████▊                   | 1.3MB 22.3MB/s eta 0:00:01\r\u001b[K     |████████████▉                   | 1.4MB 22.3MB/s eta 0:00:01\r\u001b[K     |█████████████                   | 1.4MB 22.3MB/s eta 0:00:01\r\u001b[K     |█████████████                   | 1.4MB 22.3MB/s eta 0:00:01\r\u001b[K     |█████████████▏                  | 1.4MB 22.3MB/s eta 0:00:01\r\u001b[K     |█████████████▎                  | 1.4MB 22.3MB/s eta 0:00:01\r\u001b[K     |█████████████▍                  | 1.4MB 22.3MB/s eta 0:00:01\r\u001b[K     |█████████████▍                  | 1.4MB 22.3MB/s eta 0:00:01\r\u001b[K     |█████████████▌                  | 1.4MB 22.3MB/s eta 0:00:01\r\u001b[K     |█████████████▋                  | 1.4MB 22.3MB/s eta 0:00:01\r\u001b[K     |█████████████▊                  | 1.4MB 22.3MB/s eta 0:00:01\r\u001b[K     |█████████████▉                  | 1.5MB 22.3MB/s eta 0:00:01\r\u001b[K     |██████████████                  | 1.5MB 22.3MB/s eta 0:00:01\r\u001b[K     |██████████████                  | 1.5MB 22.3MB/s eta 0:00:01\r\u001b[K     |██████████████▏                 | 1.5MB 22.3MB/s eta 0:00:01\r\u001b[K     |██████████████▏                 | 1.5MB 22.3MB/s eta 0:00:01\r\u001b[K     |██████████████▎                 | 1.5MB 22.3MB/s eta 0:00:01\r\u001b[K     |██████████████▍                 | 1.5MB 22.3MB/s eta 0:00:01\r\u001b[K     |██████████████▌                 | 1.5MB 22.3MB/s eta 0:00:01\r\u001b[K     |██████████████▋                 | 1.5MB 22.3MB/s eta 0:00:01\r\u001b[K     |██████████████▊                 | 1.5MB 22.3MB/s eta 0:00:01\r\u001b[K     |██████████████▉                 | 1.6MB 22.3MB/s eta 0:00:01\r\u001b[K     |███████████████                 | 1.6MB 22.3MB/s eta 0:00:01\r\u001b[K     |███████████████                 | 1.6MB 22.3MB/s eta 0:00:01\r\u001b[K     |███████████████                 | 1.6MB 22.3MB/s eta 0:00:01\r\u001b[K     |███████████████▏                | 1.6MB 22.3MB/s eta 0:00:01\r\u001b[K     |███████████████▎                | 1.6MB 22.3MB/s eta 0:00:01\r\u001b[K     |███████████████▍                | 1.6MB 22.3MB/s eta 0:00:01\r\u001b[K     |███████████████▌                | 1.6MB 22.3MB/s eta 0:00:01\r\u001b[K     |███████████████▋                | 1.6MB 22.3MB/s eta 0:00:01\r\u001b[K     |███████████████▊                | 1.6MB 22.3MB/s eta 0:00:01\r\u001b[K     |███████████████▊                | 1.7MB 22.3MB/s eta 0:00:01\r\u001b[K     |███████████████▉                | 1.7MB 22.3MB/s eta 0:00:01\r\u001b[K     |████████████████                | 1.7MB 22.3MB/s eta 0:00:01\r\u001b[K     |████████████████                | 1.7MB 22.3MB/s eta 0:00:01\r\u001b[K     |████████████████▏               | 1.7MB 22.3MB/s eta 0:00:01\r\u001b[K     |████████████████▎               | 1.7MB 22.3MB/s eta 0:00:01\r\u001b[K     |████████████████▍               | 1.7MB 22.3MB/s eta 0:00:01\r\u001b[K     |████████████████▌               | 1.7MB 22.3MB/s eta 0:00:01\r\u001b[K     |████████████████▌               | 1.7MB 22.3MB/s eta 0:00:01\r\u001b[K     |████████████████▋               | 1.8MB 22.3MB/s eta 0:00:01\r\u001b[K     |████████████████▊               | 1.8MB 22.3MB/s eta 0:00:01\r\u001b[K     |████████████████▉               | 1.8MB 22.3MB/s eta 0:00:01\r\u001b[K     |█████████████████               | 1.8MB 22.3MB/s eta 0:00:01\r\u001b[K     |█████████████████               | 1.8MB 22.3MB/s eta 0:00:01\r\u001b[K     |█████████████████▏              | 1.8MB 22.3MB/s eta 0:00:01\r\u001b[K     |█████████████████▎              | 1.8MB 22.3MB/s eta 0:00:01\r\u001b[K     |█████████████████▎              | 1.8MB 22.3MB/s eta 0:00:01\r\u001b[K     |█████████████████▍              | 1.8MB 22.3MB/s eta 0:00:01\r\u001b[K     |█████████████████▌              | 1.8MB 22.3MB/s eta 0:00:01\r\u001b[K     |█████████████████▋              | 1.9MB 22.3MB/s eta 0:00:01\r\u001b[K     |█████████████████▊              | 1.9MB 22.3MB/s eta 0:00:01\r\u001b[K     |█████████████████▉              | 1.9MB 22.3MB/s eta 0:00:01\r\u001b[K     |██████████████████              | 1.9MB 22.3MB/s eta 0:00:01\r\u001b[K     |██████████████████              | 1.9MB 22.3MB/s eta 0:00:01\r\u001b[K     |██████████████████              | 1.9MB 22.3MB/s eta 0:00:01\r\u001b[K     |██████████████████▏             | 1.9MB 22.3MB/s eta 0:00:01\r\u001b[K     |██████████████████▎             | 1.9MB 22.3MB/s eta 0:00:01\r\u001b[K     |██████████████████▍             | 1.9MB 22.3MB/s eta 0:00:01\r\u001b[K     |██████████████████▌             | 1.9MB 22.3MB/s eta 0:00:01\r\u001b[K     |██████████████████▋             | 2.0MB 22.3MB/s eta 0:00:01\r\u001b[K     |██████████████████▊             | 2.0MB 22.3MB/s eta 0:00:01\r\u001b[K     |██████████████████▉             | 2.0MB 22.3MB/s eta 0:00:01\r\u001b[K     |███████████████████             | 2.0MB 22.3MB/s eta 0:00:01\r\u001b[K     |███████████████████             | 2.0MB 22.3MB/s eta 0:00:01\r\u001b[K     |███████████████████             | 2.0MB 22.3MB/s eta 0:00:01\r\u001b[K     |███████████████████▏            | 2.0MB 22.3MB/s eta 0:00:01\r\u001b[K     |███████████████████▎            | 2.0MB 22.3MB/s eta 0:00:01\r\u001b[K     |███████████████████▍            | 2.0MB 22.3MB/s eta 0:00:01\r\u001b[K     |███████████████████▌            | 2.0MB 22.3MB/s eta 0:00:01\r\u001b[K     |███████████████████▋            | 2.1MB 22.3MB/s eta 0:00:01\r\u001b[K     |███████████████████▊            | 2.1MB 22.3MB/s eta 0:00:01\r\u001b[K     |███████████████████▊            | 2.1MB 22.3MB/s eta 0:00:01\r\u001b[K     |███████████████████▉            | 2.1MB 22.3MB/s eta 0:00:01\r\u001b[K     |████████████████████            | 2.1MB 22.3MB/s eta 0:00:01\r\u001b[K     |████████████████████            | 2.1MB 22.3MB/s eta 0:00:01\r\u001b[K     |████████████████████▏           | 2.1MB 22.3MB/s eta 0:00:01\r\u001b[K     |████████████████████▎           | 2.1MB 22.3MB/s eta 0:00:01\r\u001b[K     |████████████████████▍           | 2.1MB 22.3MB/s eta 0:00:01\r\u001b[K     |████████████████████▌           | 2.2MB 22.3MB/s eta 0:00:01\r\u001b[K     |████████████████████▌           | 2.2MB 22.3MB/s eta 0:00:01\r\u001b[K     |████████████████████▋           | 2.2MB 22.3MB/s eta 0:00:01\r\u001b[K     |████████████████████▊           | 2.2MB 22.3MB/s eta 0:00:01\r\u001b[K     |████████████████████▉           | 2.2MB 22.3MB/s eta 0:00:01\r\u001b[K     |█████████████████████           | 2.2MB 22.3MB/s eta 0:00:01\r\u001b[K     |█████████████████████           | 2.2MB 22.3MB/s eta 0:00:01\r\u001b[K     |█████████████████████▏          | 2.2MB 22.3MB/s eta 0:00:01\r\u001b[K     |█████████████████████▎          | 2.2MB 22.3MB/s eta 0:00:01\r\u001b[K     |█████████████████████▎          | 2.2MB 22.3MB/s eta 0:00:01\r\u001b[K     |█████████████████████▍          | 2.3MB 22.3MB/s eta 0:00:01\r\u001b[K     |█████████████████████▌          | 2.3MB 22.3MB/s eta 0:00:01\r\u001b[K     |█████████████████████▋          | 2.3MB 22.3MB/s eta 0:00:01\r\u001b[K     |█████████████████████▊          | 2.3MB 22.3MB/s eta 0:00:01\r\u001b[K     |█████████████████████▉          | 2.3MB 22.3MB/s eta 0:00:01\r\u001b[K     |██████████████████████          | 2.3MB 22.3MB/s eta 0:00:01\r\u001b[K     |██████████████████████          | 2.3MB 22.3MB/s eta 0:00:01\r\u001b[K     |██████████████████████          | 2.3MB 22.3MB/s eta 0:00:01\r\u001b[K     |██████████████████████▏         | 2.3MB 22.3MB/s eta 0:00:01\r\u001b[K     |██████████████████████▎         | 2.3MB 22.3MB/s eta 0:00:01\r\u001b[K     |██████████████████████▍         | 2.4MB 22.3MB/s eta 0:00:01\r\u001b[K     |██████████████████████▌         | 2.4MB 22.3MB/s eta 0:00:01\r\u001b[K     |██████████████████████▋         | 2.4MB 22.3MB/s eta 0:00:01\r\u001b[K     |██████████████████████▊         | 2.4MB 22.3MB/s eta 0:00:01\r\u001b[K     |██████████████████████▉         | 2.4MB 22.3MB/s eta 0:00:01\r\u001b[K     |██████████████████████▉         | 2.4MB 22.3MB/s eta 0:00:01\r\u001b[K     |███████████████████████         | 2.4MB 22.3MB/s eta 0:00:01\r\u001b[K     |███████████████████████         | 2.4MB 22.3MB/s eta 0:00:01\r\u001b[K     |███████████████████████▏        | 2.4MB 22.3MB/s eta 0:00:01\r\u001b[K     |███████████████████████▎        | 2.4MB 22.3MB/s eta 0:00:01\r\u001b[K     |███████████████████████▍        | 2.5MB 22.3MB/s eta 0:00:01\r\u001b[K     |███████████████████████▌        | 2.5MB 22.3MB/s eta 0:00:01\r\u001b[K     |███████████████████████▋        | 2.5MB 22.3MB/s eta 0:00:01\r\u001b[K     |███████████████████████▋        | 2.5MB 22.3MB/s eta 0:00:01\r\u001b[K     |███████████████████████▊        | 2.5MB 22.3MB/s eta 0:00:01\r\u001b[K     |███████████████████████▉        | 2.5MB 22.3MB/s eta 0:00:01\r\u001b[K     |████████████████████████        | 2.5MB 22.3MB/s eta 0:00:01\r\u001b[K     |████████████████████████        | 2.5MB 22.3MB/s eta 0:00:01\r\u001b[K     |████████████████████████▏       | 2.5MB 22.3MB/s eta 0:00:01\r\u001b[K     |████████████████████████▎       | 2.5MB 22.3MB/s eta 0:00:01\r\u001b[K     |████████████████████████▍       | 2.6MB 22.3MB/s eta 0:00:01\r\u001b[K     |████████████████████████▍       | 2.6MB 22.3MB/s eta 0:00:01\r\u001b[K     |████████████████████████▌       | 2.6MB 22.3MB/s eta 0:00:01\r\u001b[K     |████████████████████████▋       | 2.6MB 22.3MB/s eta 0:00:01\r\u001b[K     |████████████████████████▊       | 2.6MB 22.3MB/s eta 0:00:01\r\u001b[K     |████████████████████████▉       | 2.6MB 22.3MB/s eta 0:00:01\r\u001b[K     |█████████████████████████       | 2.6MB 22.3MB/s eta 0:00:01\r\u001b[K     |█████████████████████████       | 2.6MB 22.3MB/s eta 0:00:01\r\u001b[K     |█████████████████████████▏      | 2.6MB 22.3MB/s eta 0:00:01\r\u001b[K     |█████████████████████████▏      | 2.7MB 22.3MB/s eta 0:00:01\r\u001b[K     |█████████████████████████▎      | 2.7MB 22.3MB/s eta 0:00:01\r\u001b[K     |█████████████████████████▍      | 2.7MB 22.3MB/s eta 0:00:01\r\u001b[K     |█████████████████████████▌      | 2.7MB 22.3MB/s eta 0:00:01\r\u001b[K     |█████████████████████████▋      | 2.7MB 22.3MB/s eta 0:00:01\r\u001b[K     |█████████████████████████▊      | 2.7MB 22.3MB/s eta 0:00:01\r\u001b[K     |█████████████████████████▉      | 2.7MB 22.3MB/s eta 0:00:01\r\u001b[K     |██████████████████████████      | 2.7MB 22.3MB/s eta 0:00:01\r\u001b[K     |██████████████████████████      | 2.7MB 22.3MB/s eta 0:00:01\r\u001b[K     |██████████████████████████      | 2.7MB 22.3MB/s eta 0:00:01\r\u001b[K     |██████████████████████████▏     | 2.8MB 22.3MB/s eta 0:00:01\r\u001b[K     |██████████████████████████▎     | 2.8MB 22.3MB/s eta 0:00:01\r\u001b[K     |██████████████████████████▍     | 2.8MB 22.3MB/s eta 0:00:01\r\u001b[K     |██████████████████████████▌     | 2.8MB 22.3MB/s eta 0:00:01\r\u001b[K     |██████████████████████████▋     | 2.8MB 22.3MB/s eta 0:00:01\r\u001b[K     |██████████████████████████▊     | 2.8MB 22.3MB/s eta 0:00:01\r\u001b[K     |██████████████████████████▊     | 2.8MB 22.3MB/s eta 0:00:01\r\u001b[K     |██████████████████████████▉     | 2.8MB 22.3MB/s eta 0:00:01\r\u001b[K     |███████████████████████████     | 2.8MB 22.3MB/s eta 0:00:01\r\u001b[K     |███████████████████████████     | 2.8MB 22.3MB/s eta 0:00:01\r\u001b[K     |███████████████████████████▏    | 2.9MB 22.3MB/s eta 0:00:01\r\u001b[K     |███████████████████████████▎    | 2.9MB 22.3MB/s eta 0:00:01\r\u001b[K     |███████████████████████████▍    | 2.9MB 22.3MB/s eta 0:00:01\r\u001b[K     |███████████████████████████▌    | 2.9MB 22.3MB/s eta 0:00:01\r\u001b[K     |███████████████████████████▌    | 2.9MB 22.3MB/s eta 0:00:01\r\u001b[K     |███████████████████████████▋    | 2.9MB 22.3MB/s eta 0:00:01\r\u001b[K     |███████████████████████████▊    | 2.9MB 22.3MB/s eta 0:00:01\r\u001b[K     |███████████████████████████▉    | 2.9MB 22.3MB/s eta 0:00:01\r\u001b[K     |████████████████████████████    | 2.9MB 22.3MB/s eta 0:00:01\r\u001b[K     |████████████████████████████    | 2.9MB 22.3MB/s eta 0:00:01\r\u001b[K     |████████████████████████████▏   | 3.0MB 22.3MB/s eta 0:00:01\r\u001b[K     |████████████████████████████▎   | 3.0MB 22.3MB/s eta 0:00:01\r\u001b[K     |████████████████████████████▍   | 3.0MB 22.3MB/s eta 0:00:01\r\u001b[K     |████████████████████████████▍   | 3.0MB 22.3MB/s eta 0:00:01\r\u001b[K     |████████████████████████████▌   | 3.0MB 22.3MB/s eta 0:00:01\r\u001b[K     |████████████████████████████▋   | 3.0MB 22.3MB/s eta 0:00:01\r\u001b[K     |████████████████████████████▊   | 3.0MB 22.3MB/s eta 0:00:01\r\u001b[K     |████████████████████████████▉   | 3.0MB 22.3MB/s eta 0:00:01\r\u001b[K     |█████████████████████████████   | 3.0MB 22.3MB/s eta 0:00:01\r\u001b[K     |█████████████████████████████   | 3.1MB 22.3MB/s eta 0:00:01\r\u001b[K     |█████████████████████████████▏  | 3.1MB 22.3MB/s eta 0:00:01\r\u001b[K     |█████████████████████████████▏  | 3.1MB 22.3MB/s eta 0:00:01\r\u001b[K     |█████████████████████████████▎  | 3.1MB 22.3MB/s eta 0:00:01\r\u001b[K     |█████████████████████████████▍  | 3.1MB 22.3MB/s eta 0:00:01\r\u001b[K     |█████████████████████████████▌  | 3.1MB 22.3MB/s eta 0:00:01\r\u001b[K     |█████████████████████████████▋  | 3.1MB 22.3MB/s eta 0:00:01\r\u001b[K     |█████████████████████████████▊  | 3.1MB 22.3MB/s eta 0:00:01\r\u001b[K     |█████████████████████████████▉  | 3.1MB 22.3MB/s eta 0:00:01\r\u001b[K     |██████████████████████████████  | 3.1MB 22.3MB/s eta 0:00:01\r\u001b[K     |██████████████████████████████  | 3.2MB 22.3MB/s eta 0:00:01\r\u001b[K     |██████████████████████████████  | 3.2MB 22.3MB/s eta 0:00:01\r\u001b[K     |██████████████████████████████▏ | 3.2MB 22.3MB/s eta 0:00:01\r\u001b[K     |██████████████████████████████▎ | 3.2MB 22.3MB/s eta 0:00:01\r\u001b[K     |██████████████████████████████▍ | 3.2MB 22.3MB/s eta 0:00:01\r\u001b[K     |██████████████████████████████▌ | 3.2MB 22.3MB/s eta 0:00:01\r\u001b[K     |██████████████████████████████▋ | 3.2MB 22.3MB/s eta 0:00:01\r\u001b[K     |██████████████████████████████▊ | 3.2MB 22.3MB/s eta 0:00:01\r\u001b[K     |██████████████████████████████▊ | 3.2MB 22.3MB/s eta 0:00:01\r\u001b[K     |██████████████████████████████▉ | 3.2MB 22.3MB/s eta 0:00:01\r\u001b[K     |███████████████████████████████ | 3.3MB 22.3MB/s eta 0:00:01\r\u001b[K     |███████████████████████████████ | 3.3MB 22.3MB/s eta 0:00:01\r\u001b[K     |███████████████████████████████▏| 3.3MB 22.3MB/s eta 0:00:01\r\u001b[K     |███████████████████████████████▎| 3.3MB 22.3MB/s eta 0:00:01\r\u001b[K     |███████████████████████████████▍| 3.3MB 22.3MB/s eta 0:00:01\r\u001b[K     |███████████████████████████████▌| 3.3MB 22.3MB/s eta 0:00:01\r\u001b[K     |███████████████████████████████▌| 3.3MB 22.3MB/s eta 0:00:01\r\u001b[K     |███████████████████████████████▋| 3.3MB 22.3MB/s eta 0:00:01\r\u001b[K     |███████████████████████████████▊| 3.3MB 22.3MB/s eta 0:00:01\r\u001b[K     |███████████████████████████████▉| 3.3MB 22.3MB/s eta 0:00:01\r\u001b[K     |████████████████████████████████| 3.4MB 22.3MB/s eta 0:00:01\r\u001b[K     |████████████████████████████████| 3.4MB 22.3MB/s \n",
            "\u001b[?25h"
          ],
          "name": "stdout"
        }
      ]
    },
    {
      "cell_type": "markdown",
      "metadata": {
        "id": "5w_XlxN1IsRJ"
      },
      "source": [
        "You will use the AdamW optimizer from [tensorflow/models](https://github.com/tensorflow/models)."
      ]
    },
    {
      "cell_type": "code",
      "metadata": {
        "id": "b-P1ZOA0FkVJ",
        "colab": {
          "base_uri": "https://localhost:8080/"
        },
        "outputId": "c2c8fff7-ffe5-4233-e14c-df8efa3c227d"
      },
      "source": [
        "!pip install -q tf-models-official"
      ],
      "execution_count": 3,
      "outputs": [
        {
          "output_type": "stream",
          "text": [
            "\u001b[?25l\r\u001b[K     |▎                               | 10kB 26.2MB/s eta 0:00:01\r\u001b[K     |▋                               | 20kB 31.4MB/s eta 0:00:01\r\u001b[K     |█                               | 30kB 23.5MB/s eta 0:00:01\r\u001b[K     |█▏                              | 40kB 21.4MB/s eta 0:00:01\r\u001b[K     |█▌                              | 51kB 23.3MB/s eta 0:00:01\r\u001b[K     |█▉                              | 61kB 21.7MB/s eta 0:00:01\r\u001b[K     |██▏                             | 71kB 21.3MB/s eta 0:00:01\r\u001b[K     |██▍                             | 81kB 22.5MB/s eta 0:00:01\r\u001b[K     |██▊                             | 92kB 21.4MB/s eta 0:00:01\r\u001b[K     |███                             | 102kB 20.1MB/s eta 0:00:01\r\u001b[K     |███▍                            | 112kB 20.1MB/s eta 0:00:01\r\u001b[K     |███▋                            | 122kB 20.1MB/s eta 0:00:01\r\u001b[K     |████                            | 133kB 20.1MB/s eta 0:00:01\r\u001b[K     |████▎                           | 143kB 20.1MB/s eta 0:00:01\r\u001b[K     |████▋                           | 153kB 20.1MB/s eta 0:00:01\r\u001b[K     |████▉                           | 163kB 20.1MB/s eta 0:00:01\r\u001b[K     |█████▏                          | 174kB 20.1MB/s eta 0:00:01\r\u001b[K     |█████▌                          | 184kB 20.1MB/s eta 0:00:01\r\u001b[K     |█████▊                          | 194kB 20.1MB/s eta 0:00:01\r\u001b[K     |██████                          | 204kB 20.1MB/s eta 0:00:01\r\u001b[K     |██████▍                         | 215kB 20.1MB/s eta 0:00:01\r\u001b[K     |██████▊                         | 225kB 20.1MB/s eta 0:00:01\r\u001b[K     |███████                         | 235kB 20.1MB/s eta 0:00:01\r\u001b[K     |███████▎                        | 245kB 20.1MB/s eta 0:00:01\r\u001b[K     |███████▋                        | 256kB 20.1MB/s eta 0:00:01\r\u001b[K     |████████                        | 266kB 20.1MB/s eta 0:00:01\r\u001b[K     |████████▏                       | 276kB 20.1MB/s eta 0:00:01\r\u001b[K     |████████▌                       | 286kB 20.1MB/s eta 0:00:01\r\u001b[K     |████████▉                       | 296kB 20.1MB/s eta 0:00:01\r\u001b[K     |█████████▏                      | 307kB 20.1MB/s eta 0:00:01\r\u001b[K     |█████████▍                      | 317kB 20.1MB/s eta 0:00:01\r\u001b[K     |█████████▊                      | 327kB 20.1MB/s eta 0:00:01\r\u001b[K     |██████████                      | 337kB 20.1MB/s eta 0:00:01\r\u001b[K     |██████████▍                     | 348kB 20.1MB/s eta 0:00:01\r\u001b[K     |██████████▋                     | 358kB 20.1MB/s eta 0:00:01\r\u001b[K     |███████████                     | 368kB 20.1MB/s eta 0:00:01\r\u001b[K     |███████████▎                    | 378kB 20.1MB/s eta 0:00:01\r\u001b[K     |███████████▌                    | 389kB 20.1MB/s eta 0:00:01\r\u001b[K     |███████████▉                    | 399kB 20.1MB/s eta 0:00:01\r\u001b[K     |████████████▏                   | 409kB 20.1MB/s eta 0:00:01\r\u001b[K     |████████████▌                   | 419kB 20.1MB/s eta 0:00:01\r\u001b[K     |████████████▊                   | 430kB 20.1MB/s eta 0:00:01\r\u001b[K     |█████████████                   | 440kB 20.1MB/s eta 0:00:01\r\u001b[K     |█████████████▍                  | 450kB 20.1MB/s eta 0:00:01\r\u001b[K     |█████████████▊                  | 460kB 20.1MB/s eta 0:00:01\r\u001b[K     |██████████████                  | 471kB 20.1MB/s eta 0:00:01\r\u001b[K     |██████████████▎                 | 481kB 20.1MB/s eta 0:00:01\r\u001b[K     |██████████████▋                 | 491kB 20.1MB/s eta 0:00:01\r\u001b[K     |███████████████                 | 501kB 20.1MB/s eta 0:00:01\r\u001b[K     |███████████████▏                | 512kB 20.1MB/s eta 0:00:01\r\u001b[K     |███████████████▌                | 522kB 20.1MB/s eta 0:00:01\r\u001b[K     |███████████████▉                | 532kB 20.1MB/s eta 0:00:01\r\u001b[K     |████████████████▏               | 542kB 20.1MB/s eta 0:00:01\r\u001b[K     |████████████████▍               | 552kB 20.1MB/s eta 0:00:01\r\u001b[K     |████████████████▊               | 563kB 20.1MB/s eta 0:00:01\r\u001b[K     |█████████████████               | 573kB 20.1MB/s eta 0:00:01\r\u001b[K     |█████████████████▎              | 583kB 20.1MB/s eta 0:00:01\r\u001b[K     |█████████████████▋              | 593kB 20.1MB/s eta 0:00:01\r\u001b[K     |██████████████████              | 604kB 20.1MB/s eta 0:00:01\r\u001b[K     |██████████████████▎             | 614kB 20.1MB/s eta 0:00:01\r\u001b[K     |██████████████████▌             | 624kB 20.1MB/s eta 0:00:01\r\u001b[K     |██████████████████▉             | 634kB 20.1MB/s eta 0:00:01\r\u001b[K     |███████████████████▏            | 645kB 20.1MB/s eta 0:00:01\r\u001b[K     |███████████████████▌            | 655kB 20.1MB/s eta 0:00:01\r\u001b[K     |███████████████████▊            | 665kB 20.1MB/s eta 0:00:01\r\u001b[K     |████████████████████            | 675kB 20.1MB/s eta 0:00:01\r\u001b[K     |████████████████████▍           | 686kB 20.1MB/s eta 0:00:01\r\u001b[K     |████████████████████▊           | 696kB 20.1MB/s eta 0:00:01\r\u001b[K     |█████████████████████           | 706kB 20.1MB/s eta 0:00:01\r\u001b[K     |█████████████████████▎          | 716kB 20.1MB/s eta 0:00:01\r\u001b[K     |█████████████████████▋          | 727kB 20.1MB/s eta 0:00:01\r\u001b[K     |██████████████████████          | 737kB 20.1MB/s eta 0:00:01\r\u001b[K     |██████████████████████▏         | 747kB 20.1MB/s eta 0:00:01\r\u001b[K     |██████████████████████▌         | 757kB 20.1MB/s eta 0:00:01\r\u001b[K     |██████████████████████▉         | 768kB 20.1MB/s eta 0:00:01\r\u001b[K     |███████████████████████         | 778kB 20.1MB/s eta 0:00:01\r\u001b[K     |███████████████████████▍        | 788kB 20.1MB/s eta 0:00:01\r\u001b[K     |███████████████████████▊        | 798kB 20.1MB/s eta 0:00:01\r\u001b[K     |████████████████████████        | 808kB 20.1MB/s eta 0:00:01\r\u001b[K     |████████████████████████▎       | 819kB 20.1MB/s eta 0:00:01\r\u001b[K     |████████████████████████▋       | 829kB 20.1MB/s eta 0:00:01\r\u001b[K     |█████████████████████████       | 839kB 20.1MB/s eta 0:00:01\r\u001b[K     |█████████████████████████▎      | 849kB 20.1MB/s eta 0:00:01\r\u001b[K     |█████████████████████████▌      | 860kB 20.1MB/s eta 0:00:01\r\u001b[K     |█████████████████████████▉      | 870kB 20.1MB/s eta 0:00:01\r\u001b[K     |██████████████████████████▏     | 880kB 20.1MB/s eta 0:00:01\r\u001b[K     |██████████████████████████▌     | 890kB 20.1MB/s eta 0:00:01\r\u001b[K     |██████████████████████████▊     | 901kB 20.1MB/s eta 0:00:01\r\u001b[K     |███████████████████████████     | 911kB 20.1MB/s eta 0:00:01\r\u001b[K     |███████████████████████████▍    | 921kB 20.1MB/s eta 0:00:01\r\u001b[K     |███████████████████████████▊    | 931kB 20.1MB/s eta 0:00:01\r\u001b[K     |████████████████████████████    | 942kB 20.1MB/s eta 0:00:01\r\u001b[K     |████████████████████████████▎   | 952kB 20.1MB/s eta 0:00:01\r\u001b[K     |████████████████████████████▋   | 962kB 20.1MB/s eta 0:00:01\r\u001b[K     |████████████████████████████▉   | 972kB 20.1MB/s eta 0:00:01\r\u001b[K     |█████████████████████████████▏  | 983kB 20.1MB/s eta 0:00:01\r\u001b[K     |█████████████████████████████▌  | 993kB 20.1MB/s eta 0:00:01\r\u001b[K     |█████████████████████████████▉  | 1.0MB 20.1MB/s eta 0:00:01\r\u001b[K     |██████████████████████████████  | 1.0MB 20.1MB/s eta 0:00:01\r\u001b[K     |██████████████████████████████▍ | 1.0MB 20.1MB/s eta 0:00:01\r\u001b[K     |██████████████████████████████▊ | 1.0MB 20.1MB/s eta 0:00:01\r\u001b[K     |███████████████████████████████ | 1.0MB 20.1MB/s eta 0:00:01\r\u001b[K     |███████████████████████████████▎| 1.1MB 20.1MB/s eta 0:00:01\r\u001b[K     |███████████████████████████████▋| 1.1MB 20.1MB/s eta 0:00:01\r\u001b[K     |████████████████████████████████| 1.1MB 20.1MB/s eta 0:00:01\r\u001b[K     |████████████████████████████████| 1.1MB 20.1MB/s \n",
            "\u001b[K     |████████████████████████████████| 174kB 60.6MB/s \n",
            "\u001b[K     |████████████████████████████████| 37.6MB 78kB/s \n",
            "\u001b[K     |████████████████████████████████| 1.2MB 58.8MB/s \n",
            "\u001b[K     |████████████████████████████████| 358kB 57.7MB/s \n",
            "\u001b[K     |████████████████████████████████| 706kB 52.5MB/s \n",
            "\u001b[K     |████████████████████████████████| 102kB 13.2MB/s \n",
            "\u001b[K     |████████████████████████████████| 645kB 49.1MB/s \n",
            "\u001b[K     |████████████████████████████████| 51kB 8.1MB/s \n",
            "\u001b[?25h  Building wheel for py-cpuinfo (setup.py) ... \u001b[?25l\u001b[?25hdone\n",
            "  Building wheel for seqeval (setup.py) ... \u001b[?25l\u001b[?25hdone\n"
          ],
          "name": "stdout"
        }
      ]
    },
    {
      "cell_type": "code",
      "metadata": {
        "id": "_XgTpm9ZxoN9"
      },
      "source": [
        "import os\n",
        "import shutil\n",
        "\n",
        "import tensorflow as tf\n",
        "import tensorflow_hub as hub\n",
        "import tensorflow_text as text\n",
        "from official.nlp import optimization  # to create AdamW optmizer\n",
        "\n",
        "import matplotlib.pyplot as plt\n",
        "\n",
        "tf.get_logger().setLevel('ERROR')"
      ],
      "execution_count": 4,
      "outputs": []
    },
    {
      "cell_type": "markdown",
      "metadata": {
        "id": "q6MugfEgDRpY"
      },
      "source": [
        "## Sentiment Analysis\n",
        "\n",
        "This notebook trains a sentiment analysis model to classify movie reviews as *positive* or *negative*, based on the text of the review.\n",
        "\n",
        "You'll use the [Large Movie Review Dataset](https://ai.stanford.edu/~amaas/data/sentiment/) that contains the text of 50,000 movie reviews from the [Internet Movie Database](https://www.imdb.com/)."
      ]
    },
    {
      "cell_type": "markdown",
      "metadata": {
        "id": "Vnvd4mrtPHHV"
      },
      "source": [
        "### Download the IMDB dataset\n",
        "\n",
        "Let's download and extract the dataset, then explore the directory structure.\n"
      ]
    },
    {
      "cell_type": "code",
      "metadata": {
        "id": "pOdqCMoQDRJL"
      },
      "source": [
        "url = 'https://ai.stanford.edu/~amaas/data/sentiment/aclImdb_v1.tar.gz'\n",
        "\n",
        "dataset = tf.keras.utils.get_file('aclImdb_v1.tar.gz', url,\n",
        "                                  untar=True, cache_dir='.',\n",
        "                                  cache_subdir='')\n",
        "\n",
        "dataset_dir = os.path.join(os.path.dirname(dataset), 'aclImdb')\n",
        "\n",
        "train_dir = os.path.join(dataset_dir, 'train')\n",
        "\n",
        "# remove unused folders to make it easier to load the data\n",
        "remove_dir = os.path.join(train_dir, 'unsup')\n",
        "shutil.rmtree(remove_dir)"
      ],
      "execution_count": null,
      "outputs": []
    },
    {
      "cell_type": "markdown",
      "metadata": {
        "id": "lN9lWCYfPo7b"
      },
      "source": [
        "Next, you will use the `text_dataset_from_directory` utility to create a labeled `tf.data.Dataset`.\n",
        "\n",
        "The IMDB dataset has already been divided into train and test, but it lacks a validation set. Let's create a validation set using an 80:20 split of the training data by using the `validation_split` argument below.\n",
        "\n",
        "Note:  When using the `validation_split` and `subset` arguments, make sure to either specify a random seed, or to pass `shuffle=False`, so that the validation and training splits have no overlap."
      ]
    },
    {
      "cell_type": "code",
      "metadata": {
        "id": "6IwI_2bcIeX8"
      },
      "source": [
        "AUTOTUNE = tf.data.AUTOTUNE\n",
        "batch_size = 32\n",
        "seed = 42\n",
        "\n",
        "# raw_train_ds = tf.keras.preprocessing.text_dataset_from_directory(\n",
        "#     'aclImdb/train',\n",
        "#     batch_size=batch_size,\n",
        "#     validation_split=0.2,\n",
        "#     subset='training',\n",
        "#     seed=seed)\n",
        "\n",
        "# class_names = raw_train_ds.class_names\n",
        "# train_ds = raw_train_ds.cache().prefetch(buffer_size=AUTOTUNE)\n",
        "\n",
        "# val_ds = tf.keras.preprocessing.text_dataset_from_directory(\n",
        "#     'aclImdb/train',\n",
        "#     batch_size=batch_size,\n",
        "#     validation_split=0.2,\n",
        "#     subset='validation',\n",
        "#     seed=seed)\n",
        "\n",
        "# val_ds = val_ds.cache().prefetch(buffer_size=AUTOTUNE)\n",
        "\n",
        "# test_ds = tf.keras.preprocessing.text_dataset_from_directory(\n",
        "#     'aclImdb/test',\n",
        "#     batch_size=batch_size)\n",
        "\n",
        "# test_ds = test_ds.cache().prefetch(buffer_size=AUTOTUNE)"
      ],
      "execution_count": 4,
      "outputs": []
    },
    {
      "cell_type": "markdown",
      "metadata": {
        "id": "HGm10A5HRGXp"
      },
      "source": [
        "Let's take a look at a few reviews."
      ]
    },
    {
      "cell_type": "code",
      "metadata": {
        "id": "dXN2bhxVp8bP"
      },
      "source": [
        "import pandas as pd"
      ],
      "execution_count": 5,
      "outputs": []
    },
    {
      "cell_type": "code",
      "metadata": {
        "id": "z7LYORMWqUd2"
      },
      "source": [
        "data = pd.read_json(\"drive/MyDrive/train.jsonl\", lines=True)"
      ],
      "execution_count": 8,
      "outputs": []
    },
    {
      "cell_type": "code",
      "metadata": {
        "id": "k3igUESCqnuG",
        "colab": {
          "base_uri": "https://localhost:8080/",
          "height": 424
        },
        "outputId": "28dd37ec-66f9-4220-85cc-1b333e53a9a4"
      },
      "source": [
        "data"
      ],
      "execution_count": 9,
      "outputs": [
        {
          "output_type": "execute_result",
          "data": {
            "text/html": [
              "<div>\n",
              "<style scoped>\n",
              "    .dataframe tbody tr th:only-of-type {\n",
              "        vertical-align: middle;\n",
              "    }\n",
              "\n",
              "    .dataframe tbody tr th {\n",
              "        vertical-align: top;\n",
              "    }\n",
              "\n",
              "    .dataframe thead th {\n",
              "        text-align: right;\n",
              "    }\n",
              "</style>\n",
              "<table border=\"1\" class=\"dataframe\">\n",
              "  <thead>\n",
              "    <tr style=\"text-align: right;\">\n",
              "      <th></th>\n",
              "      <th>id</th>\n",
              "      <th>img</th>\n",
              "      <th>label</th>\n",
              "      <th>text</th>\n",
              "    </tr>\n",
              "  </thead>\n",
              "  <tbody>\n",
              "    <tr>\n",
              "      <th>0</th>\n",
              "      <td>42953</td>\n",
              "      <td>img/42953.png</td>\n",
              "      <td>0</td>\n",
              "      <td>its their character not their color that matters</td>\n",
              "    </tr>\n",
              "    <tr>\n",
              "      <th>1</th>\n",
              "      <td>23058</td>\n",
              "      <td>img/23058.png</td>\n",
              "      <td>0</td>\n",
              "      <td>don't be afraid to love again everyone is not ...</td>\n",
              "    </tr>\n",
              "    <tr>\n",
              "      <th>2</th>\n",
              "      <td>13894</td>\n",
              "      <td>img/13894.png</td>\n",
              "      <td>0</td>\n",
              "      <td>putting bows on your pet</td>\n",
              "    </tr>\n",
              "    <tr>\n",
              "      <th>3</th>\n",
              "      <td>37408</td>\n",
              "      <td>img/37408.png</td>\n",
              "      <td>0</td>\n",
              "      <td>i love everything and everybody! except for sq...</td>\n",
              "    </tr>\n",
              "    <tr>\n",
              "      <th>4</th>\n",
              "      <td>82403</td>\n",
              "      <td>img/82403.png</td>\n",
              "      <td>0</td>\n",
              "      <td>everybody loves chocolate chip cookies, even h...</td>\n",
              "    </tr>\n",
              "    <tr>\n",
              "      <th>...</th>\n",
              "      <td>...</td>\n",
              "      <td>...</td>\n",
              "      <td>...</td>\n",
              "      <td>...</td>\n",
              "    </tr>\n",
              "    <tr>\n",
              "      <th>8495</th>\n",
              "      <td>10423</td>\n",
              "      <td>img/10423.png</td>\n",
              "      <td>1</td>\n",
              "      <td>nobody wants to hang auschwitz me</td>\n",
              "    </tr>\n",
              "    <tr>\n",
              "      <th>8496</th>\n",
              "      <td>98203</td>\n",
              "      <td>img/98203.png</td>\n",
              "      <td>1</td>\n",
              "      <td>when god grants you a child after 20 years of ...</td>\n",
              "    </tr>\n",
              "    <tr>\n",
              "      <th>8497</th>\n",
              "      <td>36947</td>\n",
              "      <td>img/36947.png</td>\n",
              "      <td>1</td>\n",
              "      <td>gays on social media: equality! body positivit...</td>\n",
              "    </tr>\n",
              "    <tr>\n",
              "      <th>8498</th>\n",
              "      <td>16492</td>\n",
              "      <td>img/16492.png</td>\n",
              "      <td>1</td>\n",
              "      <td>having a bad day? you could be a siamese twin ...</td>\n",
              "    </tr>\n",
              "    <tr>\n",
              "      <th>8499</th>\n",
              "      <td>15937</td>\n",
              "      <td>img/15937.png</td>\n",
              "      <td>1</td>\n",
              "      <td>i hate muslims too they take their religion to...</td>\n",
              "    </tr>\n",
              "  </tbody>\n",
              "</table>\n",
              "<p>8500 rows × 4 columns</p>\n",
              "</div>"
            ],
            "text/plain": [
              "         id  ...                                               text\n",
              "0     42953  ...   its their character not their color that matters\n",
              "1     23058  ...  don't be afraid to love again everyone is not ...\n",
              "2     13894  ...                           putting bows on your pet\n",
              "3     37408  ...  i love everything and everybody! except for sq...\n",
              "4     82403  ...  everybody loves chocolate chip cookies, even h...\n",
              "...     ...  ...                                                ...\n",
              "8495  10423  ...                  nobody wants to hang auschwitz me\n",
              "8496  98203  ...  when god grants you a child after 20 years of ...\n",
              "8497  36947  ...  gays on social media: equality! body positivit...\n",
              "8498  16492  ...  having a bad day? you could be a siamese twin ...\n",
              "8499  15937  ...  i hate muslims too they take their religion to...\n",
              "\n",
              "[8500 rows x 4 columns]"
            ]
          },
          "metadata": {
            "tags": []
          },
          "execution_count": 9
        }
      ]
    },
    {
      "cell_type": "code",
      "metadata": {
        "id": "rsEu0dTjrtFN"
      },
      "source": [
        "dataset = tf.data.Dataset.from_tensor_slices((data.text, data.label))\n"
      ],
      "execution_count": 10,
      "outputs": []
    },
    {
      "cell_type": "code",
      "metadata": {
        "id": "DLAAshabsqKS"
      },
      "source": [
        "DATASET_SIZE = len(dataset)\n",
        "train_size = int(0.8 * DATASET_SIZE)\n",
        "val_size = int(0.20 * DATASET_SIZE)\n",
        "full_dataset = dataset.shuffle(buffer_size=42)\n",
        "\n",
        "train_dataset = full_dataset.take(train_size).batch(16)\n",
        "val_dataset = full_dataset.skip(train_size).batch(16)"
      ],
      "execution_count": 11,
      "outputs": []
    },
    {
      "cell_type": "code",
      "metadata": {
        "id": "JuxDkcvVIoev",
        "colab": {
          "base_uri": "https://localhost:8080/",
          "height": 219
        },
        "outputId": "73de3aad-269c-4c37-e28e-b42caaf3440a"
      },
      "source": [
        "for text_batch, label_batch in train_dataset.take(1):\n",
        "  for i in range(3):\n",
        "    print(f'Review: {text_batch.numpy()[i]}')\n",
        "    label = label_batch.numpy()[i]\n",
        "    print(f'Label : {label} ({class_names[label]})')"
      ],
      "execution_count": null,
      "outputs": [
        {
          "output_type": "stream",
          "text": [
            "Review: b\"when you can't decide to pre heat the oven or just throw the meal in right away\"\n"
          ],
          "name": "stdout"
        },
        {
          "output_type": "error",
          "ename": "NameError",
          "evalue": "ignored",
          "traceback": [
            "\u001b[0;31m---------------------------------------------------------------------------\u001b[0m",
            "\u001b[0;31mNameError\u001b[0m                                 Traceback (most recent call last)",
            "\u001b[0;32m<ipython-input-15-f536fe44423d>\u001b[0m in \u001b[0;36m<module>\u001b[0;34m()\u001b[0m\n\u001b[1;32m      3\u001b[0m     \u001b[0mprint\u001b[0m\u001b[0;34m(\u001b[0m\u001b[0;34mf'Review: {text_batch.numpy()[i]}'\u001b[0m\u001b[0;34m)\u001b[0m\u001b[0;34m\u001b[0m\u001b[0;34m\u001b[0m\u001b[0m\n\u001b[1;32m      4\u001b[0m     \u001b[0mlabel\u001b[0m \u001b[0;34m=\u001b[0m \u001b[0mlabel_batch\u001b[0m\u001b[0;34m.\u001b[0m\u001b[0mnumpy\u001b[0m\u001b[0;34m(\u001b[0m\u001b[0;34m)\u001b[0m\u001b[0;34m[\u001b[0m\u001b[0mi\u001b[0m\u001b[0;34m]\u001b[0m\u001b[0;34m\u001b[0m\u001b[0;34m\u001b[0m\u001b[0m\n\u001b[0;32m----> 5\u001b[0;31m     \u001b[0mprint\u001b[0m\u001b[0;34m(\u001b[0m\u001b[0;34mf'Label : {label} ({class_names[label]})'\u001b[0m\u001b[0;34m)\u001b[0m\u001b[0;34m\u001b[0m\u001b[0;34m\u001b[0m\u001b[0m\n\u001b[0m",
            "\u001b[0;31mNameError\u001b[0m: name 'class_names' is not defined"
          ]
        }
      ]
    },
    {
      "cell_type": "code",
      "metadata": {
        "id": "lUG5y8-Q1Ksq"
      },
      "source": [
        "test_data = pd.read_json(\"drive/MyDrive/test.jsonl\", lines=True)"
      ],
      "execution_count": 13,
      "outputs": []
    },
    {
      "cell_type": "code",
      "metadata": {
        "id": "CcF5-r-L1Q_N"
      },
      "source": [
        "test_ds = tf.data.Dataset.from_tensor_slices((test_data.text))"
      ],
      "execution_count": 14,
      "outputs": []
    },
    {
      "cell_type": "code",
      "metadata": {
        "id": "GCGbiNmszBs5"
      },
      "source": [
        "from tqdm import tqdm "
      ],
      "execution_count": 17,
      "outputs": []
    },
    {
      "cell_type": "code",
      "metadata": {
        "id": "CUsoIWaBYE2c"
      },
      "source": [
        "path = 'drive/MyDrive/resized.csv'"
      ],
      "execution_count": 21,
      "outputs": []
    },
    {
      "cell_type": "code",
      "metadata": {
        "id": "QYx04m3o0rAj"
      },
      "source": [
        "import pandas as pd"
      ],
      "execution_count": 22,
      "outputs": []
    },
    {
      "cell_type": "code",
      "metadata": {
        "id": "GYoATo3Z0veB"
      },
      "source": [
        "df = pd.read_csv(path)"
      ],
      "execution_count": 23,
      "outputs": []
    },
    {
      "cell_type": "code",
      "metadata": {
        "colab": {
          "base_uri": "https://localhost:8080/",
          "height": 139
        },
        "id": "Ntz0HeAr00yc",
        "outputId": "274afac1-a72b-4b5d-dcf6-08ab25c31e90"
      },
      "source": [
        "df.iloc[0][2]"
      ],
      "execution_count": 29,
      "outputs": [
        {
          "output_type": "execute_result",
          "data": {
            "application/vnd.google.colaboratory.intrinsic+json": {
              "type": "string"
            },
            "text/plain": [
              "'[[[[ 33  33  33]\\n   [ 47  47  47]\\n   [ 40  40  40]\\n   ...\\n   [ 24  24  24]\\n   [ 56  56  56]\\n   [ 56  56  56]]\\n\\n  [[ 58  58  58]\\n   [ 43  43  43]\\n   [ 35  35  35]\\n   ...\\n   [ 22  22  22]\\n   [ 20  20  20]\\n   [ 23  23  23]]\\n\\n  [[ 33  33  33]\\n   [ 33  33  33]\\n   [ 33  33  33]\\n   ...\\n   [ 18  18  18]\\n   [ 19  19  19]\\n   [ 20  20  20]]\\n\\n  ...\\n\\n  [[ 34  34  34]\\n   [ 36  36  36]\\n   [ 39  39  39]\\n   ...\\n   [102 102 102]\\n   [ 84  84  84]\\n   [124 124 124]]\\n\\n  [[ 34  34  34]\\n   [ 36  36  36]\\n   [ 39  39  39]\\n   ...\\n   [ 78  78  78]\\n   [ 33  33  33]\\n   [ 51  51  51]]\\n\\n  [[ 33  33  33]\\n   [ 33  33  33]\\n   [ 37  37  37]\\n   ...\\n   [ 76  76  76]\\n   [ 39  39  39]\\n   [ 49  49  49]]]]'"
            ]
          },
          "metadata": {
            "tags": []
          },
          "execution_count": 29
        }
      ]
    },
    {
      "cell_type": "markdown",
      "metadata": {
        "id": "dX8FtlpGJRE6"
      },
      "source": [
        "## Loading models from TensorFlow Hub\n",
        "\n",
        "Here you can choose which BERT model you will load from TensorFlow Hub and fine-tune. There are multiple BERT models available.\n",
        "\n",
        "  - [BERT-Base](https://tfhub.dev/tensorflow/bert_en_uncased_L-12_H-768_A-12/3), [Uncased](https://tfhub.dev/tensorflow/bert_en_uncased_L-12_H-768_A-12/3) and [seven more models](https://tfhub.dev/google/collections/bert/1) with trained weights released by the original BERT authors.\n",
        "  - [Small BERTs](https://tfhub.dev/google/collections/bert/1) have the same general architecture but fewer and/or smaller Transformer blocks, which lets you explore tradeoffs between speed, size and quality.\n",
        "  - [ALBERT](https://tfhub.dev/google/collections/albert/1): four different sizes of \"A Lite BERT\" that reduces model size (but not computation time) by sharing parameters between layers.\n",
        "  - [BERT Experts](https://tfhub.dev/google/collections/experts/bert/1): eight models that all have the BERT-base architecture but offer a choice between different pre-training domains, to align more closely with the target task.\n",
        "  - [Electra](https://tfhub.dev/google/collections/electra/1) has the same architecture as BERT (in three different sizes), but gets pre-trained as a discriminator in a set-up that resembles a Generative Adversarial Network (GAN).\n",
        "  - BERT with Talking-Heads Attention and Gated GELU [[base](https://tfhub.dev/tensorflow/talkheads_ggelu_bert_en_base/1), [large](https://tfhub.dev/tensorflow/talkheads_ggelu_bert_en_large/1)] has two improvements to the core of the Transformer architecture.\n",
        "\n",
        "The model documentation on TensorFlow Hub has more details and references to the\n",
        "research literature. Follow the links above, or click on the [`tfhub.dev`](http://tfhub.dev) URL\n",
        "printed after the next cell execution.\n",
        "\n",
        "The suggestion is to start with a Small BERT (with fewer parameters) since they are faster to fine-tune. If you like a small model but with higher accuracy, ALBERT might be your next option. If you want even better accuracy, choose\n",
        "one of the classic BERT sizes or their recent refinements like Electra, Talking Heads, or a BERT Expert.\n",
        "\n",
        "Aside from the models available below, there are [multiple versions](https://tfhub.dev/google/collections/transformer_encoders_text/1) of the models that are larger and can yield even better accuracy, but they are too big to be fine-tuned on a single GPU. You will be able to do that on the [Solve GLUE tasks using BERT on a TPU colab](https://www.tensorflow.org/tutorials/text/solve_glue_tasks_using_bert_on_tpu).\n",
        "\n",
        "You'll see in the code below that switching the tfhub.dev URL is enough to try any of these models, because all the differences between them are encapsulated in the SavedModels from TF Hub."
      ]
    },
    {
      "cell_type": "code",
      "metadata": {
        "cellView": "form",
        "id": "y8_ctG55-uTX",
        "colab": {
          "base_uri": "https://localhost:8080/"
        },
        "outputId": "3de818d4-9255-440e-d5c5-4d00a77ef957"
      },
      "source": [
        "#@title Choose a BERT model to fine-tune\n",
        "\n",
        "bert_model_name = 'electra_base'  #@param [\"bert_en_uncased_L-12_H-768_A-12\", \"bert_en_cased_L-12_H-768_A-12\", \"bert_multi_cased_L-12_H-768_A-12\", \"small_bert/bert_en_uncased_L-2_H-128_A-2\", \"small_bert/bert_en_uncased_L-2_H-256_A-4\", \"small_bert/bert_en_uncased_L-2_H-512_A-8\", \"small_bert/bert_en_uncased_L-2_H-768_A-12\", \"small_bert/bert_en_uncased_L-4_H-128_A-2\", \"small_bert/bert_en_uncased_L-4_H-256_A-4\", \"small_bert/bert_en_uncased_L-4_H-512_A-8\", \"small_bert/bert_en_uncased_L-4_H-768_A-12\", \"small_bert/bert_en_uncased_L-6_H-128_A-2\", \"small_bert/bert_en_uncased_L-6_H-256_A-4\", \"small_bert/bert_en_uncased_L-6_H-512_A-8\", \"small_bert/bert_en_uncased_L-6_H-768_A-12\", \"small_bert/bert_en_uncased_L-8_H-128_A-2\", \"small_bert/bert_en_uncased_L-8_H-256_A-4\", \"small_bert/bert_en_uncased_L-8_H-512_A-8\", \"small_bert/bert_en_uncased_L-8_H-768_A-12\", \"small_bert/bert_en_uncased_L-10_H-128_A-2\", \"small_bert/bert_en_uncased_L-10_H-256_A-4\", \"small_bert/bert_en_uncased_L-10_H-512_A-8\", \"small_bert/bert_en_uncased_L-10_H-768_A-12\", \"small_bert/bert_en_uncased_L-12_H-128_A-2\", \"small_bert/bert_en_uncased_L-12_H-256_A-4\", \"small_bert/bert_en_uncased_L-12_H-512_A-8\", \"small_bert/bert_en_uncased_L-12_H-768_A-12\", \"albert_en_base\", \"electra_small\", \"electra_base\", \"experts_pubmed\", \"experts_wiki_books\", \"talking-heads_base\"]\n",
        "\n",
        "map_name_to_handle = {\n",
        "    'bert_en_uncased_L-12_H-768_A-12':\n",
        "        'https://tfhub.dev/tensorflow/bert_en_uncased_L-12_H-768_A-12/3',\n",
        "    'bert_en_cased_L-12_H-768_A-12':\n",
        "        'https://tfhub.dev/tensorflow/bert_en_cased_L-12_H-768_A-12/3',\n",
        "    'bert_multi_cased_L-12_H-768_A-12':\n",
        "        'https://tfhub.dev/tensorflow/bert_multi_cased_L-12_H-768_A-12/3',\n",
        "    'small_bert/bert_en_uncased_L-2_H-128_A-2':\n",
        "        'https://tfhub.dev/tensorflow/small_bert/bert_en_uncased_L-2_H-128_A-2/1',\n",
        "    'small_bert/bert_en_uncased_L-2_H-256_A-4':\n",
        "        'https://tfhub.dev/tensorflow/small_bert/bert_en_uncased_L-2_H-256_A-4/1',\n",
        "    'small_bert/bert_en_uncased_L-2_H-512_A-8':\n",
        "        'https://tfhub.dev/tensorflow/small_bert/bert_en_uncased_L-2_H-512_A-8/1',\n",
        "    'small_bert/bert_en_uncased_L-2_H-768_A-12':\n",
        "        'https://tfhub.dev/tensorflow/small_bert/bert_en_uncased_L-2_H-768_A-12/1',\n",
        "    'small_bert/bert_en_uncased_L-4_H-128_A-2':\n",
        "        'https://tfhub.dev/tensorflow/small_bert/bert_en_uncased_L-4_H-128_A-2/1',\n",
        "    'small_bert/bert_en_uncased_L-4_H-256_A-4':\n",
        "        'https://tfhub.dev/tensorflow/small_bert/bert_en_uncased_L-4_H-256_A-4/1',\n",
        "    'small_bert/bert_en_uncased_L-4_H-512_A-8':\n",
        "        'https://tfhub.dev/tensorflow/small_bert/bert_en_uncased_L-4_H-512_A-8/1',\n",
        "    'small_bert/bert_en_uncased_L-4_H-768_A-12':\n",
        "        'https://tfhub.dev/tensorflow/small_bert/bert_en_uncased_L-4_H-768_A-12/1',\n",
        "    'small_bert/bert_en_uncased_L-6_H-128_A-2':\n",
        "        'https://tfhub.dev/tensorflow/small_bert/bert_en_uncased_L-6_H-128_A-2/1',\n",
        "    'small_bert/bert_en_uncased_L-6_H-256_A-4':\n",
        "        'https://tfhub.dev/tensorflow/small_bert/bert_en_uncased_L-6_H-256_A-4/1',\n",
        "    'small_bert/bert_en_uncased_L-6_H-512_A-8':\n",
        "        'https://tfhub.dev/tensorflow/small_bert/bert_en_uncased_L-6_H-512_A-8/1',\n",
        "    'small_bert/bert_en_uncased_L-6_H-768_A-12':\n",
        "        'https://tfhub.dev/tensorflow/small_bert/bert_en_uncased_L-6_H-768_A-12/1',\n",
        "    'small_bert/bert_en_uncased_L-8_H-128_A-2':\n",
        "        'https://tfhub.dev/tensorflow/small_bert/bert_en_uncased_L-8_H-128_A-2/1',\n",
        "    'small_bert/bert_en_uncased_L-8_H-256_A-4':\n",
        "        'https://tfhub.dev/tensorflow/small_bert/bert_en_uncased_L-8_H-256_A-4/1',\n",
        "    'small_bert/bert_en_uncased_L-8_H-512_A-8':\n",
        "        'https://tfhub.dev/tensorflow/small_bert/bert_en_uncased_L-8_H-512_A-8/1',\n",
        "    'small_bert/bert_en_uncased_L-8_H-768_A-12':\n",
        "        'https://tfhub.dev/tensorflow/small_bert/bert_en_uncased_L-8_H-768_A-12/1',\n",
        "    'small_bert/bert_en_uncased_L-10_H-128_A-2':\n",
        "        'https://tfhub.dev/tensorflow/small_bert/bert_en_uncased_L-10_H-128_A-2/1',\n",
        "    'small_bert/bert_en_uncased_L-10_H-256_A-4':\n",
        "        'https://tfhub.dev/tensorflow/small_bert/bert_en_uncased_L-10_H-256_A-4/1',\n",
        "    'small_bert/bert_en_uncased_L-10_H-512_A-8':\n",
        "        'https://tfhub.dev/tensorflow/small_bert/bert_en_uncased_L-10_H-512_A-8/1',\n",
        "    'small_bert/bert_en_uncased_L-10_H-768_A-12':\n",
        "        'https://tfhub.dev/tensorflow/small_bert/bert_en_uncased_L-10_H-768_A-12/1',\n",
        "    'small_bert/bert_en_uncased_L-12_H-128_A-2':\n",
        "        'https://tfhub.dev/tensorflow/small_bert/bert_en_uncased_L-12_H-128_A-2/1',\n",
        "    'small_bert/bert_en_uncased_L-12_H-256_A-4':\n",
        "        'https://tfhub.dev/tensorflow/small_bert/bert_en_uncased_L-12_H-256_A-4/1',\n",
        "    'small_bert/bert_en_uncased_L-12_H-512_A-8':\n",
        "        'https://tfhub.dev/tensorflow/small_bert/bert_en_uncased_L-12_H-512_A-8/1',\n",
        "    'small_bert/bert_en_uncased_L-12_H-768_A-12':\n",
        "        'https://tfhub.dev/tensorflow/small_bert/bert_en_uncased_L-12_H-768_A-12/1',\n",
        "    'albert_en_base':\n",
        "        'https://tfhub.dev/tensorflow/albert_en_base/2',\n",
        "    'electra_small':\n",
        "        'https://tfhub.dev/google/electra_small/2',\n",
        "    'electra_base':\n",
        "        'https://tfhub.dev/google/electra_base/2',\n",
        "    'experts_pubmed':\n",
        "        'https://tfhub.dev/google/experts/bert/pubmed/2',\n",
        "    'experts_wiki_books':\n",
        "        'https://tfhub.dev/google/experts/bert/wiki_books/2',\n",
        "    'talking-heads_base':\n",
        "        'https://tfhub.dev/tensorflow/talkheads_ggelu_bert_en_base/1',\n",
        "}\n",
        "\n",
        "map_model_to_preprocess = {\n",
        "    'bert_en_uncased_L-12_H-768_A-12':\n",
        "        'https://tfhub.dev/tensorflow/bert_en_uncased_preprocess/3',\n",
        "    'bert_en_cased_L-12_H-768_A-12':\n",
        "        'https://tfhub.dev/tensorflow/bert_en_cased_preprocess/3',\n",
        "    'small_bert/bert_en_uncased_L-2_H-128_A-2':\n",
        "        'https://tfhub.dev/tensorflow/bert_en_uncased_preprocess/3',\n",
        "    'small_bert/bert_en_uncased_L-2_H-256_A-4':\n",
        "        'https://tfhub.dev/tensorflow/bert_en_uncased_preprocess/3',\n",
        "    'small_bert/bert_en_uncased_L-2_H-512_A-8':\n",
        "        'https://tfhub.dev/tensorflow/bert_en_uncased_preprocess/3',\n",
        "    'small_bert/bert_en_uncased_L-2_H-768_A-12':\n",
        "        'https://tfhub.dev/tensorflow/bert_en_uncased_preprocess/3',\n",
        "    'small_bert/bert_en_uncased_L-4_H-128_A-2':\n",
        "        'https://tfhub.dev/tensorflow/bert_en_uncased_preprocess/3',\n",
        "    'small_bert/bert_en_uncased_L-4_H-256_A-4':\n",
        "        'https://tfhub.dev/tensorflow/bert_en_uncased_preprocess/3',\n",
        "    'small_bert/bert_en_uncased_L-4_H-512_A-8':\n",
        "        'https://tfhub.dev/tensorflow/bert_en_uncased_preprocess/3',\n",
        "    'small_bert/bert_en_uncased_L-4_H-768_A-12':\n",
        "        'https://tfhub.dev/tensorflow/bert_en_uncased_preprocess/3',\n",
        "    'small_bert/bert_en_uncased_L-6_H-128_A-2':\n",
        "        'https://tfhub.dev/tensorflow/bert_en_uncased_preprocess/3',\n",
        "    'small_bert/bert_en_uncased_L-6_H-256_A-4':\n",
        "        'https://tfhub.dev/tensorflow/bert_en_uncased_preprocess/3',\n",
        "    'small_bert/bert_en_uncased_L-6_H-512_A-8':\n",
        "        'https://tfhub.dev/tensorflow/bert_en_uncased_preprocess/3',\n",
        "    'small_bert/bert_en_uncased_L-6_H-768_A-12':\n",
        "        'https://tfhub.dev/tensorflow/bert_en_uncased_preprocess/3',\n",
        "    'small_bert/bert_en_uncased_L-8_H-128_A-2':\n",
        "        'https://tfhub.dev/tensorflow/bert_en_uncased_preprocess/3',\n",
        "    'small_bert/bert_en_uncased_L-8_H-256_A-4':\n",
        "        'https://tfhub.dev/tensorflow/bert_en_uncased_preprocess/3',\n",
        "    'small_bert/bert_en_uncased_L-8_H-512_A-8':\n",
        "        'https://tfhub.dev/tensorflow/bert_en_uncased_preprocess/3',\n",
        "    'small_bert/bert_en_uncased_L-8_H-768_A-12':\n",
        "        'https://tfhub.dev/tensorflow/bert_en_uncased_preprocess/3',\n",
        "    'small_bert/bert_en_uncased_L-10_H-128_A-2':\n",
        "        'https://tfhub.dev/tensorflow/bert_en_uncased_preprocess/3',\n",
        "    'small_bert/bert_en_uncased_L-10_H-256_A-4':\n",
        "        'https://tfhub.dev/tensorflow/bert_en_uncased_preprocess/3',\n",
        "    'small_bert/bert_en_uncased_L-10_H-512_A-8':\n",
        "        'https://tfhub.dev/tensorflow/bert_en_uncased_preprocess/3',\n",
        "    'small_bert/bert_en_uncased_L-10_H-768_A-12':\n",
        "        'https://tfhub.dev/tensorflow/bert_en_uncased_preprocess/3',\n",
        "    'small_bert/bert_en_uncased_L-12_H-128_A-2':\n",
        "        'https://tfhub.dev/tensorflow/bert_en_uncased_preprocess/3',\n",
        "    'small_bert/bert_en_uncased_L-12_H-256_A-4':\n",
        "        'https://tfhub.dev/tensorflow/bert_en_uncased_preprocess/3',\n",
        "    'small_bert/bert_en_uncased_L-12_H-512_A-8':\n",
        "        'https://tfhub.dev/tensorflow/bert_en_uncased_preprocess/3',\n",
        "    'small_bert/bert_en_uncased_L-12_H-768_A-12':\n",
        "        'https://tfhub.dev/tensorflow/bert_en_uncased_preprocess/3',\n",
        "    'bert_multi_cased_L-12_H-768_A-12':\n",
        "        'https://tfhub.dev/tensorflow/bert_multi_cased_preprocess/3',\n",
        "    'albert_en_base':\n",
        "        'https://tfhub.dev/tensorflow/albert_en_preprocess/3',\n",
        "    'electra_small':\n",
        "        'https://tfhub.dev/tensorflow/bert_en_uncased_preprocess/3',\n",
        "    'electra_base':\n",
        "        'https://tfhub.dev/tensorflow/bert_en_uncased_preprocess/3',\n",
        "    'experts_pubmed':\n",
        "        'https://tfhub.dev/tensorflow/bert_en_uncased_preprocess/3',\n",
        "    'experts_wiki_books':\n",
        "        'https://tfhub.dev/tensorflow/bert_en_uncased_preprocess/3',\n",
        "    'talking-heads_base':\n",
        "        'https://tfhub.dev/tensorflow/bert_en_uncased_preprocess/3',\n",
        "}\n",
        "\n",
        "tfhub_handle_encoder = map_name_to_handle[bert_model_name]\n",
        "tfhub_handle_preprocess = map_model_to_preprocess[bert_model_name]\n",
        "\n",
        "print(f'BERT model selected           : {tfhub_handle_encoder}')\n",
        "print(f'Preprocess model auto-selected: {tfhub_handle_preprocess}')"
      ],
      "execution_count": 7,
      "outputs": [
        {
          "output_type": "stream",
          "text": [
            "BERT model selected           : https://tfhub.dev/google/electra_base/2\n",
            "Preprocess model auto-selected: https://tfhub.dev/tensorflow/bert_en_uncased_preprocess/3\n"
          ],
          "name": "stdout"
        }
      ]
    },
    {
      "cell_type": "markdown",
      "metadata": {
        "id": "7WrcxxTRDdHi"
      },
      "source": [
        "## The preprocessing model\n",
        "\n",
        "Text inputs need to be transformed to numeric token ids and arranged in several Tensors before being input to BERT. TensorFlow Hub provides a matching preprocessing model for each of the BERT models discussed above, which implements this transformation using TF ops from the TF.text library. It is not necessary to run pure Python code outside your TensorFlow model to preprocess text.\n",
        "\n",
        "The preprocessing model must be the one referenced by the documentation of the BERT model, which you can read at the URL printed above. For BERT models from the drop-down above, the preprocessing model is selected automatically.\n",
        "\n",
        "Note: You will load the preprocessing model into a [hub.KerasLayer](https://www.tensorflow.org/hub/api_docs/python/hub/KerasLayer) to compose your fine-tuned model. This is the preferred API to load a TF2-style SavedModel from TF Hub into a Keras model."
      ]
    },
    {
      "cell_type": "code",
      "metadata": {
        "id": "0SQi-jWd_jzq"
      },
      "source": [
        "bert_preprocess_model = hub.KerasLayer(tfhub_handle_preprocess)"
      ],
      "execution_count": null,
      "outputs": []
    },
    {
      "cell_type": "markdown",
      "metadata": {
        "id": "x4naBiEE_cZX"
      },
      "source": [
        "Let's try the preprocessing model on some text and see the output:"
      ]
    },
    {
      "cell_type": "code",
      "metadata": {
        "id": "r9-zCzJpnuwS",
        "colab": {
          "base_uri": "https://localhost:8080/"
        },
        "outputId": "4bb491db-9138-4545-b85f-3eac6f16846d"
      },
      "source": [
        "text_test = ['this is such an amazing movie!']\n",
        "text_preprocessed = bert_preprocess_model(text_test)\n",
        "\n",
        "print(f'Keys       : {list(text_preprocessed.keys())}')\n",
        "print(f'Shape      : {text_preprocessed[\"input_word_ids\"].shape}')\n",
        "print(f'Word Ids   : {text_preprocessed[\"input_word_ids\"][0, :12]}')\n",
        "print(f'Input Mask : {text_preprocessed[\"input_mask\"][0, :12]}')\n",
        "print(f'Type Ids   : {text_preprocessed[\"input_type_ids\"][0, :12]}')"
      ],
      "execution_count": null,
      "outputs": [
        {
          "output_type": "stream",
          "text": [
            "Keys       : ['input_word_ids', 'input_mask', 'input_type_ids']\n",
            "Shape      : (1, 128)\n",
            "Word Ids   : [   2   48   25  145   40 5289 1308  187    3    0    0    0]\n",
            "Input Mask : [1 1 1 1 1 1 1 1 1 0 0 0]\n",
            "Type Ids   : [0 0 0 0 0 0 0 0 0 0 0 0]\n"
          ],
          "name": "stdout"
        }
      ]
    },
    {
      "cell_type": "markdown",
      "metadata": {
        "id": "EqL7ihkN_862"
      },
      "source": [
        "As you can see, now you have the 3 outputs from the preprocessing that a BERT model would use (`input_words_id`, `input_mask` and `input_type_ids`).\n",
        "\n",
        "Some other important points:\n",
        "- The input is truncated to 128 tokens. The number of tokens can be customized, and you can see more details on the [Solve GLUE tasks using BERT on a TPU colab](https://www.tensorflow.org/tutorials/text/solve_glue_tasks_using_bert_on_tpu).\n",
        "- The `input_type_ids` only have one value (0) because this is a single sentence input. For a multiple sentence input, it would have one number for each input.\n",
        "\n",
        "Since this text preprocessor is a TensorFlow model, It can be included in your model directly."
      ]
    },
    {
      "cell_type": "markdown",
      "metadata": {
        "id": "DKnLPSEmtp9i"
      },
      "source": [
        "## Using the BERT model\n",
        "\n",
        "Before putting BERT into your own model, let's take a look at its outputs. You will load it from TF Hub and see the returned values."
      ]
    },
    {
      "cell_type": "code",
      "metadata": {
        "id": "tXxYpK8ixL34"
      },
      "source": [
        "bert_model = hub.KerasLayer(tfhub_handle_encoder)"
      ],
      "execution_count": null,
      "outputs": []
    },
    {
      "cell_type": "code",
      "metadata": {
        "id": "_OoF9mebuSZc",
        "colab": {
          "base_uri": "https://localhost:8080/"
        },
        "outputId": "faafa2ca-a3e9-4076-e3d7-26aac19ed954"
      },
      "source": [
        "bert_results = bert_model(text_preprocessed)\n",
        "\n",
        "print(f'Loaded BERT: {tfhub_handle_encoder}')\n",
        "print(f'Pooled Outputs Shape:{bert_results[\"pooled_output\"].shape}')\n",
        "print(f'Pooled Outputs Values:{bert_results[\"pooled_output\"][0, :12]}')\n",
        "print(f'Sequence Outputs Shape:{bert_results[\"sequence_output\"].shape}')\n",
        "print(f'Sequence Outputs Values:{bert_results[\"sequence_output\"][0, :12]}')"
      ],
      "execution_count": null,
      "outputs": [
        {
          "output_type": "stream",
          "text": [
            "Loaded BERT: https://tfhub.dev/tensorflow/albert_en_base/2\n",
            "Pooled Outputs Shape:(1, 768)\n",
            "Pooled Outputs Values:[ 0.5642009  -0.58338153  0.89203125 -0.88340575 -0.5900787  -0.97489256\n",
            "  0.59733707 -0.565075    0.6582608  -0.999905    0.92247003  0.5789065 ]\n",
            "Sequence Outputs Shape:(1, 128, 768)\n",
            "Sequence Outputs Values:[[ 0.9379119   0.28509057 -0.37701207 ...  0.19407773 -1.1221735\n",
            "   0.5021104 ]\n",
            " [ 1.6732261  -1.259339    0.98551273 ... -0.03488621  2.440246\n",
            "  -1.4151798 ]\n",
            " [ 1.5726185  -0.7276678  -0.61325175 ...  1.1369412  -0.24407259\n",
            "  -0.20238948]\n",
            " ...\n",
            " [ 0.46375355  0.78065187 -0.00772711 ...  0.36924443  0.9916427\n",
            "  -1.1032648 ]\n",
            " [ 0.44642958  0.8588988   0.020445   ...  0.4076947   1.0863223\n",
            "  -1.0217936 ]\n",
            " [ 0.46782312  0.8818837   0.02625137 ...  0.4404548   1.1098762\n",
            "  -1.0167123 ]]\n"
          ],
          "name": "stdout"
        }
      ]
    },
    {
      "cell_type": "markdown",
      "metadata": {
        "id": "sm61jDrezAll"
      },
      "source": [
        "The BERT models return a map with 3 important keys: `pooled_output`, `sequence_output`, `encoder_outputs`:\n",
        "\n",
        "- `pooled_output` to represent each input sequence as a whole. The shape is `[batch_size, H]`. You can think of this as an embedding for the entire movie review.\n",
        "- `sequence_output` represents each input token in the context. The shape is `[batch_size, seq_length, H]`. You can think of this as a contextual embedding for every token in the movie review.\n",
        "- `encoder_outputs` are the intermediate activations of the `L` Transformer blocks. `outputs[\"encoder_outputs\"][i]` is a Tensor of shape `[batch_size, seq_length, 1024]` with the outputs of the i-th Transformer block, for `0 <= i < L`. The last value of the list is equal to `sequence_output`.\n",
        "\n",
        "For the fine-tuning you are going to use the `pooled_output` array."
      ]
    },
    {
      "cell_type": "markdown",
      "metadata": {
        "id": "pDNKfAXbDnJH"
      },
      "source": [
        "## Define your model\n",
        "\n",
        "You will create a very simple fine-tuned model, with the preprocessing model, the selected BERT model, one Dense and a Dropout layer.\n",
        "\n",
        "Note: for more information about the base model's input and output you can use just follow the model's url for documentation. Here specifically you don't need to worry about it because the preprocessing model will take care of that for you.\n"
      ]
    },
    {
      "cell_type": "code",
      "metadata": {
        "id": "v6i-c04sPeKP"
      },
      "source": [
        "from keras.applications.vgg16 import VGG16"
      ],
      "execution_count": 1,
      "outputs": []
    },
    {
      "cell_type": "code",
      "metadata": {
        "colab": {
          "base_uri": "https://localhost:8080/"
        },
        "id": "aRI-NttHTWV3",
        "outputId": "e26d2420-6c1d-403f-8ff3-b46adec8fb70"
      },
      "source": [
        "  model = tf.keras.applications.VGG16(\n",
        "    include_top=True, weights='imagenet', input_shape=(224,224,3)\n",
        ")"
      ],
      "execution_count": 33,
      "outputs": [
        {
          "output_type": "stream",
          "text": [
            "Downloading data from https://storage.googleapis.com/tensorflow/keras-applications/vgg16/vgg16_weights_tf_dim_ordering_tf_kernels.h5\n",
            "553467904/553467096 [==============================] - 3s 0us/step\n"
          ],
          "name": "stdout"
        }
      ]
    },
    {
      "cell_type": "code",
      "metadata": {
        "colab": {
          "base_uri": "https://localhost:8080/"
        },
        "id": "_DNKXlaxTYfw",
        "outputId": "af6d70c2-dd59-4aa3-e85d-d352a0134f95"
      },
      "source": [
        "model.layers"
      ],
      "execution_count": 34,
      "outputs": [
        {
          "output_type": "execute_result",
          "data": {
            "text/plain": [
              "[<tensorflow.python.keras.engine.input_layer.InputLayer at 0x7fa96ff010d0>,\n",
              " <tensorflow.python.keras.layers.convolutional.Conv2D at 0x7fa96ff926d0>,\n",
              " <tensorflow.python.keras.layers.convolutional.Conv2D at 0x7fa96ff8c750>,\n",
              " <tensorflow.python.keras.layers.pooling.MaxPooling2D at 0x7fa96ffab350>,\n",
              " <tensorflow.python.keras.layers.convolutional.Conv2D at 0x7fa96ff6f250>,\n",
              " <tensorflow.python.keras.layers.convolutional.Conv2D at 0x7fa96fee8090>,\n",
              " <tensorflow.python.keras.layers.pooling.MaxPooling2D at 0x7fa96ff6f050>,\n",
              " <tensorflow.python.keras.layers.convolutional.Conv2D at 0x7fa96ff790d0>,\n",
              " <tensorflow.python.keras.layers.convolutional.Conv2D at 0x7fa96fe80b50>,\n",
              " <tensorflow.python.keras.layers.convolutional.Conv2D at 0x7fa96fe88b50>,\n",
              " <tensorflow.python.keras.layers.pooling.MaxPooling2D at 0x7fa96ff1c690>,\n",
              " <tensorflow.python.keras.layers.convolutional.Conv2D at 0x7fa96fe8efd0>,\n",
              " <tensorflow.python.keras.layers.convolutional.Conv2D at 0x7fa96fe92e10>,\n",
              " <tensorflow.python.keras.layers.convolutional.Conv2D at 0x7fa96fe98410>,\n",
              " <tensorflow.python.keras.layers.pooling.MaxPooling2D at 0x7fa96fe9d5d0>,\n",
              " <tensorflow.python.keras.layers.convolutional.Conv2D at 0x7fa96fea3d90>,\n",
              " <tensorflow.python.keras.layers.convolutional.Conv2D at 0x7fa96fea7e10>,\n",
              " <tensorflow.python.keras.layers.convolutional.Conv2D at 0x7fa96fe8e4d0>,\n",
              " <tensorflow.python.keras.layers.pooling.MaxPooling2D at 0x7fa96fee8dd0>,\n",
              " <tensorflow.python.keras.layers.core.Flatten at 0x7fa96ff6aa50>,\n",
              " <tensorflow.python.keras.layers.core.Dense at 0x7fa96ffb34d0>,\n",
              " <tensorflow.python.keras.layers.core.Dense at 0x7fa96fe88290>,\n",
              " <tensorflow.python.keras.layers.core.Dense at 0x7fa96feaddd0>]"
            ]
          },
          "metadata": {
            "tags": []
          },
          "execution_count": 34
        }
      ]
    },
    {
      "cell_type": "code",
      "metadata": {
        "id": "aksj743St9ga"
      },
      "source": [
        "def build_classifier_model():\n",
        "  text_input = tf.keras.layers.Input(shape=(), dtype=tf.string, name='text')\n",
        "  preprocessing_layer = hub.KerasLayer(tfhub_handle_preprocess, name='preprocessing')\n",
        "  encoder_inputs = preprocessing_layer(text_input)\n",
        "  encoder = hub.KerasLayer(tfhub_handle_encoder, trainable=True, name='BERT_encoder')\n",
        "  outputs = encoder(encoder_inputs)\n",
        "  net = outputs['pooled_output']\n",
        "  net = tf.keras.layers.Dropout(0.1)(net)\n",
        "  net = tf.keras.layers.Dense(128, activation='relu')(net)\n",
        "\n",
        "\n",
        "\n",
        "  model = VGG16(include_top=False, input_shape=(224,224,3))\n",
        "  # mark loaded layers as not trainable\n",
        "  for layer in model.layers:\n",
        "      layer.trainable = False\n",
        "  # add new classifier layers\n",
        "  flat1 = tf.keras.layers.Flatten()(model.layers[-1].output)\n",
        "  class1 = tf.keras.layers.Dense(128, activation='relu', kernel_initializer='he_uniform')(flat1)\n",
        "  mix_model = tf.keras.layers.concatenate([net, class1])\n",
        "  pre_out = tf.keras.layers.Dense(128, activation='relu')(mix_model)\n",
        "  net = tf.keras.layers.Dropout(0.1)(pre_out)\n",
        "\n",
        "  net = tf.keras.layers.Dense(1, activation='sigmoid', name='classifier')(net)\n",
        "\n",
        "  return tf.keras.Model(inputs=[text_input, model.inputs], outputs=net)"
      ],
      "execution_count": 12,
      "outputs": []
    },
    {
      "cell_type": "markdown",
      "metadata": {
        "id": "Zs4yhFraBuGQ"
      },
      "source": [
        "Let's check that the model runs with the output of the preprocessing model."
      ]
    },
    {
      "cell_type": "code",
      "metadata": {
        "id": "mGMF8AZcB2Zy"
      },
      "source": [
        "classifier_model = build_classifier_model()\n",
        "# bert_raw_result = classifier_model(tf.constant(text_test))\n",
        "# print(tf.sigmoid(bert_raw_result))"
      ],
      "execution_count": 13,
      "outputs": []
    },
    {
      "cell_type": "markdown",
      "metadata": {
        "id": "ZTUzNV2JE2G3"
      },
      "source": [
        "The output is meaningless, of course, because the model has not been trained yet.\n",
        "\n",
        "Let's take a look at the model's structure."
      ]
    },
    {
      "cell_type": "code",
      "metadata": {
        "id": "0EmzyHZXKIpm",
        "colab": {
          "base_uri": "https://localhost:8080/",
          "height": 1000
        },
        "outputId": "37a9836e-3e57-4562-f161-8e6ca0e439a8"
      },
      "source": [
        "tf.keras.utils.plot_model(classifier_model)"
      ],
      "execution_count": 14,
      "outputs": [
        {
          "output_type": "execute_result",
          "data": {
            "image/png": "[encoded data removed]",
            "text/plain": [
              "<IPython.core.display.Image object>"
            ]
          },
          "metadata": {
            "tags": []
          },
          "execution_count": 14
        }
      ]
    },
    {
      "cell_type": "markdown",
      "metadata": {
        "id": "WbUWoZMwc302"
      },
      "source": [
        "## Model training\n",
        "\n",
        "You now have all the pieces to train a model, including the preprocessing module, BERT encoder, data, and classifier."
      ]
    },
    {
      "cell_type": "markdown",
      "metadata": {
        "id": "WpJ3xcwDT56v"
      },
      "source": [
        "### Loss function\n",
        "\n",
        "Since this is a binary classification problem and the model outputs a probability (a single-unit layer), you'll use `losses.BinaryCrossentropy` loss function.\n"
      ]
    },
    {
      "cell_type": "code",
      "metadata": {
        "id": "OWPOZE-L3AgE"
      },
      "source": [
        "loss = tf.keras.losses.BinaryCrossentropy(from_logits=True)\n",
        "metrics = tf.metrics.BinaryAccuracy()"
      ],
      "execution_count": 15,
      "outputs": []
    },
    {
      "cell_type": "markdown",
      "metadata": {
        "id": "77psrpfzbxtp"
      },
      "source": [
        "### Optimizer\n",
        "\n",
        "For fine-tuning, let's use the same optimizer that BERT was originally trained with: the \"Adaptive Moments\" (Adam). This optimizer minimizes the prediction loss and does regularization by weight decay (not using moments), which is also known as [AdamW](https://arxiv.org/abs/1711.05101).\n",
        "\n",
        "For the learning rate (`init_lr`), we use the same schedule as BERT pre-training: linear decay of a notional initial learning rate, prefixed with a linear warm-up phase over the first 10% of training steps (`num_warmup_steps`). In line with the BERT paper, the initial learning rate is smaller for fine-tuning (best of 5e-5, 3e-5, 2e-5)."
      ]
    },
    {
      "cell_type": "code",
      "metadata": {
        "id": "P9eP2y9dbw32"
      },
      "source": [
        "epochs = 3\n",
        "steps_per_epoch = tf.data.experimental.cardinality(train_dataset).numpy()\n",
        "num_train_steps = steps_per_epoch * epochs\n",
        "num_warmup_steps = int(0.1*num_train_steps)\n",
        "\n",
        "init_lr = 3e-5\n",
        "optimizer = optimization.create_optimizer(init_lr=init_lr,\n",
        "                                          num_train_steps=num_train_steps,\n",
        "                                          num_warmup_steps=num_warmup_steps,\n",
        "                                          optimizer_type='adamw')"
      ],
      "execution_count": null,
      "outputs": []
    },
    {
      "cell_type": "markdown",
      "metadata": {
        "id": "SqlarlpC_v0g"
      },
      "source": [
        "### Loading the BERT model and training\n",
        "\n",
        "Using the `classifier_model` you created earlier, you can compile the model with the loss, metric and optimizer."
      ]
    },
    {
      "cell_type": "code",
      "metadata": {
        "id": "-7GPDhR98jsD"
      },
      "source": [
        "classifier_model.compile(optimizer=optimizer,\n",
        "                         loss=loss,\n",
        "                         metrics=metrics)"
      ],
      "execution_count": null,
      "outputs": []
    },
    {
      "cell_type": "markdown",
      "metadata": {
        "id": "CpBuV5j2cS_b"
      },
      "source": [
        "Note: training time will vary depending on the complexity of the BERT model you have selected."
      ]
    },
    {
      "cell_type": "code",
      "metadata": {
        "id": "HtfDFAnN_Neu",
        "colab": {
          "base_uri": "https://localhost:8080/",
          "height": 886
        },
        "outputId": "f03f909b-5acf-4a5c-de07-d5ecdcb7c937"
      },
      "source": [
        "print(f'Training model with {tfhub_handle_encoder}')\n",
        "history = classifier_model.fit(x=train_dataset,\n",
        "                               validation_data=val_dataset,\n",
        "                               epochs=epochs)"
      ],
      "execution_count": null,
      "outputs": [
        {
          "output_type": "stream",
          "text": [
            "Training model with https://tfhub.dev/google/experts/bert/wiki_books/2\n",
            "Epoch 1/3\n"
          ],
          "name": "stdout"
        },
        {
          "output_type": "error",
          "ename": "ValueError",
          "evalue": "ignored",
          "traceback": [
            "\u001b[0;31m---------------------------------------------------------------------------\u001b[0m",
            "\u001b[0;31mValueError\u001b[0m                                Traceback (most recent call last)",
            "\u001b[0;32m<ipython-input-156-eeecf72407b1>\u001b[0m in \u001b[0;36m<module>\u001b[0;34m()\u001b[0m\n\u001b[1;32m      2\u001b[0m history = classifier_model.fit(x=train_dataset,\n\u001b[1;32m      3\u001b[0m                                \u001b[0mvalidation_data\u001b[0m\u001b[0;34m=\u001b[0m\u001b[0mval_dataset\u001b[0m\u001b[0;34m,\u001b[0m\u001b[0;34m\u001b[0m\u001b[0;34m\u001b[0m\u001b[0m\n\u001b[0;32m----> 4\u001b[0;31m                                epochs=epochs)\n\u001b[0m",
            "\u001b[0;32m/usr/local/lib/python3.7/dist-packages/tensorflow/python/keras/engine/training.py\u001b[0m in \u001b[0;36mfit\u001b[0;34m(self, x, y, batch_size, epochs, verbose, callbacks, validation_split, validation_data, shuffle, class_weight, sample_weight, initial_epoch, steps_per_epoch, validation_steps, validation_batch_size, validation_freq, max_queue_size, workers, use_multiprocessing)\u001b[0m\n\u001b[1;32m   1098\u001b[0m                 _r=1):\n\u001b[1;32m   1099\u001b[0m               \u001b[0mcallbacks\u001b[0m\u001b[0;34m.\u001b[0m\u001b[0mon_train_batch_begin\u001b[0m\u001b[0;34m(\u001b[0m\u001b[0mstep\u001b[0m\u001b[0;34m)\u001b[0m\u001b[0;34m\u001b[0m\u001b[0;34m\u001b[0m\u001b[0m\n\u001b[0;32m-> 1100\u001b[0;31m               \u001b[0mtmp_logs\u001b[0m \u001b[0;34m=\u001b[0m \u001b[0mself\u001b[0m\u001b[0;34m.\u001b[0m\u001b[0mtrain_function\u001b[0m\u001b[0;34m(\u001b[0m\u001b[0miterator\u001b[0m\u001b[0;34m)\u001b[0m\u001b[0;34m\u001b[0m\u001b[0;34m\u001b[0m\u001b[0m\n\u001b[0m\u001b[1;32m   1101\u001b[0m               \u001b[0;32mif\u001b[0m \u001b[0mdata_handler\u001b[0m\u001b[0;34m.\u001b[0m\u001b[0mshould_sync\u001b[0m\u001b[0;34m:\u001b[0m\u001b[0;34m\u001b[0m\u001b[0;34m\u001b[0m\u001b[0m\n\u001b[1;32m   1102\u001b[0m                 \u001b[0mcontext\u001b[0m\u001b[0;34m.\u001b[0m\u001b[0masync_wait\u001b[0m\u001b[0;34m(\u001b[0m\u001b[0;34m)\u001b[0m\u001b[0;34m\u001b[0m\u001b[0;34m\u001b[0m\u001b[0m\n",
            "\u001b[0;32m/usr/local/lib/python3.7/dist-packages/tensorflow/python/eager/def_function.py\u001b[0m in \u001b[0;36m__call__\u001b[0;34m(self, *args, **kwds)\u001b[0m\n\u001b[1;32m    826\u001b[0m     \u001b[0mtracing_count\u001b[0m \u001b[0;34m=\u001b[0m \u001b[0mself\u001b[0m\u001b[0;34m.\u001b[0m\u001b[0mexperimental_get_tracing_count\u001b[0m\u001b[0;34m(\u001b[0m\u001b[0;34m)\u001b[0m\u001b[0;34m\u001b[0m\u001b[0;34m\u001b[0m\u001b[0m\n\u001b[1;32m    827\u001b[0m     \u001b[0;32mwith\u001b[0m \u001b[0mtrace\u001b[0m\u001b[0;34m.\u001b[0m\u001b[0mTrace\u001b[0m\u001b[0;34m(\u001b[0m\u001b[0mself\u001b[0m\u001b[0;34m.\u001b[0m\u001b[0m_name\u001b[0m\u001b[0;34m)\u001b[0m \u001b[0;32mas\u001b[0m \u001b[0mtm\u001b[0m\u001b[0;34m:\u001b[0m\u001b[0;34m\u001b[0m\u001b[0;34m\u001b[0m\u001b[0m\n\u001b[0;32m--> 828\u001b[0;31m       \u001b[0mresult\u001b[0m \u001b[0;34m=\u001b[0m \u001b[0mself\u001b[0m\u001b[0;34m.\u001b[0m\u001b[0m_call\u001b[0m\u001b[0;34m(\u001b[0m\u001b[0;34m*\u001b[0m\u001b[0margs\u001b[0m\u001b[0;34m,\u001b[0m \u001b[0;34m**\u001b[0m\u001b[0mkwds\u001b[0m\u001b[0;34m)\u001b[0m\u001b[0;34m\u001b[0m\u001b[0;34m\u001b[0m\u001b[0m\n\u001b[0m\u001b[1;32m    829\u001b[0m       \u001b[0mcompiler\u001b[0m \u001b[0;34m=\u001b[0m \u001b[0;34m\"xla\"\u001b[0m \u001b[0;32mif\u001b[0m \u001b[0mself\u001b[0m\u001b[0;34m.\u001b[0m\u001b[0m_experimental_compile\u001b[0m \u001b[0;32melse\u001b[0m \u001b[0;34m\"nonXla\"\u001b[0m\u001b[0;34m\u001b[0m\u001b[0;34m\u001b[0m\u001b[0m\n\u001b[1;32m    830\u001b[0m       \u001b[0mnew_tracing_count\u001b[0m \u001b[0;34m=\u001b[0m \u001b[0mself\u001b[0m\u001b[0;34m.\u001b[0m\u001b[0mexperimental_get_tracing_count\u001b[0m\u001b[0;34m(\u001b[0m\u001b[0;34m)\u001b[0m\u001b[0;34m\u001b[0m\u001b[0;34m\u001b[0m\u001b[0m\n",
            "\u001b[0;32m/usr/local/lib/python3.7/dist-packages/tensorflow/python/eager/def_function.py\u001b[0m in \u001b[0;36m_call\u001b[0;34m(self, *args, **kwds)\u001b[0m\n\u001b[1;32m    860\u001b[0m       \u001b[0;31m# In this case we have not created variables on the first call. So we can\u001b[0m\u001b[0;34m\u001b[0m\u001b[0;34m\u001b[0m\u001b[0;34m\u001b[0m\u001b[0m\n\u001b[1;32m    861\u001b[0m       \u001b[0;31m# run the first trace but we should fail if variables are created.\u001b[0m\u001b[0;34m\u001b[0m\u001b[0;34m\u001b[0m\u001b[0;34m\u001b[0m\u001b[0m\n\u001b[0;32m--> 862\u001b[0;31m       \u001b[0mresults\u001b[0m \u001b[0;34m=\u001b[0m \u001b[0mself\u001b[0m\u001b[0;34m.\u001b[0m\u001b[0m_stateful_fn\u001b[0m\u001b[0;34m(\u001b[0m\u001b[0;34m*\u001b[0m\u001b[0margs\u001b[0m\u001b[0;34m,\u001b[0m \u001b[0;34m**\u001b[0m\u001b[0mkwds\u001b[0m\u001b[0;34m)\u001b[0m\u001b[0;34m\u001b[0m\u001b[0;34m\u001b[0m\u001b[0m\n\u001b[0m\u001b[1;32m    863\u001b[0m       \u001b[0;32mif\u001b[0m \u001b[0mself\u001b[0m\u001b[0;34m.\u001b[0m\u001b[0m_created_variables\u001b[0m\u001b[0;34m:\u001b[0m\u001b[0;34m\u001b[0m\u001b[0;34m\u001b[0m\u001b[0m\n\u001b[1;32m    864\u001b[0m         raise ValueError(\"Creating variables on a non-first call to a function\"\n",
            "\u001b[0;32m/usr/local/lib/python3.7/dist-packages/tensorflow/python/eager/function.py\u001b[0m in \u001b[0;36m__call__\u001b[0;34m(self, *args, **kwargs)\u001b[0m\n\u001b[1;32m   2939\u001b[0m     \u001b[0;32mwith\u001b[0m \u001b[0mself\u001b[0m\u001b[0;34m.\u001b[0m\u001b[0m_lock\u001b[0m\u001b[0;34m:\u001b[0m\u001b[0;34m\u001b[0m\u001b[0;34m\u001b[0m\u001b[0m\n\u001b[1;32m   2940\u001b[0m       (graph_function,\n\u001b[0;32m-> 2941\u001b[0;31m        filtered_flat_args) = self._maybe_define_function(args, kwargs)\n\u001b[0m\u001b[1;32m   2942\u001b[0m     return graph_function._call_flat(\n\u001b[1;32m   2943\u001b[0m         filtered_flat_args, captured_inputs=graph_function.captured_inputs)  # pylint: disable=protected-access\n",
            "\u001b[0;32m/usr/local/lib/python3.7/dist-packages/tensorflow/python/eager/function.py\u001b[0m in \u001b[0;36m_maybe_define_function\u001b[0;34m(self, args, kwargs)\u001b[0m\n\u001b[1;32m   3356\u001b[0m               call_context_key in self._function_cache.missed):\n\u001b[1;32m   3357\u001b[0m             return self._define_function_with_shape_relaxation(\n\u001b[0;32m-> 3358\u001b[0;31m                 args, kwargs, flat_args, filtered_flat_args, cache_key_context)\n\u001b[0m\u001b[1;32m   3359\u001b[0m \u001b[0;34m\u001b[0m\u001b[0m\n\u001b[1;32m   3360\u001b[0m           \u001b[0mself\u001b[0m\u001b[0;34m.\u001b[0m\u001b[0m_function_cache\u001b[0m\u001b[0;34m.\u001b[0m\u001b[0mmissed\u001b[0m\u001b[0;34m.\u001b[0m\u001b[0madd\u001b[0m\u001b[0;34m(\u001b[0m\u001b[0mcall_context_key\u001b[0m\u001b[0;34m)\u001b[0m\u001b[0;34m\u001b[0m\u001b[0;34m\u001b[0m\u001b[0m\n",
            "\u001b[0;32m/usr/local/lib/python3.7/dist-packages/tensorflow/python/eager/function.py\u001b[0m in \u001b[0;36m_define_function_with_shape_relaxation\u001b[0;34m(self, args, kwargs, flat_args, filtered_flat_args, cache_key_context)\u001b[0m\n\u001b[1;32m   3278\u001b[0m \u001b[0;34m\u001b[0m\u001b[0m\n\u001b[1;32m   3279\u001b[0m     graph_function = self._create_graph_function(\n\u001b[0;32m-> 3280\u001b[0;31m         args, kwargs, override_flat_arg_shapes=relaxed_arg_shapes)\n\u001b[0m\u001b[1;32m   3281\u001b[0m     \u001b[0mself\u001b[0m\u001b[0;34m.\u001b[0m\u001b[0m_function_cache\u001b[0m\u001b[0;34m.\u001b[0m\u001b[0marg_relaxed\u001b[0m\u001b[0;34m[\u001b[0m\u001b[0mrank_only_cache_key\u001b[0m\u001b[0;34m]\u001b[0m \u001b[0;34m=\u001b[0m \u001b[0mgraph_function\u001b[0m\u001b[0;34m\u001b[0m\u001b[0;34m\u001b[0m\u001b[0m\n\u001b[1;32m   3282\u001b[0m \u001b[0;34m\u001b[0m\u001b[0m\n",
            "\u001b[0;32m/usr/local/lib/python3.7/dist-packages/tensorflow/python/eager/function.py\u001b[0m in \u001b[0;36m_create_graph_function\u001b[0;34m(self, args, kwargs, override_flat_arg_shapes)\u001b[0m\n\u001b[1;32m   3204\u001b[0m             \u001b[0marg_names\u001b[0m\u001b[0;34m=\u001b[0m\u001b[0marg_names\u001b[0m\u001b[0;34m,\u001b[0m\u001b[0;34m\u001b[0m\u001b[0;34m\u001b[0m\u001b[0m\n\u001b[1;32m   3205\u001b[0m             \u001b[0moverride_flat_arg_shapes\u001b[0m\u001b[0;34m=\u001b[0m\u001b[0moverride_flat_arg_shapes\u001b[0m\u001b[0;34m,\u001b[0m\u001b[0;34m\u001b[0m\u001b[0;34m\u001b[0m\u001b[0m\n\u001b[0;32m-> 3206\u001b[0;31m             capture_by_value=self._capture_by_value),\n\u001b[0m\u001b[1;32m   3207\u001b[0m         \u001b[0mself\u001b[0m\u001b[0;34m.\u001b[0m\u001b[0m_function_attributes\u001b[0m\u001b[0;34m,\u001b[0m\u001b[0;34m\u001b[0m\u001b[0;34m\u001b[0m\u001b[0m\n\u001b[1;32m   3208\u001b[0m         \u001b[0mfunction_spec\u001b[0m\u001b[0;34m=\u001b[0m\u001b[0mself\u001b[0m\u001b[0;34m.\u001b[0m\u001b[0mfunction_spec\u001b[0m\u001b[0;34m,\u001b[0m\u001b[0;34m\u001b[0m\u001b[0;34m\u001b[0m\u001b[0m\n",
            "\u001b[0;32m/usr/local/lib/python3.7/dist-packages/tensorflow/python/framework/func_graph.py\u001b[0m in \u001b[0;36mfunc_graph_from_py_func\u001b[0;34m(name, python_func, args, kwargs, signature, func_graph, autograph, autograph_options, add_control_dependencies, arg_names, op_return_value, collections, capture_by_value, override_flat_arg_shapes)\u001b[0m\n\u001b[1;32m    988\u001b[0m         \u001b[0m_\u001b[0m\u001b[0;34m,\u001b[0m \u001b[0moriginal_func\u001b[0m \u001b[0;34m=\u001b[0m \u001b[0mtf_decorator\u001b[0m\u001b[0;34m.\u001b[0m\u001b[0munwrap\u001b[0m\u001b[0;34m(\u001b[0m\u001b[0mpython_func\u001b[0m\u001b[0;34m)\u001b[0m\u001b[0;34m\u001b[0m\u001b[0;34m\u001b[0m\u001b[0m\n\u001b[1;32m    989\u001b[0m \u001b[0;34m\u001b[0m\u001b[0m\n\u001b[0;32m--> 990\u001b[0;31m       \u001b[0mfunc_outputs\u001b[0m \u001b[0;34m=\u001b[0m \u001b[0mpython_func\u001b[0m\u001b[0;34m(\u001b[0m\u001b[0;34m*\u001b[0m\u001b[0mfunc_args\u001b[0m\u001b[0;34m,\u001b[0m \u001b[0;34m**\u001b[0m\u001b[0mfunc_kwargs\u001b[0m\u001b[0;34m)\u001b[0m\u001b[0;34m\u001b[0m\u001b[0;34m\u001b[0m\u001b[0m\n\u001b[0m\u001b[1;32m    991\u001b[0m \u001b[0;34m\u001b[0m\u001b[0m\n\u001b[1;32m    992\u001b[0m       \u001b[0;31m# invariant: `func_outputs` contains only Tensors, CompositeTensors,\u001b[0m\u001b[0;34m\u001b[0m\u001b[0;34m\u001b[0m\u001b[0;34m\u001b[0m\u001b[0m\n",
            "\u001b[0;32m/usr/local/lib/python3.7/dist-packages/tensorflow/python/eager/def_function.py\u001b[0m in \u001b[0;36mwrapped_fn\u001b[0;34m(*args, **kwds)\u001b[0m\n\u001b[1;32m    632\u001b[0m             \u001b[0mxla_context\u001b[0m\u001b[0;34m.\u001b[0m\u001b[0mExit\u001b[0m\u001b[0;34m(\u001b[0m\u001b[0;34m)\u001b[0m\u001b[0;34m\u001b[0m\u001b[0;34m\u001b[0m\u001b[0m\n\u001b[1;32m    633\u001b[0m         \u001b[0;32melse\u001b[0m\u001b[0;34m:\u001b[0m\u001b[0;34m\u001b[0m\u001b[0;34m\u001b[0m\u001b[0m\n\u001b[0;32m--> 634\u001b[0;31m           \u001b[0mout\u001b[0m \u001b[0;34m=\u001b[0m \u001b[0mweak_wrapped_fn\u001b[0m\u001b[0;34m(\u001b[0m\u001b[0;34m)\u001b[0m\u001b[0;34m.\u001b[0m\u001b[0m__wrapped__\u001b[0m\u001b[0;34m(\u001b[0m\u001b[0;34m*\u001b[0m\u001b[0margs\u001b[0m\u001b[0;34m,\u001b[0m \u001b[0;34m**\u001b[0m\u001b[0mkwds\u001b[0m\u001b[0;34m)\u001b[0m\u001b[0;34m\u001b[0m\u001b[0;34m\u001b[0m\u001b[0m\n\u001b[0m\u001b[1;32m    635\u001b[0m         \u001b[0;32mreturn\u001b[0m \u001b[0mout\u001b[0m\u001b[0;34m\u001b[0m\u001b[0;34m\u001b[0m\u001b[0m\n\u001b[1;32m    636\u001b[0m \u001b[0;34m\u001b[0m\u001b[0m\n",
            "\u001b[0;32m/usr/local/lib/python3.7/dist-packages/tensorflow/python/framework/func_graph.py\u001b[0m in \u001b[0;36mwrapper\u001b[0;34m(*args, **kwargs)\u001b[0m\n\u001b[1;32m    975\u001b[0m           \u001b[0;32mexcept\u001b[0m \u001b[0mException\u001b[0m \u001b[0;32mas\u001b[0m \u001b[0me\u001b[0m\u001b[0;34m:\u001b[0m  \u001b[0;31m# pylint:disable=broad-except\u001b[0m\u001b[0;34m\u001b[0m\u001b[0;34m\u001b[0m\u001b[0m\n\u001b[1;32m    976\u001b[0m             \u001b[0;32mif\u001b[0m \u001b[0mhasattr\u001b[0m\u001b[0;34m(\u001b[0m\u001b[0me\u001b[0m\u001b[0;34m,\u001b[0m \u001b[0;34m\"ag_error_metadata\"\u001b[0m\u001b[0;34m)\u001b[0m\u001b[0;34m:\u001b[0m\u001b[0;34m\u001b[0m\u001b[0;34m\u001b[0m\u001b[0m\n\u001b[0;32m--> 977\u001b[0;31m               \u001b[0;32mraise\u001b[0m \u001b[0me\u001b[0m\u001b[0;34m.\u001b[0m\u001b[0mag_error_metadata\u001b[0m\u001b[0;34m.\u001b[0m\u001b[0mto_exception\u001b[0m\u001b[0;34m(\u001b[0m\u001b[0me\u001b[0m\u001b[0;34m)\u001b[0m\u001b[0;34m\u001b[0m\u001b[0;34m\u001b[0m\u001b[0m\n\u001b[0m\u001b[1;32m    978\u001b[0m             \u001b[0;32melse\u001b[0m\u001b[0;34m:\u001b[0m\u001b[0;34m\u001b[0m\u001b[0;34m\u001b[0m\u001b[0m\n\u001b[1;32m    979\u001b[0m               \u001b[0;32mraise\u001b[0m\u001b[0;34m\u001b[0m\u001b[0;34m\u001b[0m\u001b[0m\n",
            "\u001b[0;31mValueError\u001b[0m: in user code:\n\n    /usr/local/lib/python3.7/dist-packages/tensorflow/python/keras/engine/training.py:805 train_function  *\n        return step_function(self, iterator)\n    /usr/local/lib/python3.7/dist-packages/tensorflow/python/keras/engine/training.py:795 step_function  **\n        outputs = model.distribute_strategy.run(run_step, args=(data,))\n    /usr/local/lib/python3.7/dist-packages/tensorflow/python/distribute/distribute_lib.py:1259 run\n        return self._extended.call_for_each_replica(fn, args=args, kwargs=kwargs)\n    /usr/local/lib/python3.7/dist-packages/tensorflow/python/distribute/distribute_lib.py:2730 call_for_each_replica\n        return self._call_for_each_replica(fn, args, kwargs)\n    /usr/local/lib/python3.7/dist-packages/tensorflow/python/distribute/distribute_lib.py:3417 _call_for_each_replica\n        return fn(*args, **kwargs)\n    /usr/local/lib/python3.7/dist-packages/tensorflow/python/keras/engine/training.py:788 run_step  **\n        outputs = model.train_step(data)\n    /usr/local/lib/python3.7/dist-packages/tensorflow/python/keras/engine/training.py:756 train_step\n        y, y_pred, sample_weight, regularization_losses=self.losses)\n    /usr/local/lib/python3.7/dist-packages/tensorflow/python/keras/engine/compile_utils.py:186 __call__\n        self.build(y_pred)\n    /usr/local/lib/python3.7/dist-packages/tensorflow/python/keras/engine/compile_utils.py:139 build\n        self._losses = nest.map_structure(self._get_loss_object, self._losses)\n    /usr/local/lib/python3.7/dist-packages/tensorflow/python/util/nest.py:659 map_structure\n        structure[0], [func(*x) for x in entries],\n    /usr/local/lib/python3.7/dist-packages/tensorflow/python/util/nest.py:659 <listcomp>\n        structure[0], [func(*x) for x in entries],\n    /usr/local/lib/python3.7/dist-packages/tensorflow/python/keras/engine/compile_utils.py:262 _get_loss_object\n        loss = losses_mod.get(loss)\n    /usr/local/lib/python3.7/dist-packages/tensorflow/python/keras/losses.py:1906 get\n        'Could not interpret loss function identifier: {}'.format(identifier))\n\n    ValueError: Could not interpret loss function identifier: 0.5747125148773193\n"
          ]
        }
      ]
    },
    {
      "cell_type": "markdown",
      "metadata": {
        "id": "uBthMlTSV8kn"
      },
      "source": [
        "### Evaluate the model\n",
        "\n",
        "Let's see how the model performs. Two values will be returned. Loss (a number which represents the error, lower values are better), and accuracy."
      ]
    },
    {
      "cell_type": "code",
      "metadata": {
        "id": "JXuzY8Ll7v5Q",
        "colab": {
          "base_uri": "https://localhost:8080/"
        },
        "outputId": "3711ecc8-92b1-4038-fef1-fbf66b7b749f"
      },
      "source": [
        "classifier_model.metrics_names"
      ],
      "execution_count": null,
      "outputs": [
        {
          "output_type": "execute_result",
          "data": {
            "text/plain": [
              "['loss', 'binary_accuracy']"
            ]
          },
          "metadata": {
            "tags": []
          },
          "execution_count": 129
        }
      ]
    },
    {
      "cell_type": "code",
      "metadata": {
        "id": "slqB-urBV9sP",
        "colab": {
          "base_uri": "https://localhost:8080/"
        },
        "outputId": "a180f3ed-7a06-422a-aab3-96fb923d12cd"
      },
      "source": [
        "loss, accuracy = classifier_model.evaluate(val_dataset)\n",
        "\n",
        "print(f'Loss: {loss}')\n",
        "print(f'Accuracy: {accuracy}')"
      ],
      "execution_count": null,
      "outputs": [
        {
          "output_type": "stream",
          "text": [
            "107/107 [==============================] - 22s 205ms/step - loss: 0.6368 - binary_accuracy: 0.7529\n",
            "Loss: 0.6367976069450378\n",
            "Accuracy: 0.7529411911964417\n"
          ],
          "name": "stdout"
        }
      ]
    },
    {
      "cell_type": "code",
      "metadata": {
        "id": "pXVcBXL20bAw"
      },
      "source": [
        "pred = tf.sigmoid(classifier_model.predict(test_data.text))"
      ],
      "execution_count": null,
      "outputs": []
    },
    {
      "cell_type": "code",
      "metadata": {
        "id": "34TZd57X4YR3"
      },
      "source": [
        "import numpy as np"
      ],
      "execution_count": null,
      "outputs": []
    },
    {
      "cell_type": "code",
      "metadata": {
        "id": "gXmhfTsW215V"
      },
      "source": [
        "predictions = {}\n",
        "pred_np = np.array(pred)\n",
        "for i, id in enumerate(test_data.id):\n",
        "    # predictions[id] = 1 if pred_np[i][0] > 0.5 else 0\n",
        "    predictions[id] = pred_np[i][0]"
      ],
      "execution_count": null,
      "outputs": []
    },
    {
      "cell_type": "code",
      "metadata": {
        "id": "EHVTqf1z4Lfl"
      },
      "source": [
        "pd.DataFrame(predictions.items(), columns=['id', \"label\"]).to_csv(\"predictions.csv\")"
      ],
      "execution_count": null,
      "outputs": []
    },
    {
      "cell_type": "code",
      "metadata": {
        "id": "7ZQjd0CY6ZDY"
      },
      "source": [
        ""
      ],
      "execution_count": null,
      "outputs": []
    },
    {
      "cell_type": "code",
      "metadata": {
        "id": "ri5f0qcD6YkW"
      },
      "source": [
        ""
      ],
      "execution_count": null,
      "outputs": []
    },
    {
      "cell_type": "markdown",
      "metadata": {
        "id": "uttWpgmSfzq9"
      },
      "source": [
        "### Plot the accuracy and loss over time\n",
        "\n",
        "Based on the `History` object returned by `model.fit()`. You can plot the training and validation loss for comparison, as well as the training and validation accuracy:"
      ]
    },
    {
      "cell_type": "code",
      "metadata": {
        "id": "fiythcODf0xo",
        "colab": {
          "base_uri": "https://localhost:8080/",
          "height": 439
        },
        "outputId": "4ace5c77-e4d8-4625-f9c0-5d8a55eec813"
      },
      "source": [
        "history_dict = history.history\n",
        "print(history_dict.keys())\n",
        "\n",
        "acc = history_dict['binary_accuracy']\n",
        "val_acc = history_dict['val_binary_accuracy']\n",
        "loss = history_dict['loss']\n",
        "val_loss = history_dict['val_loss']\n",
        "\n",
        "epochs = range(1, len(acc) + 1)\n",
        "fig = plt.figure(figsize=(10, 6))\n",
        "fig.tight_layout()\n",
        "\n",
        "plt.subplot(2, 1, 1)\n",
        "# \"bo\" is for \"blue dot\"\n",
        "plt.plot(epochs, loss, 'r', label='Training loss')\n",
        "# b is for \"solid blue line\"\n",
        "plt.plot(epochs, val_loss, 'b', label='Validation loss')\n",
        "plt.title('Training and validation loss')\n",
        "# plt.xlabel('Epochs')\n",
        "plt.ylabel('Loss')\n",
        "plt.legend()\n",
        "\n",
        "plt.subplot(2, 1, 2)\n",
        "plt.plot(epochs, acc, 'r', label='Training acc')\n",
        "plt.plot(epochs, val_acc, 'b', label='Validation acc')\n",
        "plt.title('Training and validation accuracy')\n",
        "plt.xlabel('Epochs')\n",
        "plt.ylabel('Accuracy')\n",
        "plt.legend(loc='lower right')"
      ],
      "execution_count": null,
      "outputs": [
        {
          "output_type": "stream",
          "text": [
            "dict_keys(['loss', 'binary_accuracy', 'val_loss', 'val_binary_accuracy'])\n"
          ],
          "name": "stdout"
        },
        {
          "output_type": "execute_result",
          "data": {
            "text/plain": [
              "<matplotlib.legend.Legend at 0x7f965591d4d0>"
            ]
          },
          "metadata": {
            "tags": []
          },
          "execution_count": 134
        },
        {
          "output_type": "display_data",
          "data": {
            "image/png": "[encoded data removed]",
            "text/plain": [
              "<Figure size 720x432 with 2 Axes>"
            ]
          },
          "metadata": {
            "tags": [],
            "needs_background": "light"
          }
        }
      ]
    },
    {
      "cell_type": "markdown",
      "metadata": {
        "id": "WzJZCo-cf-Jf"
      },
      "source": [
        "In this plot, the red lines represents the training loss and accuracy, and the blue lines are the validation loss and accuracy."
      ]
    },
    {
      "cell_type": "markdown",
      "metadata": {
        "id": "Rtn7jewb6dg4"
      },
      "source": [
        "## Export for inference\n",
        "\n",
        "Now you just save your fine-tuned model for later use."
      ]
    },
    {
      "cell_type": "code",
      "metadata": {
        "id": "ShcvqJAgVera",
        "colab": {
          "base_uri": "https://localhost:8080/"
        },
        "outputId": "beb9b6d3-ff55-468c-dc9d-992b0c71b751"
      },
      "source": [
        "dataset_name = 'aca'\n",
        "saved_model_path = './{}_bert'.format(dataset_name.replace('/', '_'))\n",
        "\n",
        "classifier_model.save(\"drive/MyDrive/aca\", include_optimizer=False)"
      ],
      "execution_count": null,
      "outputs": [
        {
          "output_type": "stream",
          "text": [
            "WARNING:absl:Found untraced functions such as restored_function_body, restored_function_body, restored_function_body, restored_function_body, restored_function_body while saving (showing 5 of 900). These functions will not be directly callable after loading.\n",
            "WARNING:absl:Found untraced functions such as restored_function_body, restored_function_body, restored_function_body, restored_function_body, restored_function_body while saving (showing 5 of 900). These functions will not be directly callable after loading.\n"
          ],
          "name": "stderr"
        }
      ]
    },
    {
      "cell_type": "code",
      "metadata": {
        "colab": {
          "base_uri": "https://localhost:8080/"
        },
        "id": "WCmzr_CuRyum",
        "outputId": "c925c77d-5803-4c1f-a06e-123b593820fd"
      },
      "source": [
        "from google.colab import drive\n",
        "drive.mount('/content/drive')"
      ],
      "execution_count": 19,
      "outputs": [
        {
          "output_type": "stream",
          "text": [
            "Mounted at /content/drive\n"
          ],
          "name": "stdout"
        }
      ]
    },
    {
      "cell_type": "markdown",
      "metadata": {
        "id": "PbI25bS1vD7s"
      },
      "source": [
        "Let's reload the model so you can try it side by side with the model that is still in memory."
      ]
    },
    {
      "cell_type": "code",
      "metadata": {
        "id": "gUEWVskZjEF0"
      },
      "source": [
        "reloaded_model = tf.saved_model.load(saved_model_path)"
      ],
      "execution_count": null,
      "outputs": []
    },
    {
      "cell_type": "markdown",
      "metadata": {
        "id": "oyTappHTvNCz"
      },
      "source": [
        "Here you can test your model on any sentence you want, just add to the examples variable below."
      ]
    },
    {
      "cell_type": "code",
      "metadata": {
        "id": "VBWzH6exlCPS"
      },
      "source": [
        "def print_my_examples(inputs, results):\n",
        "  result_for_printing = \\\n",
        "    [f'input: {inputs[i]:<30} : score: {results[i][0]:.6f}'\n",
        "                         for i in range(len(inputs))]\n",
        "  print(*result_for_printing, sep='\\n')\n",
        "  print()\n",
        "\n",
        "\n",
        "examples = [\n",
        "    'this is such an amazing movie!',  # this is the same sentence tried earlier\n",
        "    'The movie was great!',\n",
        "    'The movie was meh.',\n",
        "    'The movie was okish.',\n",
        "    'The movie was terrible...'\n",
        "]\n",
        "\n",
        "reloaded_results = tf.sigmoid(reloaded_model(tf.constant(examples)))\n",
        "original_results = tf.sigmoid(classifier_model(tf.constant(examples)))\n",
        "\n",
        "print('Results from the saved model:')\n",
        "print_my_examples(examples, reloaded_results)\n",
        "print('Results from the model in memory:')\n",
        "print_my_examples(examples, original_results)"
      ],
      "execution_count": null,
      "outputs": []
    },
    {
      "cell_type": "markdown",
      "metadata": {
        "id": "3cOmih754Y_M"
      },
      "source": [
        "If you want to use your model on [TF Serving](https://www.tensorflow.org/tfx/guide/serving), remember that it will call your SavedModel through one of its named signatures. In Python, you can test them as follows:"
      ]
    },
    {
      "cell_type": "code",
      "metadata": {
        "id": "0FdVD3973S-O"
      },
      "source": [
        "serving_results = reloaded_model \\\n",
        "            .signatures['serving_default'](tf.constant(examples))\n",
        "\n",
        "serving_results = tf.sigmoid(serving_results['classifier'])\n",
        "\n",
        "print_my_examples(examples, serving_results)"
      ],
      "execution_count": null,
      "outputs": []
    },
    {
      "cell_type": "markdown",
      "metadata": {
        "id": "B4gN1KwReLPN"
      },
      "source": [
        "## Next steps\n",
        "\n",
        "As a next step, you can try [Solve GLUE tasks using BERT on a TPU tutorial](https://www.tensorflow.org/tutorials/text/solve_glue_tasks_using_bert_on_tpu) which runs on a TPU and shows you how to work with multiple inputs."
      ]
    }
  ]
}