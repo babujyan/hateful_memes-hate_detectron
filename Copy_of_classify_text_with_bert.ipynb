{
  "nbformat": 4,
  "nbformat_minor": 0,
  "metadata": {
    "accelerator": "GPU",
    "colab": {
      "name": "Copy_of_classify_text_with_bert.ipynb",
      "provenance": [],
      "collapsed_sections": [],
      "toc_visible": true,
      "include_colab_link": true
    },
    "kernelspec": {
      "display_name": "Python 3",
      "language": "python",
      "name": "python3"
    },
    "language_info": {
      "codemirror_mode": {
        "name": "ipython",
        "version": 3
      },
      "file_extension": ".py",
      "mimetype": "text/x-python",
      "name": "python",
      "nbconvert_exporter": "python",
      "pygments_lexer": "ipython3",
      "version": "3.8.5"
    }
  },
  "cells": [
    {
      "cell_type": "markdown",
      "metadata": {
        "id": "view-in-github",
        "colab_type": "text"
      },
      "source": [
        "<a href=\"https://colab.research.google.com/github/babujyan/hateful_memes-hate_detectron/blob/main/Copy_of_classify_text_with_bert.ipynb\" target=\"_parent\"><img src=\"https://colab.research.google.com/assets/colab-badge.svg\" alt=\"Open In Colab\"/></a>"
      ]
    },
    {
      "cell_type": "markdown",
      "metadata": {
        "id": "Cb4espuLKJiA"
      },
      "source": [
        "##### Copyright 2020 The TensorFlow Hub Authors.\n"
      ]
    },
    {
      "cell_type": "code",
      "metadata": {
        "cellView": "form",
        "id": "jM3hCI1UUzar"
      },
      "source": [
        "#@title Licensed under the Apache License, Version 2.0 (the \"License\");\n",
        "# you may not use this file except in compliance with the License.\n",
        "# You may obtain a copy of the License at\n",
        "#\n",
        "# https://www.apache.org/licenses/LICENSE-2.0\n",
        "#\n",
        "# Unless required by applicable law or agreed to in writing, software\n",
        "# distributed under the License is distributed on an \"AS IS\" BASIS,\n",
        "# WITHOUT WARRANTIES OR CONDITIONS OF ANY KIND, either express or implied.\n",
        "# See the License for the specific language governing permissions and\n",
        "# limitations under the License."
      ],
      "execution_count": null,
      "outputs": []
    },
    {
      "cell_type": "markdown",
      "metadata": {
        "id": "4_NEJlxKKjyI"
      },
      "source": [
        "<table class=\"tfo-notebook-buttons\" align=\"left\">\n",
        "  <td>\n",
        "    <a target=\"_blank\" href=\"https://www.tensorflow.org/tutorials/text/classify_text_with_bert\"><img src=\"https://www.tensorflow.org/images/tf_logo_32px.png\" />View on TensorFlow.org</a>\n",
        "  </td>\n",
        "  <td>\n",
        "    <a target=\"_blank\" href=\"https://colab.research.google.com/github/tensorflow/docs/blob/master/site/en/tutorials/text/classify_text_with_bert.ipynb\"><img src=\"https://www.tensorflow.org/images/colab_logo_32px.png\" />Run in Google Colab</a>\n",
        "  </td>\n",
        "  <td>\n",
        "    <a target=\"_blank\" href=\"https://github.com/tensorflow/docs/blob/master/site/en/tutorials/text/classify_text_with_bert.ipynb\"><img src=\"https://www.tensorflow.org/images/GitHub-Mark-32px.png\" />View on GitHub</a>\n",
        "  </td>\n",
        "  <td>\n",
        "    <a href=\"https://storage.googleapis.com/tensorflow_docs/docs/site/en/tutorials/text/classify_text_with_bert.ipynb\"><img src=\"https://www.tensorflow.org/images/download_logo_32px.png\" />Download notebook</a>\n",
        "  </td>\n",
        "  <td>\n",
        "    <a href=\"https://tfhub.dev/google/collections/bert/1\"><img src=\"https://www.tensorflow.org/images/hub_logo_32px.png\" />See TF Hub model</a>\n",
        "  </td>\n",
        "</table>"
      ]
    },
    {
      "cell_type": "markdown",
      "metadata": {
        "id": "IZ6SNYq_tVVC"
      },
      "source": [
        "# Classify text with BERT\n",
        "\n",
        "This tutorial contains complete code to fine-tune BERT to perform sentiment analysis on a dataset of plain-text IMDB movie reviews.\n",
        "In addition to training a model, you will learn how to preprocess text into an appropriate format.\n",
        "\n",
        "In this notebook, you will:\n",
        "\n",
        "- Load the IMDB dataset\n",
        "- Load a BERT model from TensorFlow Hub\n",
        "- Build your own model by combining BERT with a classifier\n",
        "- Train your own model, fine-tuning BERT as part of that\n",
        "- Save your model and use it to classify sentences\n",
        "\n",
        "If you're new to working with the IMDB dataset, please see [Basic text classification](https://www.tensorflow.org/tutorials/keras/text_classification) for more details."
      ]
    },
    {
      "cell_type": "markdown",
      "metadata": {
        "id": "2PHBpLPuQdmK"
      },
      "source": [
        "## About BERT\n",
        "\n",
        "[BERT](https://arxiv.org/abs/1810.04805) and other Transformer encoder architectures have been wildly successful on a variety of tasks in NLP (natural language processing). They compute vector-space representations of natural language that are suitable for use in deep learning models. The BERT family of models uses the Transformer encoder architecture to process each token of input text in the full context of all tokens before and after, hence the name: Bidirectional Encoder Representations from Transformers. \n",
        "\n",
        "BERT models are usually pre-trained on a large corpus of text, then fine-tuned for specific tasks.\n"
      ]
    },
    {
      "cell_type": "markdown",
      "metadata": {
        "id": "SCjmX4zTCkRK"
      },
      "source": [
        "## Setup\n"
      ]
    },
    {
      "cell_type": "code",
      "metadata": {
        "colab": {
          "base_uri": "https://localhost:8080/"
        },
        "id": "_yXYvUtW_UkS",
        "outputId": "54791003-9650-4748-cc2c-b886867ab727"
      },
      "source": [
        "from google.colab import drive\n",
        "drive.mount('/content/drive')"
      ],
      "execution_count": 4,
      "outputs": [
        {
          "output_type": "stream",
          "text": [
            "Mounted at /content/drive\n"
          ],
          "name": "stdout"
        }
      ]
    },
    {
      "cell_type": "code",
      "metadata": {
        "id": "q-YbjCkzw0yU",
        "colab": {
          "base_uri": "https://localhost:8080/"
        },
        "outputId": "3da3708b-437d-45a1-92ec-48c39ac2b13a"
      },
      "source": [
        "# A dependency of the preprocessing for BERT inputs\n",
        "!pip install -q tensorflow-text"
      ],
      "execution_count": 6,
      "outputs": [
        {
          "output_type": "stream",
          "text": [
            "\u001b[?25l\r\u001b[K     |                                | 10kB 25.5MB/s eta 0:00:01\r\u001b[K     |▏                               | 20kB 33.4MB/s eta 0:00:01\r\u001b[K     |▎                               | 30kB 23.3MB/s eta 0:00:01\r\u001b[K     |▍                               | 40kB 19.9MB/s eta 0:00:01\r\u001b[K     |▌                               | 51kB 16.3MB/s eta 0:00:01\r\u001b[K     |▋                               | 61kB 13.3MB/s eta 0:00:01\r\u001b[K     |▊                               | 71kB 12.8MB/s eta 0:00:01\r\u001b[K     |▉                               | 81kB 11.6MB/s eta 0:00:01\r\u001b[K     |▉                               | 92kB 12.3MB/s eta 0:00:01\r\u001b[K     |█                               | 102kB 11.7MB/s eta 0:00:01\r\u001b[K     |█                               | 112kB 11.7MB/s eta 0:00:01\r\u001b[K     |█▏                              | 122kB 11.7MB/s eta 0:00:01\r\u001b[K     |█▎                              | 133kB 11.7MB/s eta 0:00:01\r\u001b[K     |█▍                              | 143kB 11.7MB/s eta 0:00:01\r\u001b[K     |█▌                              | 153kB 11.7MB/s eta 0:00:01\r\u001b[K     |█▋                              | 163kB 11.7MB/s eta 0:00:01\r\u001b[K     |█▋                              | 174kB 11.7MB/s eta 0:00:01\r\u001b[K     |█▊                              | 184kB 11.7MB/s eta 0:00:01\r\u001b[K     |█▉                              | 194kB 11.7MB/s eta 0:00:01\r\u001b[K     |██                              | 204kB 11.7MB/s eta 0:00:01\r\u001b[K     |██                              | 215kB 11.7MB/s eta 0:00:01\r\u001b[K     |██▏                             | 225kB 11.7MB/s eta 0:00:01\r\u001b[K     |██▎                             | 235kB 11.7MB/s eta 0:00:01\r\u001b[K     |██▍                             | 245kB 11.7MB/s eta 0:00:01\r\u001b[K     |██▍                             | 256kB 11.7MB/s eta 0:00:01\r\u001b[K     |██▌                             | 266kB 11.7MB/s eta 0:00:01\r\u001b[K     |██▋                             | 276kB 11.7MB/s eta 0:00:01\r\u001b[K     |██▊                             | 286kB 11.7MB/s eta 0:00:01\r\u001b[K     |██▉                             | 296kB 11.7MB/s eta 0:00:01\r\u001b[K     |███                             | 307kB 11.7MB/s eta 0:00:01\r\u001b[K     |███                             | 317kB 11.7MB/s eta 0:00:01\r\u001b[K     |███▏                            | 327kB 11.7MB/s eta 0:00:01\r\u001b[K     |███▏                            | 337kB 11.7MB/s eta 0:00:01\r\u001b[K     |███▎                            | 348kB 11.7MB/s eta 0:00:01\r\u001b[K     |███▍                            | 358kB 11.7MB/s eta 0:00:01\r\u001b[K     |███▌                            | 368kB 11.7MB/s eta 0:00:01\r\u001b[K     |███▋                            | 378kB 11.7MB/s eta 0:00:01\r\u001b[K     |███▊                            | 389kB 11.7MB/s eta 0:00:01\r\u001b[K     |███▉                            | 399kB 11.7MB/s eta 0:00:01\r\u001b[K     |████                            | 409kB 11.7MB/s eta 0:00:01\r\u001b[K     |████                            | 419kB 11.7MB/s eta 0:00:01\r\u001b[K     |████                            | 430kB 11.7MB/s eta 0:00:01\r\u001b[K     |████▏                           | 440kB 11.7MB/s eta 0:00:01\r\u001b[K     |████▎                           | 450kB 11.7MB/s eta 0:00:01\r\u001b[K     |████▍                           | 460kB 11.7MB/s eta 0:00:01\r\u001b[K     |████▌                           | 471kB 11.7MB/s eta 0:00:01\r\u001b[K     |████▋                           | 481kB 11.7MB/s eta 0:00:01\r\u001b[K     |████▊                           | 491kB 11.7MB/s eta 0:00:01\r\u001b[K     |████▊                           | 501kB 11.7MB/s eta 0:00:01\r\u001b[K     |████▉                           | 512kB 11.7MB/s eta 0:00:01\r\u001b[K     |█████                           | 522kB 11.7MB/s eta 0:00:01\r\u001b[K     |█████                           | 532kB 11.7MB/s eta 0:00:01\r\u001b[K     |█████▏                          | 542kB 11.7MB/s eta 0:00:01\r\u001b[K     |█████▎                          | 552kB 11.7MB/s eta 0:00:01\r\u001b[K     |█████▍                          | 563kB 11.7MB/s eta 0:00:01\r\u001b[K     |█████▌                          | 573kB 11.7MB/s eta 0:00:01\r\u001b[K     |█████▌                          | 583kB 11.7MB/s eta 0:00:01\r\u001b[K     |█████▋                          | 593kB 11.7MB/s eta 0:00:01\r\u001b[K     |█████▊                          | 604kB 11.7MB/s eta 0:00:01\r\u001b[K     |█████▉                          | 614kB 11.7MB/s eta 0:00:01\r\u001b[K     |██████                          | 624kB 11.7MB/s eta 0:00:01\r\u001b[K     |██████                          | 634kB 11.7MB/s eta 0:00:01\r\u001b[K     |██████▏                         | 645kB 11.7MB/s eta 0:00:01\r\u001b[K     |██████▎                         | 655kB 11.7MB/s eta 0:00:01\r\u001b[K     |██████▎                         | 665kB 11.7MB/s eta 0:00:01\r\u001b[K     |██████▍                         | 675kB 11.7MB/s eta 0:00:01\r\u001b[K     |██████▌                         | 686kB 11.7MB/s eta 0:00:01\r\u001b[K     |██████▋                         | 696kB 11.7MB/s eta 0:00:01\r\u001b[K     |██████▊                         | 706kB 11.7MB/s eta 0:00:01\r\u001b[K     |██████▉                         | 716kB 11.7MB/s eta 0:00:01\r\u001b[K     |███████                         | 727kB 11.7MB/s eta 0:00:01\r\u001b[K     |███████                         | 737kB 11.7MB/s eta 0:00:01\r\u001b[K     |███████                         | 747kB 11.7MB/s eta 0:00:01\r\u001b[K     |███████▏                        | 757kB 11.7MB/s eta 0:00:01\r\u001b[K     |███████▎                        | 768kB 11.7MB/s eta 0:00:01\r\u001b[K     |███████▍                        | 778kB 11.7MB/s eta 0:00:01\r\u001b[K     |███████▌                        | 788kB 11.7MB/s eta 0:00:01\r\u001b[K     |███████▋                        | 798kB 11.7MB/s eta 0:00:01\r\u001b[K     |███████▊                        | 808kB 11.7MB/s eta 0:00:01\r\u001b[K     |███████▉                        | 819kB 11.7MB/s eta 0:00:01\r\u001b[K     |███████▉                        | 829kB 11.7MB/s eta 0:00:01\r\u001b[K     |████████                        | 839kB 11.7MB/s eta 0:00:01\r\u001b[K     |████████                        | 849kB 11.7MB/s eta 0:00:01\r\u001b[K     |████████▏                       | 860kB 11.7MB/s eta 0:00:01\r\u001b[K     |████████▎                       | 870kB 11.7MB/s eta 0:00:01\r\u001b[K     |████████▍                       | 880kB 11.7MB/s eta 0:00:01\r\u001b[K     |████████▌                       | 890kB 11.7MB/s eta 0:00:01\r\u001b[K     |████████▋                       | 901kB 11.7MB/s eta 0:00:01\r\u001b[K     |████████▋                       | 911kB 11.7MB/s eta 0:00:01\r\u001b[K     |████████▊                       | 921kB 11.7MB/s eta 0:00:01\r\u001b[K     |████████▉                       | 931kB 11.7MB/s eta 0:00:01\r\u001b[K     |█████████                       | 942kB 11.7MB/s eta 0:00:01\r\u001b[K     |█████████                       | 952kB 11.7MB/s eta 0:00:01\r\u001b[K     |█████████▏                      | 962kB 11.7MB/s eta 0:00:01\r\u001b[K     |█████████▎                      | 972kB 11.7MB/s eta 0:00:01\r\u001b[K     |█████████▍                      | 983kB 11.7MB/s eta 0:00:01\r\u001b[K     |█████████▌                      | 993kB 11.7MB/s eta 0:00:01\r\u001b[K     |█████████▌                      | 1.0MB 11.7MB/s eta 0:00:01\r\u001b[K     |█████████▋                      | 1.0MB 11.7MB/s eta 0:00:01\r\u001b[K     |█████████▊                      | 1.0MB 11.7MB/s eta 0:00:01\r\u001b[K     |█████████▉                      | 1.0MB 11.7MB/s eta 0:00:01\r\u001b[K     |██████████                      | 1.0MB 11.7MB/s eta 0:00:01\r\u001b[K     |██████████                      | 1.1MB 11.7MB/s eta 0:00:01\r\u001b[K     |██████████▏                     | 1.1MB 11.7MB/s eta 0:00:01\r\u001b[K     |██████████▎                     | 1.1MB 11.7MB/s eta 0:00:01\r\u001b[K     |██████████▎                     | 1.1MB 11.7MB/s eta 0:00:01\r\u001b[K     |██████████▍                     | 1.1MB 11.7MB/s eta 0:00:01\r\u001b[K     |██████████▌                     | 1.1MB 11.7MB/s eta 0:00:01\r\u001b[K     |██████████▋                     | 1.1MB 11.7MB/s eta 0:00:01\r\u001b[K     |██████████▊                     | 1.1MB 11.7MB/s eta 0:00:01\r\u001b[K     |██████████▉                     | 1.1MB 11.7MB/s eta 0:00:01\r\u001b[K     |███████████                     | 1.1MB 11.7MB/s eta 0:00:01\r\u001b[K     |███████████                     | 1.2MB 11.7MB/s eta 0:00:01\r\u001b[K     |███████████                     | 1.2MB 11.7MB/s eta 0:00:01\r\u001b[K     |███████████▏                    | 1.2MB 11.7MB/s eta 0:00:01\r\u001b[K     |███████████▎                    | 1.2MB 11.7MB/s eta 0:00:01\r\u001b[K     |███████████▍                    | 1.2MB 11.7MB/s eta 0:00:01\r\u001b[K     |███████████▌                    | 1.2MB 11.7MB/s eta 0:00:01\r\u001b[K     |███████████▋                    | 1.2MB 11.7MB/s eta 0:00:01\r\u001b[K     |███████████▊                    | 1.2MB 11.7MB/s eta 0:00:01\r\u001b[K     |███████████▉                    | 1.2MB 11.7MB/s eta 0:00:01\r\u001b[K     |███████████▉                    | 1.2MB 11.7MB/s eta 0:00:01\r\u001b[K     |████████████                    | 1.3MB 11.7MB/s eta 0:00:01\r\u001b[K     |████████████                    | 1.3MB 11.7MB/s eta 0:00:01\r\u001b[K     |████████████▏                   | 1.3MB 11.7MB/s eta 0:00:01\r\u001b[K     |████████████▎                   | 1.3MB 11.7MB/s eta 0:00:01\r\u001b[K     |████████████▍                   | 1.3MB 11.7MB/s eta 0:00:01\r\u001b[K     |████████████▌                   | 1.3MB 11.7MB/s eta 0:00:01\r\u001b[K     |████████████▋                   | 1.3MB 11.7MB/s eta 0:00:01\r\u001b[K     |████████████▋                   | 1.3MB 11.7MB/s eta 0:00:01\r\u001b[K     |████████████▊                   | 1.3MB 11.7MB/s eta 0:00:01\r\u001b[K     |████████████▉                   | 1.4MB 11.7MB/s eta 0:00:01\r\u001b[K     |█████████████                   | 1.4MB 11.7MB/s eta 0:00:01\r\u001b[K     |█████████████                   | 1.4MB 11.7MB/s eta 0:00:01\r\u001b[K     |█████████████▏                  | 1.4MB 11.7MB/s eta 0:00:01\r\u001b[K     |█████████████▎                  | 1.4MB 11.7MB/s eta 0:00:01\r\u001b[K     |█████████████▍                  | 1.4MB 11.7MB/s eta 0:00:01\r\u001b[K     |█████████████▍                  | 1.4MB 11.7MB/s eta 0:00:01\r\u001b[K     |█████████████▌                  | 1.4MB 11.7MB/s eta 0:00:01\r\u001b[K     |█████████████▋                  | 1.4MB 11.7MB/s eta 0:00:01\r\u001b[K     |█████████████▊                  | 1.4MB 11.7MB/s eta 0:00:01\r\u001b[K     |█████████████▉                  | 1.5MB 11.7MB/s eta 0:00:01\r\u001b[K     |██████████████                  | 1.5MB 11.7MB/s eta 0:00:01\r\u001b[K     |██████████████                  | 1.5MB 11.7MB/s eta 0:00:01\r\u001b[K     |██████████████▏                 | 1.5MB 11.7MB/s eta 0:00:01\r\u001b[K     |██████████████▏                 | 1.5MB 11.7MB/s eta 0:00:01\r\u001b[K     |██████████████▎                 | 1.5MB 11.7MB/s eta 0:00:01\r\u001b[K     |██████████████▍                 | 1.5MB 11.7MB/s eta 0:00:01\r\u001b[K     |██████████████▌                 | 1.5MB 11.7MB/s eta 0:00:01\r\u001b[K     |██████████████▋                 | 1.5MB 11.7MB/s eta 0:00:01\r\u001b[K     |██████████████▊                 | 1.5MB 11.7MB/s eta 0:00:01\r\u001b[K     |██████████████▉                 | 1.6MB 11.7MB/s eta 0:00:01\r\u001b[K     |███████████████                 | 1.6MB 11.7MB/s eta 0:00:01\r\u001b[K     |███████████████                 | 1.6MB 11.7MB/s eta 0:00:01\r\u001b[K     |███████████████                 | 1.6MB 11.7MB/s eta 0:00:01\r\u001b[K     |███████████████▏                | 1.6MB 11.7MB/s eta 0:00:01\r\u001b[K     |███████████████▎                | 1.6MB 11.7MB/s eta 0:00:01\r\u001b[K     |███████████████▍                | 1.6MB 11.7MB/s eta 0:00:01\r\u001b[K     |███████████████▌                | 1.6MB 11.7MB/s eta 0:00:01\r\u001b[K     |███████████████▋                | 1.6MB 11.7MB/s eta 0:00:01\r\u001b[K     |███████████████▊                | 1.6MB 11.7MB/s eta 0:00:01\r\u001b[K     |███████████████▊                | 1.7MB 11.7MB/s eta 0:00:01\r\u001b[K     |███████████████▉                | 1.7MB 11.7MB/s eta 0:00:01\r\u001b[K     |████████████████                | 1.7MB 11.7MB/s eta 0:00:01\r\u001b[K     |████████████████                | 1.7MB 11.7MB/s eta 0:00:01\r\u001b[K     |████████████████▏               | 1.7MB 11.7MB/s eta 0:00:01\r\u001b[K     |████████████████▎               | 1.7MB 11.7MB/s eta 0:00:01\r\u001b[K     |████████████████▍               | 1.7MB 11.7MB/s eta 0:00:01\r\u001b[K     |████████████████▌               | 1.7MB 11.7MB/s eta 0:00:01\r\u001b[K     |████████████████▌               | 1.7MB 11.7MB/s eta 0:00:01\r\u001b[K     |████████████████▋               | 1.8MB 11.7MB/s eta 0:00:01\r\u001b[K     |████████████████▊               | 1.8MB 11.7MB/s eta 0:00:01\r\u001b[K     |████████████████▉               | 1.8MB 11.7MB/s eta 0:00:01\r\u001b[K     |█████████████████               | 1.8MB 11.7MB/s eta 0:00:01\r\u001b[K     |█████████████████               | 1.8MB 11.7MB/s eta 0:00:01\r\u001b[K     |█████████████████▏              | 1.8MB 11.7MB/s eta 0:00:01\r\u001b[K     |█████████████████▎              | 1.8MB 11.7MB/s eta 0:00:01\r\u001b[K     |█████████████████▎              | 1.8MB 11.7MB/s eta 0:00:01\r\u001b[K     |█████████████████▍              | 1.8MB 11.7MB/s eta 0:00:01\r\u001b[K     |█████████████████▌              | 1.8MB 11.7MB/s eta 0:00:01\r\u001b[K     |█████████████████▋              | 1.9MB 11.7MB/s eta 0:00:01\r\u001b[K     |█████████████████▊              | 1.9MB 11.7MB/s eta 0:00:01\r\u001b[K     |█████████████████▉              | 1.9MB 11.7MB/s eta 0:00:01\r\u001b[K     |██████████████████              | 1.9MB 11.7MB/s eta 0:00:01\r\u001b[K     |██████████████████              | 1.9MB 11.7MB/s eta 0:00:01\r\u001b[K     |██████████████████              | 1.9MB 11.7MB/s eta 0:00:01\r\u001b[K     |██████████████████▏             | 1.9MB 11.7MB/s eta 0:00:01\r\u001b[K     |██████████████████▎             | 1.9MB 11.7MB/s eta 0:00:01\r\u001b[K     |██████████████████▍             | 1.9MB 11.7MB/s eta 0:00:01\r\u001b[K     |██████████████████▌             | 1.9MB 11.7MB/s eta 0:00:01\r\u001b[K     |██████████████████▋             | 2.0MB 11.7MB/s eta 0:00:01\r\u001b[K     |██████████████████▊             | 2.0MB 11.7MB/s eta 0:00:01\r\u001b[K     |██████████████████▉             | 2.0MB 11.7MB/s eta 0:00:01\r\u001b[K     |███████████████████             | 2.0MB 11.7MB/s eta 0:00:01\r\u001b[K     |███████████████████             | 2.0MB 11.7MB/s eta 0:00:01\r\u001b[K     |███████████████████             | 2.0MB 11.7MB/s eta 0:00:01\r\u001b[K     |███████████████████▏            | 2.0MB 11.7MB/s eta 0:00:01\r\u001b[K     |███████████████████▎            | 2.0MB 11.7MB/s eta 0:00:01\r\u001b[K     |███████████████████▍            | 2.0MB 11.7MB/s eta 0:00:01\r\u001b[K     |███████████████████▌            | 2.0MB 11.7MB/s eta 0:00:01\r\u001b[K     |███████████████████▋            | 2.1MB 11.7MB/s eta 0:00:01\r\u001b[K     |███████████████████▊            | 2.1MB 11.7MB/s eta 0:00:01\r\u001b[K     |███████████████████▊            | 2.1MB 11.7MB/s eta 0:00:01\r\u001b[K     |███████████████████▉            | 2.1MB 11.7MB/s eta 0:00:01\r\u001b[K     |████████████████████            | 2.1MB 11.7MB/s eta 0:00:01\r\u001b[K     |████████████████████            | 2.1MB 11.7MB/s eta 0:00:01\r\u001b[K     |████████████████████▏           | 2.1MB 11.7MB/s eta 0:00:01\r\u001b[K     |████████████████████▎           | 2.1MB 11.7MB/s eta 0:00:01\r\u001b[K     |████████████████████▍           | 2.1MB 11.7MB/s eta 0:00:01\r\u001b[K     |████████████████████▌           | 2.2MB 11.7MB/s eta 0:00:01\r\u001b[K     |████████████████████▌           | 2.2MB 11.7MB/s eta 0:00:01\r\u001b[K     |████████████████████▋           | 2.2MB 11.7MB/s eta 0:00:01\r\u001b[K     |████████████████████▊           | 2.2MB 11.7MB/s eta 0:00:01\r\u001b[K     |████████████████████▉           | 2.2MB 11.7MB/s eta 0:00:01\r\u001b[K     |█████████████████████           | 2.2MB 11.7MB/s eta 0:00:01\r\u001b[K     |█████████████████████           | 2.2MB 11.7MB/s eta 0:00:01\r\u001b[K     |█████████████████████▏          | 2.2MB 11.7MB/s eta 0:00:01\r\u001b[K     |█████████████████████▎          | 2.2MB 11.7MB/s eta 0:00:01\r\u001b[K     |█████████████████████▎          | 2.2MB 11.7MB/s eta 0:00:01\r\u001b[K     |█████████████████████▍          | 2.3MB 11.7MB/s eta 0:00:01\r\u001b[K     |█████████████████████▌          | 2.3MB 11.7MB/s eta 0:00:01\r\u001b[K     |█████████████████████▋          | 2.3MB 11.7MB/s eta 0:00:01\r\u001b[K     |█████████████████████▊          | 2.3MB 11.7MB/s eta 0:00:01\r\u001b[K     |█████████████████████▉          | 2.3MB 11.7MB/s eta 0:00:01\r\u001b[K     |██████████████████████          | 2.3MB 11.7MB/s eta 0:00:01\r\u001b[K     |██████████████████████          | 2.3MB 11.7MB/s eta 0:00:01\r\u001b[K     |██████████████████████          | 2.3MB 11.7MB/s eta 0:00:01\r\u001b[K     |██████████████████████▏         | 2.3MB 11.7MB/s eta 0:00:01\r\u001b[K     |██████████████████████▎         | 2.3MB 11.7MB/s eta 0:00:01\r\u001b[K     |██████████████████████▍         | 2.4MB 11.7MB/s eta 0:00:01\r\u001b[K     |██████████████████████▌         | 2.4MB 11.7MB/s eta 0:00:01\r\u001b[K     |██████████████████████▋         | 2.4MB 11.7MB/s eta 0:00:01\r\u001b[K     |██████████████████████▊         | 2.4MB 11.7MB/s eta 0:00:01\r\u001b[K     |██████████████████████▉         | 2.4MB 11.7MB/s eta 0:00:01\r\u001b[K     |██████████████████████▉         | 2.4MB 11.7MB/s eta 0:00:01\r\u001b[K     |███████████████████████         | 2.4MB 11.7MB/s eta 0:00:01\r\u001b[K     |███████████████████████         | 2.4MB 11.7MB/s eta 0:00:01\r\u001b[K     |███████████████████████▏        | 2.4MB 11.7MB/s eta 0:00:01\r\u001b[K     |███████████████████████▎        | 2.4MB 11.7MB/s eta 0:00:01\r\u001b[K     |███████████████████████▍        | 2.5MB 11.7MB/s eta 0:00:01\r\u001b[K     |███████████████████████▌        | 2.5MB 11.7MB/s eta 0:00:01\r\u001b[K     |███████████████████████▋        | 2.5MB 11.7MB/s eta 0:00:01\r\u001b[K     |███████████████████████▋        | 2.5MB 11.7MB/s eta 0:00:01\r\u001b[K     |███████████████████████▊        | 2.5MB 11.7MB/s eta 0:00:01\r\u001b[K     |███████████████████████▉        | 2.5MB 11.7MB/s eta 0:00:01\r\u001b[K     |████████████████████████        | 2.5MB 11.7MB/s eta 0:00:01\r\u001b[K     |████████████████████████        | 2.5MB 11.7MB/s eta 0:00:01\r\u001b[K     |████████████████████████▏       | 2.5MB 11.7MB/s eta 0:00:01\r\u001b[K     |████████████████████████▎       | 2.5MB 11.7MB/s eta 0:00:01\r\u001b[K     |████████████████████████▍       | 2.6MB 11.7MB/s eta 0:00:01\r\u001b[K     |████████████████████████▍       | 2.6MB 11.7MB/s eta 0:00:01\r\u001b[K     |████████████████████████▌       | 2.6MB 11.7MB/s eta 0:00:01\r\u001b[K     |████████████████████████▋       | 2.6MB 11.7MB/s eta 0:00:01\r\u001b[K     |████████████████████████▊       | 2.6MB 11.7MB/s eta 0:00:01\r\u001b[K     |████████████████████████▉       | 2.6MB 11.7MB/s eta 0:00:01\r\u001b[K     |█████████████████████████       | 2.6MB 11.7MB/s eta 0:00:01\r\u001b[K     |█████████████████████████       | 2.6MB 11.7MB/s eta 0:00:01\r\u001b[K     |█████████████████████████▏      | 2.6MB 11.7MB/s eta 0:00:01\r\u001b[K     |█████████████████████████▏      | 2.7MB 11.7MB/s eta 0:00:01\r\u001b[K     |█████████████████████████▎      | 2.7MB 11.7MB/s eta 0:00:01\r\u001b[K     |█████████████████████████▍      | 2.7MB 11.7MB/s eta 0:00:01\r\u001b[K     |█████████████████████████▌      | 2.7MB 11.7MB/s eta 0:00:01\r\u001b[K     |█████████████████████████▋      | 2.7MB 11.7MB/s eta 0:00:01\r\u001b[K     |█████████████████████████▊      | 2.7MB 11.7MB/s eta 0:00:01\r\u001b[K     |█████████████████████████▉      | 2.7MB 11.7MB/s eta 0:00:01\r\u001b[K     |██████████████████████████      | 2.7MB 11.7MB/s eta 0:00:01\r\u001b[K     |██████████████████████████      | 2.7MB 11.7MB/s eta 0:00:01\r\u001b[K     |██████████████████████████      | 2.7MB 11.7MB/s eta 0:00:01\r\u001b[K     |██████████████████████████▏     | 2.8MB 11.7MB/s eta 0:00:01\r\u001b[K     |██████████████████████████▎     | 2.8MB 11.7MB/s eta 0:00:01\r\u001b[K     |██████████████████████████▍     | 2.8MB 11.7MB/s eta 0:00:01\r\u001b[K     |██████████████████████████▌     | 2.8MB 11.7MB/s eta 0:00:01\r\u001b[K     |██████████████████████████▋     | 2.8MB 11.7MB/s eta 0:00:01\r\u001b[K     |██████████████████████████▊     | 2.8MB 11.7MB/s eta 0:00:01\r\u001b[K     |██████████████████████████▊     | 2.8MB 11.7MB/s eta 0:00:01\r\u001b[K     |██████████████████████████▉     | 2.8MB 11.7MB/s eta 0:00:01\r\u001b[K     |███████████████████████████     | 2.8MB 11.7MB/s eta 0:00:01\r\u001b[K     |███████████████████████████     | 2.8MB 11.7MB/s eta 0:00:01\r\u001b[K     |███████████████████████████▏    | 2.9MB 11.7MB/s eta 0:00:01\r\u001b[K     |███████████████████████████▎    | 2.9MB 11.7MB/s eta 0:00:01\r\u001b[K     |███████████████████████████▍    | 2.9MB 11.7MB/s eta 0:00:01\r\u001b[K     |███████████████████████████▌    | 2.9MB 11.7MB/s eta 0:00:01\r\u001b[K     |███████████████████████████▌    | 2.9MB 11.7MB/s eta 0:00:01\r\u001b[K     |███████████████████████████▋    | 2.9MB 11.7MB/s eta 0:00:01\r\u001b[K     |███████████████████████████▊    | 2.9MB 11.7MB/s eta 0:00:01\r\u001b[K     |███████████████████████████▉    | 2.9MB 11.7MB/s eta 0:00:01\r\u001b[K     |████████████████████████████    | 2.9MB 11.7MB/s eta 0:00:01\r\u001b[K     |████████████████████████████    | 2.9MB 11.7MB/s eta 0:00:01\r\u001b[K     |████████████████████████████▏   | 3.0MB 11.7MB/s eta 0:00:01\r\u001b[K     |████████████████████████████▎   | 3.0MB 11.7MB/s eta 0:00:01\r\u001b[K     |████████████████████████████▍   | 3.0MB 11.7MB/s eta 0:00:01\r\u001b[K     |████████████████████████████▍   | 3.0MB 11.7MB/s eta 0:00:01\r\u001b[K     |████████████████████████████▌   | 3.0MB 11.7MB/s eta 0:00:01\r\u001b[K     |████████████████████████████▋   | 3.0MB 11.7MB/s eta 0:00:01\r\u001b[K     |████████████████████████████▊   | 3.0MB 11.7MB/s eta 0:00:01\r\u001b[K     |████████████████████████████▉   | 3.0MB 11.7MB/s eta 0:00:01\r\u001b[K     |█████████████████████████████   | 3.0MB 11.7MB/s eta 0:00:01\r\u001b[K     |█████████████████████████████   | 3.1MB 11.7MB/s eta 0:00:01\r\u001b[K     |█████████████████████████████▏  | 3.1MB 11.7MB/s eta 0:00:01\r\u001b[K     |█████████████████████████████▏  | 3.1MB 11.7MB/s eta 0:00:01\r\u001b[K     |█████████████████████████████▎  | 3.1MB 11.7MB/s eta 0:00:01\r\u001b[K     |█████████████████████████████▍  | 3.1MB 11.7MB/s eta 0:00:01\r\u001b[K     |█████████████████████████████▌  | 3.1MB 11.7MB/s eta 0:00:01\r\u001b[K     |█████████████████████████████▋  | 3.1MB 11.7MB/s eta 0:00:01\r\u001b[K     |█████████████████████████████▊  | 3.1MB 11.7MB/s eta 0:00:01\r\u001b[K     |█████████████████████████████▉  | 3.1MB 11.7MB/s eta 0:00:01\r\u001b[K     |██████████████████████████████  | 3.1MB 11.7MB/s eta 0:00:01\r\u001b[K     |██████████████████████████████  | 3.2MB 11.7MB/s eta 0:00:01\r\u001b[K     |██████████████████████████████  | 3.2MB 11.7MB/s eta 0:00:01\r\u001b[K     |██████████████████████████████▏ | 3.2MB 11.7MB/s eta 0:00:01\r\u001b[K     |██████████████████████████████▎ | 3.2MB 11.7MB/s eta 0:00:01\r\u001b[K     |██████████████████████████████▍ | 3.2MB 11.7MB/s eta 0:00:01\r\u001b[K     |██████████████████████████████▌ | 3.2MB 11.7MB/s eta 0:00:01\r\u001b[K     |██████████████████████████████▋ | 3.2MB 11.7MB/s eta 0:00:01\r\u001b[K     |██████████████████████████████▊ | 3.2MB 11.7MB/s eta 0:00:01\r\u001b[K     |██████████████████████████████▊ | 3.2MB 11.7MB/s eta 0:00:01\r\u001b[K     |██████████████████████████████▉ | 3.2MB 11.7MB/s eta 0:00:01\r\u001b[K     |███████████████████████████████ | 3.3MB 11.7MB/s eta 0:00:01\r\u001b[K     |███████████████████████████████ | 3.3MB 11.7MB/s eta 0:00:01\r\u001b[K     |███████████████████████████████▏| 3.3MB 11.7MB/s eta 0:00:01\r\u001b[K     |███████████████████████████████▎| 3.3MB 11.7MB/s eta 0:00:01\r\u001b[K     |███████████████████████████████▍| 3.3MB 11.7MB/s eta 0:00:01\r\u001b[K     |███████████████████████████████▌| 3.3MB 11.7MB/s eta 0:00:01\r\u001b[K     |███████████████████████████████▌| 3.3MB 11.7MB/s eta 0:00:01\r\u001b[K     |███████████████████████████████▋| 3.3MB 11.7MB/s eta 0:00:01\r\u001b[K     |███████████████████████████████▊| 3.3MB 11.7MB/s eta 0:00:01\r\u001b[K     |███████████████████████████████▉| 3.3MB 11.7MB/s eta 0:00:01\r\u001b[K     |████████████████████████████████| 3.4MB 11.7MB/s eta 0:00:01\r\u001b[K     |████████████████████████████████| 3.4MB 11.7MB/s \n",
            "\u001b[?25h"
          ],
          "name": "stdout"
        }
      ]
    },
    {
      "cell_type": "markdown",
      "metadata": {
        "id": "5w_XlxN1IsRJ"
      },
      "source": [
        "You will use the AdamW optimizer from [tensorflow/models](https://github.com/tensorflow/models)."
      ]
    },
    {
      "cell_type": "code",
      "metadata": {
        "id": "b-P1ZOA0FkVJ",
        "colab": {
          "base_uri": "https://localhost:8080/"
        },
        "outputId": "6a6e273a-aa0d-4f7e-8b1c-161765492dc8"
      },
      "source": [
        "!pip install -q tf-models-official"
      ],
      "execution_count": 3,
      "outputs": [
        {
          "output_type": "stream",
          "text": [
            "\u001b[K     |████████████████████████████████| 1.1MB 19.3MB/s \n",
            "\u001b[K     |████████████████████████████████| 645kB 55.3MB/s \n",
            "\u001b[K     |████████████████████████████████| 37.6MB 84kB/s \n",
            "\u001b[K     |████████████████████████████████| 706kB 48.5MB/s \n",
            "\u001b[K     |████████████████████████████████| 1.2MB 49.6MB/s \n",
            "\u001b[K     |████████████████████████████████| 174kB 60.9MB/s \n",
            "\u001b[K     |████████████████████████████████| 358kB 55.3MB/s \n",
            "\u001b[K     |████████████████████████████████| 51kB 7.6MB/s \n",
            "\u001b[K     |████████████████████████████████| 102kB 12.2MB/s \n",
            "\u001b[?25h  Building wheel for seqeval (setup.py) ... \u001b[?25l\u001b[?25hdone\n",
            "  Building wheel for py-cpuinfo (setup.py) ... \u001b[?25l\u001b[?25hdone\n"
          ],
          "name": "stdout"
        }
      ]
    },
    {
      "cell_type": "code",
      "metadata": {
        "id": "_XgTpm9ZxoN9"
      },
      "source": [
        "import os\n",
        "import shutil\n",
        "\n",
        "import tensorflow as tf\n",
        "import tensorflow_hub as hub\n",
        "import tensorflow_text as text\n",
        "from official.nlp import optimization  # to create AdamW optmizer\n",
        "\n",
        "import matplotlib.pyplot as plt\n",
        "\n",
        "tf.get_logger().setLevel('ERROR')"
      ],
      "execution_count": null,
      "outputs": []
    },
    {
      "cell_type": "markdown",
      "metadata": {
        "id": "q6MugfEgDRpY"
      },
      "source": [
        "## Sentiment Analysis\n",
        "\n",
        "This notebook trains a sentiment analysis model to classify movie reviews as *positive* or *negative*, based on the text of the review.\n",
        "\n",
        "You'll use the [Large Movie Review Dataset](https://ai.stanford.edu/~amaas/data/sentiment/) that contains the text of 50,000 movie reviews from the [Internet Movie Database](https://www.imdb.com/)."
      ]
    },
    {
      "cell_type": "markdown",
      "metadata": {
        "id": "Vnvd4mrtPHHV"
      },
      "source": [
        "### Download the IMDB dataset\n",
        "\n",
        "Let's download and extract the dataset, then explore the directory structure.\n"
      ]
    },
    {
      "cell_type": "markdown",
      "metadata": {
        "id": "lN9lWCYfPo7b"
      },
      "source": [
        "Next, you will use the `text_dataset_from_directory` utility to create a labeled `tf.data.Dataset`.\n",
        "\n",
        "The IMDB dataset has already been divided into train and test, but it lacks a validation set. Let's create a validation set using an 80:20 split of the training data by using the `validation_split` argument below.\n",
        "\n",
        "Note:  When using the `validation_split` and `subset` arguments, make sure to either specify a random seed, or to pass `shuffle=False`, so that the validation and training splits have no overlap."
      ]
    },
    {
      "cell_type": "code",
      "metadata": {
        "id": "6IwI_2bcIeX8"
      },
      "source": [
        ""
      ],
      "execution_count": null,
      "outputs": []
    },
    {
      "cell_type": "code",
      "metadata": {
        "id": "dXN2bhxVp8bP"
      },
      "source": [
        "import pandas as pd\n",
        "import numpy as np\n",
        "from tqdm import tqdm \n",
        "import pickle"
      ],
      "execution_count": null,
      "outputs": []
    },
    {
      "cell_type": "code",
      "metadata": {
        "id": "x3ty1ZiqDOr3"
      },
      "source": [
        "import logging\n",
        "from pathlib import Path"
      ],
      "execution_count": null,
      "outputs": []
    },
    {
      "cell_type": "code",
      "metadata": {
        "id": "z7LYORMWqUd2"
      },
      "source": [
        "data = pd.read_json(\"/content/drive/MyDrive/Facebook_Meme_Data/aca2021-meme-analysis-challenge/train.jsonl\", lines=True)\n",
        "images_path = '/content/drive/MyDrive/Facebook_Meme_Data/aca2021-meme-analysis-challenge/'"
      ],
      "execution_count": null,
      "outputs": []
    },
    {
      "cell_type": "code",
      "metadata": {
        "id": "8wgErlf-Bq0k"
      },
      "source": [
        "img_height, img_width = 244,  244"
      ],
      "execution_count": null,
      "outputs": []
    },
    {
      "cell_type": "code",
      "metadata": {
        "id": "j1pE2VtjCc2d"
      },
      "source": [
        "import shutil"
      ],
      "execution_count": null,
      "outputs": []
    },
    {
      "cell_type": "code",
      "metadata": {
        "colab": {
          "base_uri": "https://localhost:8080/",
          "height": 35
        },
        "id": "mRsLJJRxCeIi",
        "outputId": "4994618a-e934-4de9-8de1-9efff0beca8d"
      },
      "source": [
        "data.img[0]"
      ],
      "execution_count": null,
      "outputs": [
        {
          "output_type": "execute_result",
          "data": {
            "application/vnd.google.colaboratory.intrinsic+json": {
              "type": "string"
            },
            "text/plain": [
              "'img/42953.png'"
            ]
          },
          "metadata": {
            "tags": []
          },
          "execution_count": 12
        }
      ]
    },
    {
      "cell_type": "code",
      "metadata": {
        "id": "zCzBUPFBCMHv"
      },
      "source": [
        "target = '/content/drive/MyDrive/Facebook_Meme_Data/aca2021-meme-analysis-challenge/train/'\n",
        "for i in data.img:\n",
        "  shutil.copyfile(images_path + i, target + i)\n"
      ],
      "execution_count": null,
      "outputs": []
    },
    {
      "cell_type": "code",
      "metadata": {
        "colab": {
          "base_uri": "https://localhost:8080/",
          "height": 237
        },
        "id": "R2B1BC1BDX5N",
        "outputId": "0882cc29-d143-425f-832d-55e8ea42c5ed"
      },
      "source": [
        "Daadata_dir = '/content/drive/MyDrive/Facebook_Meme_Data/aca2021-meme-analysis-challenge/img/'\n",
        "list_ds = tf.data.Dataset.list_files(str(data_dir/'*/*'), shuffle=False)\n",
        "list_ds = list_ds.shuffle(image_count, reshuffle_each_iteration=False)\n",
        "val_size = int(image_count * 0.2)\n",
        "train_ds = list_ds.skip(val_size)\n",
        "val_ds = list_ds.take(val_size)\n",
        "print(tf.data.experimental.cardinality(train_ds).numpy())\n",
        "print(tf.data.experimental.cardinality(val_ds).numpy())\n"
      ],
      "execution_count": null,
      "outputs": [
        {
          "output_type": "error",
          "ename": "TypeError",
          "evalue": "ignored",
          "traceback": [
            "\u001b[0;31m---------------------------------------------------------------------------\u001b[0m",
            "\u001b[0;31mTypeError\u001b[0m                                 Traceback (most recent call last)",
            "\u001b[0;32m<ipython-input-17-abd78debd94f>\u001b[0m in \u001b[0;36m<module>\u001b[0;34m()\u001b[0m\n\u001b[1;32m      1\u001b[0m \u001b[0mdata_dir\u001b[0m \u001b[0;34m=\u001b[0m \u001b[0;34m'/content/drive/MyDrive/Facebook_Meme_Data/aca2021-meme-analysis-challenge/img/'\u001b[0m\u001b[0;34m\u001b[0m\u001b[0;34m\u001b[0m\u001b[0m\n\u001b[0;32m----> 2\u001b[0;31m \u001b[0mlist_ds\u001b[0m \u001b[0;34m=\u001b[0m \u001b[0mtf\u001b[0m\u001b[0;34m.\u001b[0m\u001b[0mdata\u001b[0m\u001b[0;34m.\u001b[0m\u001b[0mDataset\u001b[0m\u001b[0;34m.\u001b[0m\u001b[0mlist_files\u001b[0m\u001b[0;34m(\u001b[0m\u001b[0mstr\u001b[0m\u001b[0;34m(\u001b[0m\u001b[0mdata_dir\u001b[0m\u001b[0;34m/\u001b[0m\u001b[0;34m'*/*'\u001b[0m\u001b[0;34m)\u001b[0m\u001b[0;34m,\u001b[0m \u001b[0mshuffle\u001b[0m\u001b[0;34m=\u001b[0m\u001b[0;32mFalse\u001b[0m\u001b[0;34m)\u001b[0m\u001b[0;34m\u001b[0m\u001b[0;34m\u001b[0m\u001b[0m\n\u001b[0m\u001b[1;32m      3\u001b[0m \u001b[0mlist_ds\u001b[0m \u001b[0;34m=\u001b[0m \u001b[0mlist_ds\u001b[0m\u001b[0;34m.\u001b[0m\u001b[0mshuffle\u001b[0m\u001b[0;34m(\u001b[0m\u001b[0mimage_count\u001b[0m\u001b[0;34m,\u001b[0m \u001b[0mreshuffle_each_iteration\u001b[0m\u001b[0;34m=\u001b[0m\u001b[0;32mFalse\u001b[0m\u001b[0;34m)\u001b[0m\u001b[0;34m\u001b[0m\u001b[0;34m\u001b[0m\u001b[0m\n\u001b[1;32m      4\u001b[0m \u001b[0mval_size\u001b[0m \u001b[0;34m=\u001b[0m \u001b[0mint\u001b[0m\u001b[0;34m(\u001b[0m\u001b[0mimage_count\u001b[0m \u001b[0;34m*\u001b[0m \u001b[0;36m0.2\u001b[0m\u001b[0;34m)\u001b[0m\u001b[0;34m\u001b[0m\u001b[0;34m\u001b[0m\u001b[0m\n\u001b[1;32m      5\u001b[0m \u001b[0mtrain_ds\u001b[0m \u001b[0;34m=\u001b[0m \u001b[0mlist_ds\u001b[0m\u001b[0;34m.\u001b[0m\u001b[0mskip\u001b[0m\u001b[0;34m(\u001b[0m\u001b[0mval_size\u001b[0m\u001b[0;34m)\u001b[0m\u001b[0;34m\u001b[0m\u001b[0;34m\u001b[0m\u001b[0m\n",
            "\u001b[0;31mTypeError\u001b[0m: unsupported operand type(s) for /: 'str' and 'str'"
          ]
        }
      ]
    },
    {
      "cell_type": "code",
      "metadata": {
        "colab": {
          "base_uri": "https://localhost:8080/",
          "height": 195
        },
        "id": "3RxRM4as3VNu",
        "outputId": "ad46ad03-ae3c-4793-d2cb-551c95aabcba"
      },
      "source": [
        "data['img_data'] = data['id'].map(images_transformed)\n",
        "data.head()"
      ],
      "execution_count": null,
      "outputs": [
        {
          "output_type": "execute_result",
          "data": {
            "text/html": [
              "<div>\n",
              "<style scoped>\n",
              "    .dataframe tbody tr th:only-of-type {\n",
              "        vertical-align: middle;\n",
              "    }\n",
              "\n",
              "    .dataframe tbody tr th {\n",
              "        vertical-align: top;\n",
              "    }\n",
              "\n",
              "    .dataframe thead th {\n",
              "        text-align: right;\n",
              "    }\n",
              "</style>\n",
              "<table border=\"1\" class=\"dataframe\">\n",
              "  <thead>\n",
              "    <tr style=\"text-align: right;\">\n",
              "      <th></th>\n",
              "      <th>id</th>\n",
              "      <th>img</th>\n",
              "      <th>label</th>\n",
              "      <th>text</th>\n",
              "      <th>img_data</th>\n",
              "    </tr>\n",
              "  </thead>\n",
              "  <tbody>\n",
              "    <tr>\n",
              "      <th>0</th>\n",
              "      <td>42953</td>\n",
              "      <td>img/42953.png</td>\n",
              "      <td>0</td>\n",
              "      <td>its their character not their color that matters</td>\n",
              "      <td>[0.0, 0.0, 0.0, 0.0, 0.0, 0.0, 0.0, 0.0, 0.0, ...</td>\n",
              "    </tr>\n",
              "    <tr>\n",
              "      <th>1</th>\n",
              "      <td>23058</td>\n",
              "      <td>img/23058.png</td>\n",
              "      <td>0</td>\n",
              "      <td>don't be afraid to love again everyone is not ...</td>\n",
              "      <td>[0.0, 0.0, 0.0, 0.0, 0.0, 0.0, 0.0, 0.0, 0.0, ...</td>\n",
              "    </tr>\n",
              "    <tr>\n",
              "      <th>2</th>\n",
              "      <td>13894</td>\n",
              "      <td>img/13894.png</td>\n",
              "      <td>0</td>\n",
              "      <td>putting bows on your pet</td>\n",
              "      <td>[0.0, 0.0, 0.0, 0.0, 0.0, 0.0, 0.0, 0.0, 0.0, ...</td>\n",
              "    </tr>\n",
              "    <tr>\n",
              "      <th>3</th>\n",
              "      <td>37408</td>\n",
              "      <td>img/37408.png</td>\n",
              "      <td>0</td>\n",
              "      <td>i love everything and everybody! except for sq...</td>\n",
              "      <td>[0.0, 0.0, 0.0, 0.0, 0.0, 0.0, 0.0, 0.0, 0.0, ...</td>\n",
              "    </tr>\n",
              "    <tr>\n",
              "      <th>4</th>\n",
              "      <td>82403</td>\n",
              "      <td>img/82403.png</td>\n",
              "      <td>0</td>\n",
              "      <td>everybody loves chocolate chip cookies, even h...</td>\n",
              "      <td>[0.0, 0.0, 0.0, 0.0, 0.0, 0.0, 0.0, 0.0, 0.0, ...</td>\n",
              "    </tr>\n",
              "  </tbody>\n",
              "</table>\n",
              "</div>"
            ],
            "text/plain": [
              "      id  ...                                           img_data\n",
              "0  42953  ...  [0.0, 0.0, 0.0, 0.0, 0.0, 0.0, 0.0, 0.0, 0.0, ...\n",
              "1  23058  ...  [0.0, 0.0, 0.0, 0.0, 0.0, 0.0, 0.0, 0.0, 0.0, ...\n",
              "2  13894  ...  [0.0, 0.0, 0.0, 0.0, 0.0, 0.0, 0.0, 0.0, 0.0, ...\n",
              "3  37408  ...  [0.0, 0.0, 0.0, 0.0, 0.0, 0.0, 0.0, 0.0, 0.0, ...\n",
              "4  82403  ...  [0.0, 0.0, 0.0, 0.0, 0.0, 0.0, 0.0, 0.0, 0.0, ...\n",
              "\n",
              "[5 rows x 5 columns]"
            ]
          },
          "metadata": {
            "tags": []
          },
          "execution_count": 11
        }
      ]
    },
    {
      "cell_type": "code",
      "metadata": {
        "id": "476zBXdM3_uv"
      },
      "source": [
        "  def generator():\n",
        "    for txt, img, l in zip(data.text, data.img_data, data.label):\n",
        "      yield {\"txt_input\": procesor.predict(txt), \"img_input\": img}, int(l)"
      ],
      "execution_count": null,
      "outputs": []
    },
    {
      "cell_type": "code",
      "metadata": {
        "id": "OlEnBl9m4rrt"
      },
      "source": [
        "  dataset = tf.data.Dataset.from_generator(generator,\n",
        "                                           output_types=({\n",
        "                                               \"txt_input\": tf.int64, \n",
        "                                               \"img_input\": tf.float32}, \n",
        "                                               tf.int64))"
      ],
      "execution_count": null,
      "outputs": []
    },
    {
      "cell_type": "code",
      "metadata": {
        "id": "KUUaqxx02HT8"
      },
      "source": [
        ""
      ],
      "execution_count": null,
      "outputs": []
    },
    {
      "cell_type": "code",
      "metadata": {
        "id": "DLAAshabsqKS"
      },
      "source": [
        "# DATASET_SIZE = len(data)\n",
        "# train_size = int(0.8 * DATASET_SIZE)\n",
        "# # val_size = int(0.20 * DATASET_SIZE)\n",
        "\n",
        "# train_data = data[:train_size]\n",
        "# val_data = data[train_size:]\n",
        "\n",
        "\n",
        "# train_img = tf.convert_to_tensor(np.array(train_data.img_data.to_list()).reshape(len(train_data), 25088))\n",
        "# val_img = tf.convert_to_tensor(np.array(val_data.img_data.to_list()).reshape(len(val_data), 25088))\n",
        "# train_img=tf.data.Dataset.from_tensor_slices((train_data.\n",
        "# train_text = tf.convert_to_tensor(train_data.text.to_list())\n",
        "# val_text = tf.convert_to_tensor(val_data.text.to_list())\n",
        "\n",
        "# train_labels = tf.convert_to_tensor(train_data.label.to_list())\n",
        "# val_labels = tf.convert_to_tensor(val_data.label.to_list())"
      ],
      "execution_count": null,
      "outputs": []
    },
    {
      "cell_type": "code",
      "metadata": {
        "id": "9rVaeF3om2YF"
      },
      "source": [
        "DATASET_SIZE = len(data)\n",
        "train_size = int(0.8 * DATASET_SIZE)\n",
        "# val_size = int(0.20 * DATASET_SIZE)\n",
        "\n",
        "train_data = data[:train_size]\n",
        "val_data = data[train_size:]"
      ],
      "execution_count": null,
      "outputs": []
    },
    {
      "cell_type": "code",
      "metadata": {
        "colab": {
          "base_uri": "https://localhost:8080/",
          "height": 370
        },
        "id": "bFxHaWIiiVxQ",
        "outputId": "6f1015ba-b058-47f8-9591-146f13e43487"
      },
      "source": [
        "\n",
        "\n",
        "# train_img=tf.data.Dataset.from_tensor_slices(( np.array(data[:train_size].img_data.to_list()).reshape(len(data[:train_size]), 25088)))\n",
        "# val_img=tf.data.Dataset.from_tensor_slices(np.array(data[train_size:].img_data.to_list()).reshape(len(data[train_size:]), 25088))\n",
        "\n",
        "# train_text =tf.data.Dataset.from_tensor_slices(np.array(data[:train_size].text.to_list()))\n",
        "# val_text = tf.data.Dataset.from_tensor_slices(np.array(data[:train_size].text.to_list()))\n",
        "\n",
        "# train_labels =tf.data.Dataset.from_tensor_slices(np.array(data[:train_size].label.to_list()))\n",
        "# val_labels = tf.data.Dataset.from_tensor_slices(np.array(data[train_size:].label.to_list()))\n",
        "\n",
        "# traintf.data.Dataset.from_tensor_slices(( np.array(data[:train_size].img_data.to_list()).reshape(len(data[:train_size]), 25088),np.array(data[:train_size].text.to_list()),np.array(data[:train_size].label.to_list())))"
      ],
      "execution_count": null,
      "outputs": [
        {
          "output_type": "error",
          "ename": "KeyboardInterrupt",
          "evalue": "ignored",
          "traceback": [
            "\u001b[0;31m---------------------------------------------------------------------------\u001b[0m",
            "\u001b[0;31mKeyboardInterrupt\u001b[0m                         Traceback (most recent call last)",
            "\u001b[0;32m<ipython-input-8-fdf556e37b67>\u001b[0m in \u001b[0;36m<module>\u001b[0;34m()\u001b[0m\n\u001b[1;32m      1\u001b[0m \u001b[0;34m\u001b[0m\u001b[0m\n\u001b[1;32m      2\u001b[0m \u001b[0;34m\u001b[0m\u001b[0m\n\u001b[0;32m----> 3\u001b[0;31m \u001b[0mtrain_img\u001b[0m\u001b[0;34m=\u001b[0m\u001b[0mtf\u001b[0m\u001b[0;34m.\u001b[0m\u001b[0mdata\u001b[0m\u001b[0;34m.\u001b[0m\u001b[0mDataset\u001b[0m\u001b[0;34m.\u001b[0m\u001b[0mfrom_tensor_slices\u001b[0m\u001b[0;34m(\u001b[0m\u001b[0;34m(\u001b[0m \u001b[0mnp\u001b[0m\u001b[0;34m.\u001b[0m\u001b[0marray\u001b[0m\u001b[0;34m(\u001b[0m\u001b[0mdata\u001b[0m\u001b[0;34m[\u001b[0m\u001b[0;34m:\u001b[0m\u001b[0mtrain_size\u001b[0m\u001b[0;34m]\u001b[0m\u001b[0;34m.\u001b[0m\u001b[0mimg_data\u001b[0m\u001b[0;34m.\u001b[0m\u001b[0mto_list\u001b[0m\u001b[0;34m(\u001b[0m\u001b[0;34m)\u001b[0m\u001b[0;34m)\u001b[0m\u001b[0;34m.\u001b[0m\u001b[0mreshape\u001b[0m\u001b[0;34m(\u001b[0m\u001b[0mlen\u001b[0m\u001b[0;34m(\u001b[0m\u001b[0mdata\u001b[0m\u001b[0;34m[\u001b[0m\u001b[0;34m:\u001b[0m\u001b[0mtrain_size\u001b[0m\u001b[0;34m]\u001b[0m\u001b[0;34m)\u001b[0m\u001b[0;34m,\u001b[0m \u001b[0;36m25088\u001b[0m\u001b[0;34m)\u001b[0m\u001b[0;34m)\u001b[0m\u001b[0;34m)\u001b[0m\u001b[0;34m\u001b[0m\u001b[0;34m\u001b[0m\u001b[0m\n\u001b[0m\u001b[1;32m      4\u001b[0m \u001b[0mval_img\u001b[0m\u001b[0;34m=\u001b[0m\u001b[0mtf\u001b[0m\u001b[0;34m.\u001b[0m\u001b[0mdata\u001b[0m\u001b[0;34m.\u001b[0m\u001b[0mDataset\u001b[0m\u001b[0;34m.\u001b[0m\u001b[0mfrom_tensor_slices\u001b[0m\u001b[0;34m(\u001b[0m\u001b[0mnp\u001b[0m\u001b[0;34m.\u001b[0m\u001b[0marray\u001b[0m\u001b[0;34m(\u001b[0m\u001b[0mdata\u001b[0m\u001b[0;34m[\u001b[0m\u001b[0mtrain_size\u001b[0m\u001b[0;34m:\u001b[0m\u001b[0;34m]\u001b[0m\u001b[0;34m.\u001b[0m\u001b[0mimg_data\u001b[0m\u001b[0;34m.\u001b[0m\u001b[0mto_list\u001b[0m\u001b[0;34m(\u001b[0m\u001b[0;34m)\u001b[0m\u001b[0;34m)\u001b[0m\u001b[0;34m.\u001b[0m\u001b[0mreshape\u001b[0m\u001b[0;34m(\u001b[0m\u001b[0mlen\u001b[0m\u001b[0;34m(\u001b[0m\u001b[0mdata\u001b[0m\u001b[0;34m[\u001b[0m\u001b[0mtrain_size\u001b[0m\u001b[0;34m:\u001b[0m\u001b[0;34m]\u001b[0m\u001b[0;34m)\u001b[0m\u001b[0;34m,\u001b[0m \u001b[0;36m25088\u001b[0m\u001b[0;34m)\u001b[0m\u001b[0;34m)\u001b[0m\u001b[0;34m\u001b[0m\u001b[0;34m\u001b[0m\u001b[0m\n\u001b[1;32m      5\u001b[0m \u001b[0;34m\u001b[0m\u001b[0m\n",
            "\u001b[0;32m/usr/local/lib/python3.7/dist-packages/tensorflow/python/data/ops/dataset_ops.py\u001b[0m in \u001b[0;36mfrom_tensor_slices\u001b[0;34m(tensors)\u001b[0m\n\u001b[1;32m    689\u001b[0m       \u001b[0mDataset\u001b[0m\u001b[0;34m:\u001b[0m \u001b[0mA\u001b[0m\u001b[0;31m \u001b[0m\u001b[0;31m`\u001b[0m\u001b[0mDataset\u001b[0m\u001b[0;31m`\u001b[0m\u001b[0;34m.\u001b[0m\u001b[0;34m\u001b[0m\u001b[0;34m\u001b[0m\u001b[0m\n\u001b[1;32m    690\u001b[0m     \"\"\"\n\u001b[0;32m--> 691\u001b[0;31m     \u001b[0;32mreturn\u001b[0m \u001b[0mTensorSliceDataset\u001b[0m\u001b[0;34m(\u001b[0m\u001b[0mtensors\u001b[0m\u001b[0;34m)\u001b[0m\u001b[0;34m\u001b[0m\u001b[0;34m\u001b[0m\u001b[0m\n\u001b[0m\u001b[1;32m    692\u001b[0m \u001b[0;34m\u001b[0m\u001b[0m\n\u001b[1;32m    693\u001b[0m   \u001b[0;32mclass\u001b[0m \u001b[0m_GeneratorState\u001b[0m\u001b[0;34m(\u001b[0m\u001b[0mobject\u001b[0m\u001b[0;34m)\u001b[0m\u001b[0;34m:\u001b[0m\u001b[0;34m\u001b[0m\u001b[0;34m\u001b[0m\u001b[0m\n",
            "\u001b[0;32m/usr/local/lib/python3.7/dist-packages/tensorflow/python/data/ops/dataset_ops.py\u001b[0m in \u001b[0;36m__init__\u001b[0;34m(self, element)\u001b[0m\n\u001b[1;32m   3153\u001b[0m   \u001b[0;32mdef\u001b[0m \u001b[0m__init__\u001b[0m\u001b[0;34m(\u001b[0m\u001b[0mself\u001b[0m\u001b[0;34m,\u001b[0m \u001b[0melement\u001b[0m\u001b[0;34m)\u001b[0m\u001b[0;34m:\u001b[0m\u001b[0;34m\u001b[0m\u001b[0;34m\u001b[0m\u001b[0m\n\u001b[1;32m   3154\u001b[0m     \u001b[0;34m\"\"\"See `Dataset.from_tensor_slices()` for details.\"\"\"\u001b[0m\u001b[0;34m\u001b[0m\u001b[0;34m\u001b[0m\u001b[0m\n\u001b[0;32m-> 3155\u001b[0;31m     \u001b[0melement\u001b[0m \u001b[0;34m=\u001b[0m \u001b[0mstructure\u001b[0m\u001b[0;34m.\u001b[0m\u001b[0mnormalize_element\u001b[0m\u001b[0;34m(\u001b[0m\u001b[0melement\u001b[0m\u001b[0;34m)\u001b[0m\u001b[0;34m\u001b[0m\u001b[0;34m\u001b[0m\u001b[0m\n\u001b[0m\u001b[1;32m   3156\u001b[0m     \u001b[0mbatched_spec\u001b[0m \u001b[0;34m=\u001b[0m \u001b[0mstructure\u001b[0m\u001b[0;34m.\u001b[0m\u001b[0mtype_spec_from_value\u001b[0m\u001b[0;34m(\u001b[0m\u001b[0melement\u001b[0m\u001b[0;34m)\u001b[0m\u001b[0;34m\u001b[0m\u001b[0;34m\u001b[0m\u001b[0m\n\u001b[1;32m   3157\u001b[0m     \u001b[0mself\u001b[0m\u001b[0;34m.\u001b[0m\u001b[0m_tensors\u001b[0m \u001b[0;34m=\u001b[0m \u001b[0mstructure\u001b[0m\u001b[0;34m.\u001b[0m\u001b[0mto_batched_tensor_list\u001b[0m\u001b[0;34m(\u001b[0m\u001b[0mbatched_spec\u001b[0m\u001b[0;34m,\u001b[0m \u001b[0melement\u001b[0m\u001b[0;34m)\u001b[0m\u001b[0;34m\u001b[0m\u001b[0;34m\u001b[0m\u001b[0m\n",
            "\u001b[0;32m/usr/local/lib/python3.7/dist-packages/tensorflow/python/data/util/structure.py\u001b[0m in \u001b[0;36mnormalize_element\u001b[0;34m(element, element_signature)\u001b[0m\n\u001b[1;32m    127\u001b[0m           \u001b[0mdtype\u001b[0m \u001b[0;34m=\u001b[0m \u001b[0mgetattr\u001b[0m\u001b[0;34m(\u001b[0m\u001b[0mspec\u001b[0m\u001b[0;34m,\u001b[0m \u001b[0;34m\"dtype\"\u001b[0m\u001b[0;34m,\u001b[0m \u001b[0;32mNone\u001b[0m\u001b[0;34m)\u001b[0m\u001b[0;34m\u001b[0m\u001b[0;34m\u001b[0m\u001b[0m\n\u001b[1;32m    128\u001b[0m           normalized_components.append(\n\u001b[0;32m--> 129\u001b[0;31m               ops.convert_to_tensor(t, name=\"component_%d\" % i, dtype=dtype))\n\u001b[0m\u001b[1;32m    130\u001b[0m   \u001b[0;32mreturn\u001b[0m \u001b[0mnest\u001b[0m\u001b[0;34m.\u001b[0m\u001b[0mpack_sequence_as\u001b[0m\u001b[0;34m(\u001b[0m\u001b[0mpack_as\u001b[0m\u001b[0;34m,\u001b[0m \u001b[0mnormalized_components\u001b[0m\u001b[0;34m)\u001b[0m\u001b[0;34m\u001b[0m\u001b[0;34m\u001b[0m\u001b[0m\n\u001b[1;32m    131\u001b[0m \u001b[0;34m\u001b[0m\u001b[0m\n",
            "\u001b[0;32m/usr/local/lib/python3.7/dist-packages/tensorflow/python/profiler/trace.py\u001b[0m in \u001b[0;36mwrapped\u001b[0;34m(*args, **kwargs)\u001b[0m\n\u001b[1;32m    161\u001b[0m         \u001b[0;32mwith\u001b[0m \u001b[0mTrace\u001b[0m\u001b[0;34m(\u001b[0m\u001b[0mtrace_name\u001b[0m\u001b[0;34m,\u001b[0m \u001b[0;34m**\u001b[0m\u001b[0mtrace_kwargs\u001b[0m\u001b[0;34m)\u001b[0m\u001b[0;34m:\u001b[0m\u001b[0;34m\u001b[0m\u001b[0;34m\u001b[0m\u001b[0m\n\u001b[1;32m    162\u001b[0m           \u001b[0;32mreturn\u001b[0m \u001b[0mfunc\u001b[0m\u001b[0;34m(\u001b[0m\u001b[0;34m*\u001b[0m\u001b[0margs\u001b[0m\u001b[0;34m,\u001b[0m \u001b[0;34m**\u001b[0m\u001b[0mkwargs\u001b[0m\u001b[0;34m)\u001b[0m\u001b[0;34m\u001b[0m\u001b[0;34m\u001b[0m\u001b[0m\n\u001b[0;32m--> 163\u001b[0;31m       \u001b[0;32mreturn\u001b[0m \u001b[0mfunc\u001b[0m\u001b[0;34m(\u001b[0m\u001b[0;34m*\u001b[0m\u001b[0margs\u001b[0m\u001b[0;34m,\u001b[0m \u001b[0;34m**\u001b[0m\u001b[0mkwargs\u001b[0m\u001b[0;34m)\u001b[0m\u001b[0;34m\u001b[0m\u001b[0;34m\u001b[0m\u001b[0m\n\u001b[0m\u001b[1;32m    164\u001b[0m \u001b[0;34m\u001b[0m\u001b[0m\n\u001b[1;32m    165\u001b[0m     \u001b[0;32mreturn\u001b[0m \u001b[0mwrapped\u001b[0m\u001b[0;34m\u001b[0m\u001b[0;34m\u001b[0m\u001b[0m\n",
            "\u001b[0;32m/usr/local/lib/python3.7/dist-packages/tensorflow/python/framework/ops.py\u001b[0m in \u001b[0;36mconvert_to_tensor\u001b[0;34m(value, dtype, name, as_ref, preferred_dtype, dtype_hint, ctx, accepted_result_types)\u001b[0m\n\u001b[1;32m   1538\u001b[0m \u001b[0;34m\u001b[0m\u001b[0m\n\u001b[1;32m   1539\u001b[0m     \u001b[0;32mif\u001b[0m \u001b[0mret\u001b[0m \u001b[0;32mis\u001b[0m \u001b[0;32mNone\u001b[0m\u001b[0;34m:\u001b[0m\u001b[0;34m\u001b[0m\u001b[0;34m\u001b[0m\u001b[0m\n\u001b[0;32m-> 1540\u001b[0;31m       \u001b[0mret\u001b[0m \u001b[0;34m=\u001b[0m \u001b[0mconversion_func\u001b[0m\u001b[0;34m(\u001b[0m\u001b[0mvalue\u001b[0m\u001b[0;34m,\u001b[0m \u001b[0mdtype\u001b[0m\u001b[0;34m=\u001b[0m\u001b[0mdtype\u001b[0m\u001b[0;34m,\u001b[0m \u001b[0mname\u001b[0m\u001b[0;34m=\u001b[0m\u001b[0mname\u001b[0m\u001b[0;34m,\u001b[0m \u001b[0mas_ref\u001b[0m\u001b[0;34m=\u001b[0m\u001b[0mas_ref\u001b[0m\u001b[0;34m)\u001b[0m\u001b[0;34m\u001b[0m\u001b[0;34m\u001b[0m\u001b[0m\n\u001b[0m\u001b[1;32m   1541\u001b[0m \u001b[0;34m\u001b[0m\u001b[0m\n\u001b[1;32m   1542\u001b[0m     \u001b[0;32mif\u001b[0m \u001b[0mret\u001b[0m \u001b[0;32mis\u001b[0m \u001b[0mNotImplemented\u001b[0m\u001b[0;34m:\u001b[0m\u001b[0;34m\u001b[0m\u001b[0;34m\u001b[0m\u001b[0m\n",
            "\u001b[0;32m/usr/local/lib/python3.7/dist-packages/tensorflow/python/framework/tensor_conversion_registry.py\u001b[0m in \u001b[0;36m_default_conversion_function\u001b[0;34m(***failed resolving arguments***)\u001b[0m\n\u001b[1;32m     50\u001b[0m \u001b[0;32mdef\u001b[0m \u001b[0m_default_conversion_function\u001b[0m\u001b[0;34m(\u001b[0m\u001b[0mvalue\u001b[0m\u001b[0;34m,\u001b[0m \u001b[0mdtype\u001b[0m\u001b[0;34m,\u001b[0m \u001b[0mname\u001b[0m\u001b[0;34m,\u001b[0m \u001b[0mas_ref\u001b[0m\u001b[0;34m)\u001b[0m\u001b[0;34m:\u001b[0m\u001b[0;34m\u001b[0m\u001b[0;34m\u001b[0m\u001b[0m\n\u001b[1;32m     51\u001b[0m   \u001b[0;32mdel\u001b[0m \u001b[0mas_ref\u001b[0m  \u001b[0;31m# Unused.\u001b[0m\u001b[0;34m\u001b[0m\u001b[0;34m\u001b[0m\u001b[0m\n\u001b[0;32m---> 52\u001b[0;31m   \u001b[0;32mreturn\u001b[0m \u001b[0mconstant_op\u001b[0m\u001b[0;34m.\u001b[0m\u001b[0mconstant\u001b[0m\u001b[0;34m(\u001b[0m\u001b[0mvalue\u001b[0m\u001b[0;34m,\u001b[0m \u001b[0mdtype\u001b[0m\u001b[0;34m,\u001b[0m \u001b[0mname\u001b[0m\u001b[0;34m=\u001b[0m\u001b[0mname\u001b[0m\u001b[0;34m)\u001b[0m\u001b[0;34m\u001b[0m\u001b[0;34m\u001b[0m\u001b[0m\n\u001b[0m\u001b[1;32m     53\u001b[0m \u001b[0;34m\u001b[0m\u001b[0m\n\u001b[1;32m     54\u001b[0m \u001b[0;34m\u001b[0m\u001b[0m\n",
            "\u001b[0;32m/usr/local/lib/python3.7/dist-packages/tensorflow/python/framework/constant_op.py\u001b[0m in \u001b[0;36mconstant\u001b[0;34m(value, dtype, shape, name)\u001b[0m\n\u001b[1;32m    263\u001b[0m   \"\"\"\n\u001b[1;32m    264\u001b[0m   return _constant_impl(value, dtype, shape, name, verify_shape=False,\n\u001b[0;32m--> 265\u001b[0;31m                         allow_broadcast=True)\n\u001b[0m\u001b[1;32m    266\u001b[0m \u001b[0;34m\u001b[0m\u001b[0m\n\u001b[1;32m    267\u001b[0m \u001b[0;34m\u001b[0m\u001b[0m\n",
            "\u001b[0;32m/usr/local/lib/python3.7/dist-packages/tensorflow/python/framework/constant_op.py\u001b[0m in \u001b[0;36m_constant_impl\u001b[0;34m(value, dtype, shape, name, verify_shape, allow_broadcast)\u001b[0m\n\u001b[1;32m    274\u001b[0m       \u001b[0;32mwith\u001b[0m \u001b[0mtrace\u001b[0m\u001b[0;34m.\u001b[0m\u001b[0mTrace\u001b[0m\u001b[0;34m(\u001b[0m\u001b[0;34m\"tf.constant\"\u001b[0m\u001b[0;34m)\u001b[0m\u001b[0;34m:\u001b[0m\u001b[0;34m\u001b[0m\u001b[0;34m\u001b[0m\u001b[0m\n\u001b[1;32m    275\u001b[0m         \u001b[0;32mreturn\u001b[0m \u001b[0m_constant_eager_impl\u001b[0m\u001b[0;34m(\u001b[0m\u001b[0mctx\u001b[0m\u001b[0;34m,\u001b[0m \u001b[0mvalue\u001b[0m\u001b[0;34m,\u001b[0m \u001b[0mdtype\u001b[0m\u001b[0;34m,\u001b[0m \u001b[0mshape\u001b[0m\u001b[0;34m,\u001b[0m \u001b[0mverify_shape\u001b[0m\u001b[0;34m)\u001b[0m\u001b[0;34m\u001b[0m\u001b[0;34m\u001b[0m\u001b[0m\n\u001b[0;32m--> 276\u001b[0;31m     \u001b[0;32mreturn\u001b[0m \u001b[0m_constant_eager_impl\u001b[0m\u001b[0;34m(\u001b[0m\u001b[0mctx\u001b[0m\u001b[0;34m,\u001b[0m \u001b[0mvalue\u001b[0m\u001b[0;34m,\u001b[0m \u001b[0mdtype\u001b[0m\u001b[0;34m,\u001b[0m \u001b[0mshape\u001b[0m\u001b[0;34m,\u001b[0m \u001b[0mverify_shape\u001b[0m\u001b[0;34m)\u001b[0m\u001b[0;34m\u001b[0m\u001b[0;34m\u001b[0m\u001b[0m\n\u001b[0m\u001b[1;32m    277\u001b[0m \u001b[0;34m\u001b[0m\u001b[0m\n\u001b[1;32m    278\u001b[0m   \u001b[0mg\u001b[0m \u001b[0;34m=\u001b[0m \u001b[0mops\u001b[0m\u001b[0;34m.\u001b[0m\u001b[0mget_default_graph\u001b[0m\u001b[0;34m(\u001b[0m\u001b[0;34m)\u001b[0m\u001b[0;34m\u001b[0m\u001b[0;34m\u001b[0m\u001b[0m\n",
            "\u001b[0;32m/usr/local/lib/python3.7/dist-packages/tensorflow/python/framework/constant_op.py\u001b[0m in \u001b[0;36m_constant_eager_impl\u001b[0;34m(ctx, value, dtype, shape, verify_shape)\u001b[0m\n\u001b[1;32m    299\u001b[0m \u001b[0;32mdef\u001b[0m \u001b[0m_constant_eager_impl\u001b[0m\u001b[0;34m(\u001b[0m\u001b[0mctx\u001b[0m\u001b[0;34m,\u001b[0m \u001b[0mvalue\u001b[0m\u001b[0;34m,\u001b[0m \u001b[0mdtype\u001b[0m\u001b[0;34m,\u001b[0m \u001b[0mshape\u001b[0m\u001b[0;34m,\u001b[0m \u001b[0mverify_shape\u001b[0m\u001b[0;34m)\u001b[0m\u001b[0;34m:\u001b[0m\u001b[0;34m\u001b[0m\u001b[0;34m\u001b[0m\u001b[0m\n\u001b[1;32m    300\u001b[0m   \u001b[0;34m\"\"\"Implementation of eager constant.\"\"\"\u001b[0m\u001b[0;34m\u001b[0m\u001b[0;34m\u001b[0m\u001b[0m\n\u001b[0;32m--> 301\u001b[0;31m   \u001b[0mt\u001b[0m \u001b[0;34m=\u001b[0m \u001b[0mconvert_to_eager_tensor\u001b[0m\u001b[0;34m(\u001b[0m\u001b[0mvalue\u001b[0m\u001b[0;34m,\u001b[0m \u001b[0mctx\u001b[0m\u001b[0;34m,\u001b[0m \u001b[0mdtype\u001b[0m\u001b[0;34m)\u001b[0m\u001b[0;34m\u001b[0m\u001b[0;34m\u001b[0m\u001b[0m\n\u001b[0m\u001b[1;32m    302\u001b[0m   \u001b[0;32mif\u001b[0m \u001b[0mshape\u001b[0m \u001b[0;32mis\u001b[0m \u001b[0;32mNone\u001b[0m\u001b[0;34m:\u001b[0m\u001b[0;34m\u001b[0m\u001b[0;34m\u001b[0m\u001b[0m\n\u001b[1;32m    303\u001b[0m     \u001b[0;32mreturn\u001b[0m \u001b[0mt\u001b[0m\u001b[0;34m\u001b[0m\u001b[0;34m\u001b[0m\u001b[0m\n",
            "\u001b[0;32m/usr/local/lib/python3.7/dist-packages/tensorflow/python/framework/constant_op.py\u001b[0m in \u001b[0;36mconvert_to_eager_tensor\u001b[0;34m(value, ctx, dtype)\u001b[0m\n\u001b[1;32m     95\u001b[0m     \u001b[0;32mexcept\u001b[0m \u001b[0mAttributeError\u001b[0m\u001b[0;34m:\u001b[0m\u001b[0;34m\u001b[0m\u001b[0;34m\u001b[0m\u001b[0m\n\u001b[1;32m     96\u001b[0m       \u001b[0mdtype\u001b[0m \u001b[0;34m=\u001b[0m \u001b[0mdtypes\u001b[0m\u001b[0;34m.\u001b[0m\u001b[0mas_dtype\u001b[0m\u001b[0;34m(\u001b[0m\u001b[0mdtype\u001b[0m\u001b[0;34m)\u001b[0m\u001b[0;34m.\u001b[0m\u001b[0mas_datatype_enum\u001b[0m\u001b[0;34m\u001b[0m\u001b[0;34m\u001b[0m\u001b[0m\n\u001b[0;32m---> 97\u001b[0;31m   \u001b[0mctx\u001b[0m\u001b[0;34m.\u001b[0m\u001b[0mensure_initialized\u001b[0m\u001b[0;34m(\u001b[0m\u001b[0;34m)\u001b[0m\u001b[0;34m\u001b[0m\u001b[0;34m\u001b[0m\u001b[0m\n\u001b[0m\u001b[1;32m     98\u001b[0m   \u001b[0;32mreturn\u001b[0m \u001b[0mops\u001b[0m\u001b[0;34m.\u001b[0m\u001b[0mEagerTensor\u001b[0m\u001b[0;34m(\u001b[0m\u001b[0mvalue\u001b[0m\u001b[0;34m,\u001b[0m \u001b[0mctx\u001b[0m\u001b[0;34m.\u001b[0m\u001b[0mdevice_name\u001b[0m\u001b[0;34m,\u001b[0m \u001b[0mdtype\u001b[0m\u001b[0;34m)\u001b[0m\u001b[0;34m\u001b[0m\u001b[0;34m\u001b[0m\u001b[0m\n\u001b[1;32m     99\u001b[0m \u001b[0;34m\u001b[0m\u001b[0m\n",
            "\u001b[0;32m/usr/local/lib/python3.7/dist-packages/tensorflow/python/eager/context.py\u001b[0m in \u001b[0;36mensure_initialized\u001b[0;34m(self)\u001b[0m\n\u001b[1;32m    524\u001b[0m         \u001b[0;32mif\u001b[0m \u001b[0mself\u001b[0m\u001b[0;34m.\u001b[0m\u001b[0m_use_tfrt\u001b[0m \u001b[0;32mis\u001b[0m \u001b[0;32mnot\u001b[0m \u001b[0;32mNone\u001b[0m\u001b[0;34m:\u001b[0m\u001b[0;34m\u001b[0m\u001b[0;34m\u001b[0m\u001b[0m\n\u001b[1;32m    525\u001b[0m           \u001b[0mpywrap_tfe\u001b[0m\u001b[0;34m.\u001b[0m\u001b[0mTFE_ContextOptionsSetTfrt\u001b[0m\u001b[0;34m(\u001b[0m\u001b[0mopts\u001b[0m\u001b[0;34m,\u001b[0m \u001b[0mself\u001b[0m\u001b[0;34m.\u001b[0m\u001b[0m_use_tfrt\u001b[0m\u001b[0;34m)\u001b[0m\u001b[0;34m\u001b[0m\u001b[0;34m\u001b[0m\u001b[0m\n\u001b[0;32m--> 526\u001b[0;31m         \u001b[0mcontext_handle\u001b[0m \u001b[0;34m=\u001b[0m \u001b[0mpywrap_tfe\u001b[0m\u001b[0;34m.\u001b[0m\u001b[0mTFE_NewContext\u001b[0m\u001b[0;34m(\u001b[0m\u001b[0mopts\u001b[0m\u001b[0;34m)\u001b[0m\u001b[0;34m\u001b[0m\u001b[0;34m\u001b[0m\u001b[0m\n\u001b[0m\u001b[1;32m    527\u001b[0m       \u001b[0;32mfinally\u001b[0m\u001b[0;34m:\u001b[0m\u001b[0;34m\u001b[0m\u001b[0;34m\u001b[0m\u001b[0m\n\u001b[1;32m    528\u001b[0m         \u001b[0mpywrap_tfe\u001b[0m\u001b[0;34m.\u001b[0m\u001b[0mTFE_DeleteContextOptions\u001b[0m\u001b[0;34m(\u001b[0m\u001b[0mopts\u001b[0m\u001b[0;34m)\u001b[0m\u001b[0;34m\u001b[0m\u001b[0;34m\u001b[0m\u001b[0m\n",
            "\u001b[0;31mKeyboardInterrupt\u001b[0m: "
          ]
        }
      ]
    },
    {
      "cell_type": "code",
      "metadata": {
        "id": "CMXiqB0mpPOh"
      },
      "source": [
        "# train=tf.data.Dataset.from_tensor_slices(( \n",
        "#                                           np.array(data[:train_size].text.to_list()),\n",
        "#                                           np.array(data[:train_size].img_data.to_list()).reshape(len(data[:train_size]), 25088),\n",
        "#                                           np.array(data[:train_size].label.to_list())))\n",
        "\n"
      ],
      "execution_count": null,
      "outputs": []
    },
    {
      "cell_type": "code",
      "metadata": {
        "id": "YDEB_75msrdH"
      },
      "source": [
        "text_train=np.array(data[:train_size].text)"
      ],
      "execution_count": null,
      "outputs": []
    },
    {
      "cell_type": "code",
      "metadata": {
        "id": "N7xm7Ra6sz4q"
      },
      "source": [
        "img_train=np.array(data[:train_size].img_data)"
      ],
      "execution_count": null,
      "outputs": []
    },
    {
      "cell_type": "code",
      "metadata": {
        "id": "ykyqgUybs8rR"
      },
      "source": [
        "label_train=np.array(data[:train_size].label)"
      ],
      "execution_count": null,
      "outputs": []
    },
    {
      "cell_type": "code",
      "metadata": {
        "colab": {
          "base_uri": "https://localhost:8080/"
        },
        "id": "EXLjvi6lf6RE",
        "outputId": "4d213254-4050-4d22-ceda-05e56aa86e8d"
      },
      "source": [
        "text_train"
      ],
      "execution_count": null,
      "outputs": [
        {
          "output_type": "execute_result",
          "data": {
            "text/plain": [
              "array(['its their character not their color that matters',\n",
              "       \"don't be afraid to love again everyone is not like your ex\",\n",
              "       'putting bows on your pet', ...,\n",
              "       'the face they make when you\\'ve left the \"plantation\" and you no longer think like them',\n",
              "       'meanwhile at the isis strip club',\n",
              "       'dude stop smoking its gonna harm you dude stop'], dtype=object)"
            ]
          },
          "metadata": {
            "tags": []
          },
          "execution_count": 23
        }
      ]
    },
    {
      "cell_type": "code",
      "metadata": {
        "id": "xnSFxOLHuwvG"
      },
      "source": [
        "for i in range(6800):\n",
        "  img_train[i]=img_train[i].tolist()"
      ],
      "execution_count": null,
      "outputs": []
    },
    {
      "cell_type": "code",
      "metadata": {
        "id": "eN-K3_R94rS8"
      },
      "source": [
        "# np.save('img_data', img_train)"
      ],
      "execution_count": null,
      "outputs": []
    },
    {
      "cell_type": "code",
      "metadata": {
        "colab": {
          "base_uri": "https://localhost:8080/",
          "height": 279
        },
        "id": "hmn28LPD747n",
        "outputId": "9295b644-bf63-496e-914b-1369db85ef49"
      },
      "source": [
        "# img_train=data = np.load('img_data.npy',allow_pickle=True)"
      ],
      "execution_count": null,
      "outputs": [
        {
          "output_type": "error",
          "ename": "FileNotFoundError",
          "evalue": "ignored",
          "traceback": [
            "\u001b[0;31m---------------------------------------------------------------------------\u001b[0m",
            "\u001b[0;31mFileNotFoundError\u001b[0m                         Traceback (most recent call last)",
            "\u001b[0;32m<ipython-input-12-1e5520c4c49d>\u001b[0m in \u001b[0;36m<module>\u001b[0;34m()\u001b[0m\n\u001b[0;32m----> 1\u001b[0;31m \u001b[0mimg_train\u001b[0m\u001b[0;34m=\u001b[0m\u001b[0mdata\u001b[0m \u001b[0;34m=\u001b[0m \u001b[0mnp\u001b[0m\u001b[0;34m.\u001b[0m\u001b[0mload\u001b[0m\u001b[0;34m(\u001b[0m\u001b[0;34m'img_data.npy'\u001b[0m\u001b[0;34m,\u001b[0m\u001b[0mallow_pickle\u001b[0m\u001b[0;34m=\u001b[0m\u001b[0;32mTrue\u001b[0m\u001b[0;34m)\u001b[0m\u001b[0;34m\u001b[0m\u001b[0;34m\u001b[0m\u001b[0m\n\u001b[0m",
            "\u001b[0;32m/usr/local/lib/python3.7/dist-packages/numpy/lib/npyio.py\u001b[0m in \u001b[0;36mload\u001b[0;34m(file, mmap_mode, allow_pickle, fix_imports, encoding)\u001b[0m\n\u001b[1;32m    414\u001b[0m             \u001b[0mown_fid\u001b[0m \u001b[0;34m=\u001b[0m \u001b[0;32mFalse\u001b[0m\u001b[0;34m\u001b[0m\u001b[0;34m\u001b[0m\u001b[0m\n\u001b[1;32m    415\u001b[0m         \u001b[0;32melse\u001b[0m\u001b[0;34m:\u001b[0m\u001b[0;34m\u001b[0m\u001b[0;34m\u001b[0m\u001b[0m\n\u001b[0;32m--> 416\u001b[0;31m             \u001b[0mfid\u001b[0m \u001b[0;34m=\u001b[0m \u001b[0mstack\u001b[0m\u001b[0;34m.\u001b[0m\u001b[0menter_context\u001b[0m\u001b[0;34m(\u001b[0m\u001b[0mopen\u001b[0m\u001b[0;34m(\u001b[0m\u001b[0mos_fspath\u001b[0m\u001b[0;34m(\u001b[0m\u001b[0mfile\u001b[0m\u001b[0;34m)\u001b[0m\u001b[0;34m,\u001b[0m \u001b[0;34m\"rb\"\u001b[0m\u001b[0;34m)\u001b[0m\u001b[0;34m)\u001b[0m\u001b[0;34m\u001b[0m\u001b[0;34m\u001b[0m\u001b[0m\n\u001b[0m\u001b[1;32m    417\u001b[0m             \u001b[0mown_fid\u001b[0m \u001b[0;34m=\u001b[0m \u001b[0;32mTrue\u001b[0m\u001b[0;34m\u001b[0m\u001b[0;34m\u001b[0m\u001b[0m\n\u001b[1;32m    418\u001b[0m \u001b[0;34m\u001b[0m\u001b[0m\n",
            "\u001b[0;31mFileNotFoundError\u001b[0m: [Errno 2] No such file or directory: 'img_data.npy'"
          ]
        }
      ]
    },
    {
      "cell_type": "code",
      "metadata": {
        "colab": {
          "base_uri": "https://localhost:8080/",
          "height": 303
        },
        "id": "IWlMZO5TIMi9",
        "outputId": "903114d0-bc5e-4f61-c491-ecd05e88131e"
      },
      "source": [
        "train_img2=tf.data.Dataset.from_tensor_slices(img_train)"
      ],
      "execution_count": null,
      "outputs": [
        {
          "output_type": "error",
          "ename": "ValueError",
          "evalue": "ignored",
          "traceback": [
            "\u001b[0;31m---------------------------------------------------------------------------\u001b[0m",
            "\u001b[0;31mValueError\u001b[0m                                Traceback (most recent call last)",
            "\u001b[0;32m<ipython-input-21-0d21d5590db2>\u001b[0m in \u001b[0;36m<module>\u001b[0;34m()\u001b[0m\n\u001b[0;32m----> 1\u001b[0;31m \u001b[0mtrain_img2\u001b[0m\u001b[0;34m=\u001b[0m\u001b[0mtf\u001b[0m\u001b[0;34m.\u001b[0m\u001b[0mdata\u001b[0m\u001b[0;34m.\u001b[0m\u001b[0mDataset\u001b[0m\u001b[0;34m.\u001b[0m\u001b[0mfrom_tensor_slices\u001b[0m\u001b[0;34m(\u001b[0m\u001b[0mimg_train\u001b[0m\u001b[0;34m)\u001b[0m\u001b[0;34m\u001b[0m\u001b[0;34m\u001b[0m\u001b[0m\n\u001b[0m",
            "\u001b[0;32m/usr/local/lib/python3.7/dist-packages/tensorflow/python/data/ops/dataset_ops.py\u001b[0m in \u001b[0;36mfrom_tensor_slices\u001b[0;34m(tensors)\u001b[0m\n\u001b[1;32m    689\u001b[0m       \u001b[0mDataset\u001b[0m\u001b[0;34m:\u001b[0m \u001b[0mA\u001b[0m\u001b[0;31m \u001b[0m\u001b[0;31m`\u001b[0m\u001b[0mDataset\u001b[0m\u001b[0;31m`\u001b[0m\u001b[0;34m.\u001b[0m\u001b[0;34m\u001b[0m\u001b[0;34m\u001b[0m\u001b[0m\n\u001b[1;32m    690\u001b[0m     \"\"\"\n\u001b[0;32m--> 691\u001b[0;31m     \u001b[0;32mreturn\u001b[0m \u001b[0mTensorSliceDataset\u001b[0m\u001b[0;34m(\u001b[0m\u001b[0mtensors\u001b[0m\u001b[0;34m)\u001b[0m\u001b[0;34m\u001b[0m\u001b[0;34m\u001b[0m\u001b[0m\n\u001b[0m\u001b[1;32m    692\u001b[0m \u001b[0;34m\u001b[0m\u001b[0m\n\u001b[1;32m    693\u001b[0m   \u001b[0;32mclass\u001b[0m \u001b[0m_GeneratorState\u001b[0m\u001b[0;34m(\u001b[0m\u001b[0mobject\u001b[0m\u001b[0;34m)\u001b[0m\u001b[0;34m:\u001b[0m\u001b[0;34m\u001b[0m\u001b[0;34m\u001b[0m\u001b[0m\n",
            "\u001b[0;32m/usr/local/lib/python3.7/dist-packages/tensorflow/python/data/ops/dataset_ops.py\u001b[0m in \u001b[0;36m__init__\u001b[0;34m(self, element)\u001b[0m\n\u001b[1;32m   3153\u001b[0m   \u001b[0;32mdef\u001b[0m \u001b[0m__init__\u001b[0m\u001b[0;34m(\u001b[0m\u001b[0mself\u001b[0m\u001b[0;34m,\u001b[0m \u001b[0melement\u001b[0m\u001b[0;34m)\u001b[0m\u001b[0;34m:\u001b[0m\u001b[0;34m\u001b[0m\u001b[0;34m\u001b[0m\u001b[0m\n\u001b[1;32m   3154\u001b[0m     \u001b[0;34m\"\"\"See `Dataset.from_tensor_slices()` for details.\"\"\"\u001b[0m\u001b[0;34m\u001b[0m\u001b[0;34m\u001b[0m\u001b[0m\n\u001b[0;32m-> 3155\u001b[0;31m     \u001b[0melement\u001b[0m \u001b[0;34m=\u001b[0m \u001b[0mstructure\u001b[0m\u001b[0;34m.\u001b[0m\u001b[0mnormalize_element\u001b[0m\u001b[0;34m(\u001b[0m\u001b[0melement\u001b[0m\u001b[0;34m)\u001b[0m\u001b[0;34m\u001b[0m\u001b[0;34m\u001b[0m\u001b[0m\n\u001b[0m\u001b[1;32m   3156\u001b[0m     \u001b[0mbatched_spec\u001b[0m \u001b[0;34m=\u001b[0m \u001b[0mstructure\u001b[0m\u001b[0;34m.\u001b[0m\u001b[0mtype_spec_from_value\u001b[0m\u001b[0;34m(\u001b[0m\u001b[0melement\u001b[0m\u001b[0;34m)\u001b[0m\u001b[0;34m\u001b[0m\u001b[0;34m\u001b[0m\u001b[0m\n\u001b[1;32m   3157\u001b[0m     \u001b[0mself\u001b[0m\u001b[0;34m.\u001b[0m\u001b[0m_tensors\u001b[0m \u001b[0;34m=\u001b[0m \u001b[0mstructure\u001b[0m\u001b[0;34m.\u001b[0m\u001b[0mto_batched_tensor_list\u001b[0m\u001b[0;34m(\u001b[0m\u001b[0mbatched_spec\u001b[0m\u001b[0;34m,\u001b[0m \u001b[0melement\u001b[0m\u001b[0;34m)\u001b[0m\u001b[0;34m\u001b[0m\u001b[0;34m\u001b[0m\u001b[0m\n",
            "\u001b[0;32m/usr/local/lib/python3.7/dist-packages/tensorflow/python/data/util/structure.py\u001b[0m in \u001b[0;36mnormalize_element\u001b[0;34m(element, element_signature)\u001b[0m\n\u001b[1;32m    127\u001b[0m           \u001b[0mdtype\u001b[0m \u001b[0;34m=\u001b[0m \u001b[0mgetattr\u001b[0m\u001b[0;34m(\u001b[0m\u001b[0mspec\u001b[0m\u001b[0;34m,\u001b[0m \u001b[0;34m\"dtype\"\u001b[0m\u001b[0;34m,\u001b[0m \u001b[0;32mNone\u001b[0m\u001b[0;34m)\u001b[0m\u001b[0;34m\u001b[0m\u001b[0;34m\u001b[0m\u001b[0m\n\u001b[1;32m    128\u001b[0m           normalized_components.append(\n\u001b[0;32m--> 129\u001b[0;31m               ops.convert_to_tensor(t, name=\"component_%d\" % i, dtype=dtype))\n\u001b[0m\u001b[1;32m    130\u001b[0m   \u001b[0;32mreturn\u001b[0m \u001b[0mnest\u001b[0m\u001b[0;34m.\u001b[0m\u001b[0mpack_sequence_as\u001b[0m\u001b[0;34m(\u001b[0m\u001b[0mpack_as\u001b[0m\u001b[0;34m,\u001b[0m \u001b[0mnormalized_components\u001b[0m\u001b[0;34m)\u001b[0m\u001b[0;34m\u001b[0m\u001b[0;34m\u001b[0m\u001b[0m\n\u001b[1;32m    131\u001b[0m \u001b[0;34m\u001b[0m\u001b[0m\n",
            "\u001b[0;32m/usr/local/lib/python3.7/dist-packages/tensorflow/python/profiler/trace.py\u001b[0m in \u001b[0;36mwrapped\u001b[0;34m(*args, **kwargs)\u001b[0m\n\u001b[1;32m    161\u001b[0m         \u001b[0;32mwith\u001b[0m \u001b[0mTrace\u001b[0m\u001b[0;34m(\u001b[0m\u001b[0mtrace_name\u001b[0m\u001b[0;34m,\u001b[0m \u001b[0;34m**\u001b[0m\u001b[0mtrace_kwargs\u001b[0m\u001b[0;34m)\u001b[0m\u001b[0;34m:\u001b[0m\u001b[0;34m\u001b[0m\u001b[0;34m\u001b[0m\u001b[0m\n\u001b[1;32m    162\u001b[0m           \u001b[0;32mreturn\u001b[0m \u001b[0mfunc\u001b[0m\u001b[0;34m(\u001b[0m\u001b[0;34m*\u001b[0m\u001b[0margs\u001b[0m\u001b[0;34m,\u001b[0m \u001b[0;34m**\u001b[0m\u001b[0mkwargs\u001b[0m\u001b[0;34m)\u001b[0m\u001b[0;34m\u001b[0m\u001b[0;34m\u001b[0m\u001b[0m\n\u001b[0;32m--> 163\u001b[0;31m       \u001b[0;32mreturn\u001b[0m \u001b[0mfunc\u001b[0m\u001b[0;34m(\u001b[0m\u001b[0;34m*\u001b[0m\u001b[0margs\u001b[0m\u001b[0;34m,\u001b[0m \u001b[0;34m**\u001b[0m\u001b[0mkwargs\u001b[0m\u001b[0;34m)\u001b[0m\u001b[0;34m\u001b[0m\u001b[0;34m\u001b[0m\u001b[0m\n\u001b[0m\u001b[1;32m    164\u001b[0m \u001b[0;34m\u001b[0m\u001b[0m\n\u001b[1;32m    165\u001b[0m     \u001b[0;32mreturn\u001b[0m \u001b[0mwrapped\u001b[0m\u001b[0;34m\u001b[0m\u001b[0;34m\u001b[0m\u001b[0m\n",
            "\u001b[0;32m/usr/local/lib/python3.7/dist-packages/tensorflow/python/framework/ops.py\u001b[0m in \u001b[0;36mconvert_to_tensor\u001b[0;34m(value, dtype, name, as_ref, preferred_dtype, dtype_hint, ctx, accepted_result_types)\u001b[0m\n\u001b[1;32m   1538\u001b[0m \u001b[0;34m\u001b[0m\u001b[0m\n\u001b[1;32m   1539\u001b[0m     \u001b[0;32mif\u001b[0m \u001b[0mret\u001b[0m \u001b[0;32mis\u001b[0m \u001b[0;32mNone\u001b[0m\u001b[0;34m:\u001b[0m\u001b[0;34m\u001b[0m\u001b[0;34m\u001b[0m\u001b[0m\n\u001b[0;32m-> 1540\u001b[0;31m       \u001b[0mret\u001b[0m \u001b[0;34m=\u001b[0m \u001b[0mconversion_func\u001b[0m\u001b[0;34m(\u001b[0m\u001b[0mvalue\u001b[0m\u001b[0;34m,\u001b[0m \u001b[0mdtype\u001b[0m\u001b[0;34m=\u001b[0m\u001b[0mdtype\u001b[0m\u001b[0;34m,\u001b[0m \u001b[0mname\u001b[0m\u001b[0;34m=\u001b[0m\u001b[0mname\u001b[0m\u001b[0;34m,\u001b[0m \u001b[0mas_ref\u001b[0m\u001b[0;34m=\u001b[0m\u001b[0mas_ref\u001b[0m\u001b[0;34m)\u001b[0m\u001b[0;34m\u001b[0m\u001b[0;34m\u001b[0m\u001b[0m\n\u001b[0m\u001b[1;32m   1541\u001b[0m \u001b[0;34m\u001b[0m\u001b[0m\n\u001b[1;32m   1542\u001b[0m     \u001b[0;32mif\u001b[0m \u001b[0mret\u001b[0m \u001b[0;32mis\u001b[0m \u001b[0mNotImplemented\u001b[0m\u001b[0;34m:\u001b[0m\u001b[0;34m\u001b[0m\u001b[0;34m\u001b[0m\u001b[0m\n",
            "\u001b[0;32m/usr/local/lib/python3.7/dist-packages/tensorflow/python/framework/tensor_conversion_registry.py\u001b[0m in \u001b[0;36m_default_conversion_function\u001b[0;34m(***failed resolving arguments***)\u001b[0m\n\u001b[1;32m     50\u001b[0m \u001b[0;32mdef\u001b[0m \u001b[0m_default_conversion_function\u001b[0m\u001b[0;34m(\u001b[0m\u001b[0mvalue\u001b[0m\u001b[0;34m,\u001b[0m \u001b[0mdtype\u001b[0m\u001b[0;34m,\u001b[0m \u001b[0mname\u001b[0m\u001b[0;34m,\u001b[0m \u001b[0mas_ref\u001b[0m\u001b[0;34m)\u001b[0m\u001b[0;34m:\u001b[0m\u001b[0;34m\u001b[0m\u001b[0;34m\u001b[0m\u001b[0m\n\u001b[1;32m     51\u001b[0m   \u001b[0;32mdel\u001b[0m \u001b[0mas_ref\u001b[0m  \u001b[0;31m# Unused.\u001b[0m\u001b[0;34m\u001b[0m\u001b[0;34m\u001b[0m\u001b[0m\n\u001b[0;32m---> 52\u001b[0;31m   \u001b[0;32mreturn\u001b[0m \u001b[0mconstant_op\u001b[0m\u001b[0;34m.\u001b[0m\u001b[0mconstant\u001b[0m\u001b[0;34m(\u001b[0m\u001b[0mvalue\u001b[0m\u001b[0;34m,\u001b[0m \u001b[0mdtype\u001b[0m\u001b[0;34m,\u001b[0m \u001b[0mname\u001b[0m\u001b[0;34m=\u001b[0m\u001b[0mname\u001b[0m\u001b[0;34m)\u001b[0m\u001b[0;34m\u001b[0m\u001b[0;34m\u001b[0m\u001b[0m\n\u001b[0m\u001b[1;32m     53\u001b[0m \u001b[0;34m\u001b[0m\u001b[0m\n\u001b[1;32m     54\u001b[0m \u001b[0;34m\u001b[0m\u001b[0m\n",
            "\u001b[0;32m/usr/local/lib/python3.7/dist-packages/tensorflow/python/framework/constant_op.py\u001b[0m in \u001b[0;36mconstant\u001b[0;34m(value, dtype, shape, name)\u001b[0m\n\u001b[1;32m    263\u001b[0m   \"\"\"\n\u001b[1;32m    264\u001b[0m   return _constant_impl(value, dtype, shape, name, verify_shape=False,\n\u001b[0;32m--> 265\u001b[0;31m                         allow_broadcast=True)\n\u001b[0m\u001b[1;32m    266\u001b[0m \u001b[0;34m\u001b[0m\u001b[0m\n\u001b[1;32m    267\u001b[0m \u001b[0;34m\u001b[0m\u001b[0m\n",
            "\u001b[0;32m/usr/local/lib/python3.7/dist-packages/tensorflow/python/framework/constant_op.py\u001b[0m in \u001b[0;36m_constant_impl\u001b[0;34m(value, dtype, shape, name, verify_shape, allow_broadcast)\u001b[0m\n\u001b[1;32m    274\u001b[0m       \u001b[0;32mwith\u001b[0m \u001b[0mtrace\u001b[0m\u001b[0;34m.\u001b[0m\u001b[0mTrace\u001b[0m\u001b[0;34m(\u001b[0m\u001b[0;34m\"tf.constant\"\u001b[0m\u001b[0;34m)\u001b[0m\u001b[0;34m:\u001b[0m\u001b[0;34m\u001b[0m\u001b[0;34m\u001b[0m\u001b[0m\n\u001b[1;32m    275\u001b[0m         \u001b[0;32mreturn\u001b[0m \u001b[0m_constant_eager_impl\u001b[0m\u001b[0;34m(\u001b[0m\u001b[0mctx\u001b[0m\u001b[0;34m,\u001b[0m \u001b[0mvalue\u001b[0m\u001b[0;34m,\u001b[0m \u001b[0mdtype\u001b[0m\u001b[0;34m,\u001b[0m \u001b[0mshape\u001b[0m\u001b[0;34m,\u001b[0m \u001b[0mverify_shape\u001b[0m\u001b[0;34m)\u001b[0m\u001b[0;34m\u001b[0m\u001b[0;34m\u001b[0m\u001b[0m\n\u001b[0;32m--> 276\u001b[0;31m     \u001b[0;32mreturn\u001b[0m \u001b[0m_constant_eager_impl\u001b[0m\u001b[0;34m(\u001b[0m\u001b[0mctx\u001b[0m\u001b[0;34m,\u001b[0m \u001b[0mvalue\u001b[0m\u001b[0;34m,\u001b[0m \u001b[0mdtype\u001b[0m\u001b[0;34m,\u001b[0m \u001b[0mshape\u001b[0m\u001b[0;34m,\u001b[0m \u001b[0mverify_shape\u001b[0m\u001b[0;34m)\u001b[0m\u001b[0;34m\u001b[0m\u001b[0;34m\u001b[0m\u001b[0m\n\u001b[0m\u001b[1;32m    277\u001b[0m \u001b[0;34m\u001b[0m\u001b[0m\n\u001b[1;32m    278\u001b[0m   \u001b[0mg\u001b[0m \u001b[0;34m=\u001b[0m \u001b[0mops\u001b[0m\u001b[0;34m.\u001b[0m\u001b[0mget_default_graph\u001b[0m\u001b[0;34m(\u001b[0m\u001b[0;34m)\u001b[0m\u001b[0;34m\u001b[0m\u001b[0;34m\u001b[0m\u001b[0m\n",
            "\u001b[0;32m/usr/local/lib/python3.7/dist-packages/tensorflow/python/framework/constant_op.py\u001b[0m in \u001b[0;36m_constant_eager_impl\u001b[0;34m(ctx, value, dtype, shape, verify_shape)\u001b[0m\n\u001b[1;32m    299\u001b[0m \u001b[0;32mdef\u001b[0m \u001b[0m_constant_eager_impl\u001b[0m\u001b[0;34m(\u001b[0m\u001b[0mctx\u001b[0m\u001b[0;34m,\u001b[0m \u001b[0mvalue\u001b[0m\u001b[0;34m,\u001b[0m \u001b[0mdtype\u001b[0m\u001b[0;34m,\u001b[0m \u001b[0mshape\u001b[0m\u001b[0;34m,\u001b[0m \u001b[0mverify_shape\u001b[0m\u001b[0;34m)\u001b[0m\u001b[0;34m:\u001b[0m\u001b[0;34m\u001b[0m\u001b[0;34m\u001b[0m\u001b[0m\n\u001b[1;32m    300\u001b[0m   \u001b[0;34m\"\"\"Implementation of eager constant.\"\"\"\u001b[0m\u001b[0;34m\u001b[0m\u001b[0;34m\u001b[0m\u001b[0m\n\u001b[0;32m--> 301\u001b[0;31m   \u001b[0mt\u001b[0m \u001b[0;34m=\u001b[0m \u001b[0mconvert_to_eager_tensor\u001b[0m\u001b[0;34m(\u001b[0m\u001b[0mvalue\u001b[0m\u001b[0;34m,\u001b[0m \u001b[0mctx\u001b[0m\u001b[0;34m,\u001b[0m \u001b[0mdtype\u001b[0m\u001b[0;34m)\u001b[0m\u001b[0;34m\u001b[0m\u001b[0;34m\u001b[0m\u001b[0m\n\u001b[0m\u001b[1;32m    302\u001b[0m   \u001b[0;32mif\u001b[0m \u001b[0mshape\u001b[0m \u001b[0;32mis\u001b[0m \u001b[0;32mNone\u001b[0m\u001b[0;34m:\u001b[0m\u001b[0;34m\u001b[0m\u001b[0;34m\u001b[0m\u001b[0m\n\u001b[1;32m    303\u001b[0m     \u001b[0;32mreturn\u001b[0m \u001b[0mt\u001b[0m\u001b[0;34m\u001b[0m\u001b[0;34m\u001b[0m\u001b[0m\n",
            "\u001b[0;32m/usr/local/lib/python3.7/dist-packages/tensorflow/python/framework/constant_op.py\u001b[0m in \u001b[0;36mconvert_to_eager_tensor\u001b[0;34m(value, ctx, dtype)\u001b[0m\n\u001b[1;32m     96\u001b[0m       \u001b[0mdtype\u001b[0m \u001b[0;34m=\u001b[0m \u001b[0mdtypes\u001b[0m\u001b[0;34m.\u001b[0m\u001b[0mas_dtype\u001b[0m\u001b[0;34m(\u001b[0m\u001b[0mdtype\u001b[0m\u001b[0;34m)\u001b[0m\u001b[0;34m.\u001b[0m\u001b[0mas_datatype_enum\u001b[0m\u001b[0;34m\u001b[0m\u001b[0;34m\u001b[0m\u001b[0m\n\u001b[1;32m     97\u001b[0m   \u001b[0mctx\u001b[0m\u001b[0;34m.\u001b[0m\u001b[0mensure_initialized\u001b[0m\u001b[0;34m(\u001b[0m\u001b[0;34m)\u001b[0m\u001b[0;34m\u001b[0m\u001b[0;34m\u001b[0m\u001b[0m\n\u001b[0;32m---> 98\u001b[0;31m   \u001b[0;32mreturn\u001b[0m \u001b[0mops\u001b[0m\u001b[0;34m.\u001b[0m\u001b[0mEagerTensor\u001b[0m\u001b[0;34m(\u001b[0m\u001b[0mvalue\u001b[0m\u001b[0;34m,\u001b[0m \u001b[0mctx\u001b[0m\u001b[0;34m.\u001b[0m\u001b[0mdevice_name\u001b[0m\u001b[0;34m,\u001b[0m \u001b[0mdtype\u001b[0m\u001b[0;34m)\u001b[0m\u001b[0;34m\u001b[0m\u001b[0;34m\u001b[0m\u001b[0m\n\u001b[0m\u001b[1;32m     99\u001b[0m \u001b[0;34m\u001b[0m\u001b[0m\n\u001b[1;32m    100\u001b[0m \u001b[0;34m\u001b[0m\u001b[0m\n",
            "\u001b[0;31mValueError\u001b[0m: Failed to convert a NumPy array to a Tensor (Unsupported object type numpy.ndarray)."
          ]
        }
      ]
    },
    {
      "cell_type": "code",
      "metadata": {
        "id": "RRIgsKm6vGur"
      },
      "source": [
        "img_train=img_train.tolist()"
      ],
      "execution_count": null,
      "outputs": []
    },
    {
      "cell_type": "code",
      "metadata": {
        "colab": {
          "base_uri": "https://localhost:8080/",
          "height": 162
        },
        "id": "vVwLlxdEFDUe",
        "outputId": "74ef1b89-2018-467f-b7f3-7b8a0e2a25e2"
      },
      "source": [
        ""
      ],
      "execution_count": null,
      "outputs": [
        {
          "output_type": "error",
          "ename": "AttributeError",
          "evalue": "ignored",
          "traceback": [
            "\u001b[0;31m---------------------------------------------------------------------------\u001b[0m",
            "\u001b[0;31mAttributeError\u001b[0m                            Traceback (most recent call last)",
            "\u001b[0;32m<ipython-input-19-6695ec111c95>\u001b[0m in \u001b[0;36m<module>\u001b[0;34m()\u001b[0m\n\u001b[0;32m----> 1\u001b[0;31m \u001b[0mtext_train\u001b[0m\u001b[0;34m[\u001b[0m\u001b[0;36m0\u001b[0m\u001b[0;34m]\u001b[0m\u001b[0;34m.\u001b[0m\u001b[0mshape\u001b[0m\u001b[0;34m\u001b[0m\u001b[0;34m\u001b[0m\u001b[0m\n\u001b[0m",
            "\u001b[0;31mAttributeError\u001b[0m: 'str' object has no attribute 'shape'"
          ]
        }
      ]
    },
    {
      "cell_type": "code",
      "metadata": {
        "id": "4rzcWtUBuNEa"
      },
      "source": [
        "# import tensorflow as t\n",
        "# train_img2=tf.data.Dataset.from_tensor_slices(img_train)\n",
        "\n",
        "# train_text2 =tf.data.Dataset.from_tensor_slices(text_train)\n",
        "\n",
        "\n",
        "train_labels2 =tf.data.Dataset.from_tensor_slices(label_train)\n",
        "\n"
      ],
      "execution_count": null,
      "outputs": []
    },
    {
      "cell_type": "code",
      "metadata": {
        "id": "KH_gSsmdAj16"
      },
      "source": [
        "train=tf.data.Dataset.from_tensor_slices(((text_train,img_train),label_train))"
      ],
      "execution_count": null,
      "outputs": []
    },
    {
      "cell_type": "code",
      "metadata": {
        "id": "Ze5txl8qDOr8"
      },
      "source": [
        "BATCH_SIZE = 64\n",
        "SHUFFLE_BUFFER_SIZE = 100\n",
        "\n",
        "train=train.shuffle(SHUFFLE_BUFFER_SIZE).batch(BATCH_SIZE)"
      ],
      "execution_count": null,
      "outputs": []
    },
    {
      "cell_type": "code",
      "metadata": {
        "id": "Bs8UASvj2lI1"
      },
      "source": [
        "```# with open('train_img.pickle', 'wb') as f:\n",
        "#     pickle.dump(img_train, f)"
      ],
      "execution_count": null,
      "outputs": []
    },
    {
      "cell_type": "code",
      "metadata": {
        "id": "7tTqPdN_p5I-"
      },
      "source": [
        "# val=tf.data.Dataset.from_tensor_slices((np.array(data[train_size:].text.to_list()),\n",
        "#                                   np.array(data[train_size:].img_data.to_list()).reshape(len(data[train_size:]), 25088),\n",
        "#                                     np.array(data[train_size:].label.to_list())))"
      ],
      "execution_count": null,
      "outputs": []
    },
    {
      "cell_type": "code",
      "metadata": {
        "id": "v7d8Sqr2hPe2"
      },
      "source": [
        "# BATCH_SIZE = 64\n",
        "# SHUFFLE_BUFFER_SIZE = 100\n",
        "\n",
        "# train_img = train_img.shuffle(SHUFFLE_BUFFER_SIZE).batch(BATCH_SIZE)\n",
        "# val_img = val_img.shuffle(SHUFFLE_BUFFER_SIZE).batch(BATCH_SIZE)\n",
        "\n",
        "# train_text = train_text.shuffle(SHUFFLE_BUFFER_SIZE).batch(BATCH_SIZE)\n",
        "# val_text = val_text.shuffle(SHUFFLE_BUFFER_SIZE).batch(BATCH_SIZE)\n",
        "\n",
        "# train_labels = train_labels.shuffle(SHUFFLE_BUFFER_SIZE).batch(BATCH_SIZE)\n",
        "# val_labels = val_labels.shuffle(SHUFFLE_BUFFER_SIZE).batch(BATCH_SIZE)"
      ],
      "execution_count": null,
      "outputs": []
    },
    {
      "cell_type": "code",
      "metadata": {
        "id": "lUG5y8-Q1Ksq"
      },
      "source": [
        "# test_data = pd.read_json(\"drive/MyDrive/test.jsonl\", lines=True)\n"
      ],
      "execution_count": null,
      "outputs": []
    },
    {
      "cell_type": "code",
      "metadata": {
        "colab": {
          "base_uri": "https://localhost:8080/",
          "height": 207
        },
        "id": "t2CKG5TB09_H",
        "outputId": "81e32f0f-195c-4e8c-f528-0ad332727403"
      },
      "source": [
        "# test_data['img_data'] = test_data['id'].map(images_transformed)\n",
        "# test_data.head()"
      ],
      "execution_count": null,
      "outputs": [
        {
          "output_type": "execute_result",
          "data": {
            "text/html": [
              "<div>\n",
              "<style scoped>\n",
              "    .dataframe tbody tr th:only-of-type {\n",
              "        vertical-align: middle;\n",
              "    }\n",
              "\n",
              "    .dataframe tbody tr th {\n",
              "        vertical-align: top;\n",
              "    }\n",
              "\n",
              "    .dataframe thead th {\n",
              "        text-align: right;\n",
              "    }\n",
              "</style>\n",
              "<table border=\"1\" class=\"dataframe\">\n",
              "  <thead>\n",
              "    <tr style=\"text-align: right;\">\n",
              "      <th></th>\n",
              "      <th>id</th>\n",
              "      <th>img</th>\n",
              "      <th>text</th>\n",
              "      <th>img_data</th>\n",
              "    </tr>\n",
              "  </thead>\n",
              "  <tbody>\n",
              "    <tr>\n",
              "      <th>0</th>\n",
              "      <td>8291</td>\n",
              "      <td>img/08291.png</td>\n",
              "      <td>white people is this a shooting range</td>\n",
              "      <td>[[0.0, 0.0, 0.0, 0.0, 0.0, 0.0, 0.0, 0.0, 0.0,...</td>\n",
              "    </tr>\n",
              "    <tr>\n",
              "      <th>1</th>\n",
              "      <td>46971</td>\n",
              "      <td>img/46971.png</td>\n",
              "      <td>bravery at its finest</td>\n",
              "      <td>[[0.0, 0.0, 0.0, 0.0, 0.0, 0.0, 0.0, 0.0, 0.0,...</td>\n",
              "    </tr>\n",
              "    <tr>\n",
              "      <th>2</th>\n",
              "      <td>3745</td>\n",
              "      <td>img/03745.png</td>\n",
              "      <td>your order comes to $37.50 and your white priv...</td>\n",
              "      <td>[[0.0, 0.0, 0.0, 0.0, 0.0, 0.0, 0.0, 0.0, 0.0,...</td>\n",
              "    </tr>\n",
              "    <tr>\n",
              "      <th>3</th>\n",
              "      <td>83745</td>\n",
              "      <td>img/83745.png</td>\n",
              "      <td>it is time.. to send these parasites back to t...</td>\n",
              "      <td>[[0.0, 0.0, 0.0, 0.0, 0.0, 0.0, 0.0, 0.0, 0.0,...</td>\n",
              "    </tr>\n",
              "    <tr>\n",
              "      <th>4</th>\n",
              "      <td>80243</td>\n",
              "      <td>img/80243.png</td>\n",
              "      <td>mississippi wind chime</td>\n",
              "      <td>[[1.583276, 0.0, 0.0, 0.0, 9.846573, 0.0, 0.0,...</td>\n",
              "    </tr>\n",
              "  </tbody>\n",
              "</table>\n",
              "</div>"
            ],
            "text/plain": [
              "      id  ...                                           img_data\n",
              "0   8291  ...  [[0.0, 0.0, 0.0, 0.0, 0.0, 0.0, 0.0, 0.0, 0.0,...\n",
              "1  46971  ...  [[0.0, 0.0, 0.0, 0.0, 0.0, 0.0, 0.0, 0.0, 0.0,...\n",
              "2   3745  ...  [[0.0, 0.0, 0.0, 0.0, 0.0, 0.0, 0.0, 0.0, 0.0,...\n",
              "3  83745  ...  [[0.0, 0.0, 0.0, 0.0, 0.0, 0.0, 0.0, 0.0, 0.0,...\n",
              "4  80243  ...  [[1.583276, 0.0, 0.0, 0.0, 9.846573, 0.0, 0.0,...\n",
              "\n",
              "[5 rows x 4 columns]"
            ]
          },
          "metadata": {
            "tags": []
          },
          "execution_count": 38
        }
      ]
    },
    {
      "cell_type": "code",
      "metadata": {
        "id": "CcF5-r-L1Q_N"
      },
      "source": [
        "# test_ds = tf.data.Dataset.from_tensor_slices((test_data.text))"
      ],
      "execution_count": null,
      "outputs": []
    },
    {
      "cell_type": "code",
      "metadata": {
        "colab": {
          "base_uri": "https://localhost:8080/"
        },
        "id": "QYx04m3o0rAj",
        "outputId": "b23d9b4d-1829-4255-af28-244e195e9061"
      },
      "source": [
        "# test_ds"
      ],
      "execution_count": null,
      "outputs": [
        {
          "output_type": "execute_result",
          "data": {
            "text/plain": [
              "<TensorSliceDataset shapes: (), types: tf.string>"
            ]
          },
          "metadata": {
            "tags": []
          },
          "execution_count": 100
        }
      ]
    },
    {
      "cell_type": "code",
      "metadata": {
        "id": "A0ibLOQgCBjn"
      },
      "source": [
        ""
      ],
      "execution_count": null,
      "outputs": []
    },
    {
      "cell_type": "code",
      "metadata": {
        "id": "vnRRqaIuCzpe"
      },
      "source": [
        ""
      ],
      "execution_count": null,
      "outputs": []
    },
    {
      "cell_type": "code",
      "metadata": {
        "id": "bmunu-eLDol3"
      },
      "source": [
        ""
      ],
      "execution_count": null,
      "outputs": []
    },
    {
      "cell_type": "code",
      "metadata": {
        "id": "HxSN3ezeDoMV"
      },
      "source": [
        ""
      ],
      "execution_count": null,
      "outputs": []
    },
    {
      "cell_type": "code",
      "metadata": {
        "id": "66vl8RaODna3"
      },
      "source": [
        "#Data pipline "
      ],
      "execution_count": null,
      "outputs": []
    },
    {
      "cell_type": "code",
      "metadata": {
        "id": "8oMWL96X3cKt"
      },
      "source": [
        "import os\n",
        "import shutil\n",
        "\n",
        "import tensorflow as tf\n",
        "import tensorflow_hub as hub\n",
        "import tensorflow_text as text\n",
        "from official.nlp import optimization  # to create AdamW optmizer\n",
        "import pandas as pd \n",
        "import matplotlib.pyplot as plt\n",
        "from pathlib import Path    \n",
        "tf.get_logger().setLevel('ERROR')\n",
        "AUTOTUNE = tf.data.AUTOTUNE"
      ],
      "execution_count": 7,
      "outputs": []
    },
    {
      "cell_type": "code",
      "metadata": {
        "id": "vyVD4HBl325H"
      },
      "source": [
        "AUTOTUNE = tf.data.AUTOTUNE\n",
        "batch_size = 32\n",
        "seed = 42\n",
        "img_height, img_width = 224, 224\n",
        "image_count = 8500"
      ],
      "execution_count": 54,
      "outputs": []
    },
    {
      "cell_type": "code",
      "metadata": {
        "id": "Ev2bWnRN337C"
      },
      "source": [
        "text_path = \"/content/drive/MyDrive/Facebook_Meme_Data/aca2021-meme-analysis-challenge/train.jsonl\"\n",
        "\n",
        "text_dataset = tf.data.TextLineDataset(text_path)\n",
        "text_dataset = text_dataset.shuffle(image_count, reshuffle_each_iteration=False)"
      ],
      "execution_count": 98,
      "outputs": []
    },
    {
      "cell_type": "code",
      "metadata": {
        "id": "svFgPXu64O-t"
      },
      "source": [
        "def decode_img(img):\n",
        "    # convert the compressed string to a 3D uint8 tensor\n",
        "    img = tf.image.decode_jpeg(img, channels=3)\n",
        "    # resize the image to the desired size\n",
        "    return tf.image.resize(img, [img_height, img_width])"
      ],
      "execution_count": 64,
      "outputs": []
    },
    {
      "cell_type": "code",
      "metadata": {
        "id": "kI0M3HKs4cpy"
      },
      "source": [
        "img_path = '/content/drive/MyDrive/Facebook_Meme_Data/aca2021-meme-analysis-challenge/img/'\n",
        "\n",
        "def process_path(text_l):\n",
        "    text_l = tf.strings.regex_replace(text_l, '\"', '')\n",
        "\n",
        "\n",
        "    parts = tf.strings.split(text_l, \":\", maxsplit=-1)\n",
        "    \n",
        "    \n",
        "    label = parts[3]\n",
        "    label = tf.strings.split(label, \",\")[0]\n",
        "    label = tf.strings.to_number(label, tf.int32) \n",
        "\n",
        "    text = parts[-1]\n",
        "    \n",
        "    file_path = parts[1]\n",
        "    file_path = tf.strings.split(file_path, \",\")[0]\n",
        "\n",
        "    file_path = tf.cond(tf.strings.length(file_path) == tf.constant(4), \n",
        "                        lambda: tf.add(\"0\", file_path), lambda: file_path)\n",
        "    # load the raw data from the file as a string\n",
        "    img = tf.io.read_file(img_path+file_path+\".png\")\n",
        "    img = decode_img(img)\n",
        "    return {\"img_input\": img, \"text_input\": text}, {\"classifier\": label}"
      ],
      "execution_count": 97,
      "outputs": []
    },
    {
      "cell_type": "code",
      "metadata": {
        "id": "lJHe9nyr4kTP"
      },
      "source": [
        "# Set `num_parallel_calls` so multiple images are loaded/processed in parallel.\n",
        "text_dataset = text_dataset.map(process_path, num_parallel_calls=AUTOTUNE)"
      ],
      "execution_count": 99,
      "outputs": []
    },
    {
      "cell_type": "code",
      "metadata": {
        "id": "ELQaSPGS4nxA"
      },
      "source": [
        "val_size = int(image_count * 0.2)\n",
        "train_ds = text_dataset.skip(val_size)\n",
        "val_ds = text_dataset.take(val_size)"
      ],
      "execution_count": 100,
      "outputs": []
    },
    {
      "cell_type": "code",
      "metadata": {
        "id": "5K7AoGPs4qRQ"
      },
      "source": [
        "def configure_for_performance(ds):\n",
        "    ds = ds.cache()\n",
        "    ds = ds.shuffle(buffer_size=1000)\n",
        "    ds = ds.batch(batch_size=32)\n",
        "    ds = ds.prefetch(buffer_size=AUTOTUNE)\n",
        "    return ds"
      ],
      "execution_count": 101,
      "outputs": []
    },
    {
      "cell_type": "code",
      "metadata": {
        "id": "mTEVYDid4sb7"
      },
      "source": [
        "train_ds = configure_for_performance(train_ds)\n",
        "val_ds = configure_for_performance(val_ds)"
      ],
      "execution_count": 102,
      "outputs": []
    },
    {
      "cell_type": "code",
      "metadata": {
        "id": "9mRFBgL04wj-"
      },
      "source": [
        "# test_path = \"/content/drive/MyDrive/Facebook_Meme_Data/aca2021-meme-analysis-challenge/test.jsonl\"\n",
        "\n",
        "# test_dataset = tf.data.TextLineDataset(test_path)\n",
        "# # test_dataset = text_dataset.shuffle(image_count, reshuffle_each_iteration=False)\n",
        "\n",
        "# # Set `num_parallel_calls` so multiple images are loaded/processed in parallel.\n",
        "# test_dataset = test_dataset.map(process_path, num_parallel_calls=AUTOTUNE)\n",
        "# test_dataset  = configure_for_performance(test_dataset)"
      ],
      "execution_count": 93,
      "outputs": []
    },
    {
      "cell_type": "markdown",
      "metadata": {
        "id": "dX8FtlpGJRE6"
      },
      "source": [
        "## Loading models from TensorFlow Hub\n",
        "\n",
        "Here you can choose which BERT model you will load from TensorFlow Hub and fine-tune. There are multiple BERT models available.\n",
        "\n",
        "  - [BERT-Base](https://tfhub.dev/tensorflow/bert_en_uncased_L-12_H-768_A-12/3), [Uncased](https://tfhub.dev/tensorflow/bert_en_uncased_L-12_H-768_A-12/3) and [seven more models](https://tfhub.dev/google/collections/bert/1) with trained weights released by the original BERT authors.\n",
        "  - [Small BERTs](https://tfhub.dev/google/collections/bert/1) have the same general architecture but fewer and/or smaller Transformer blocks, which lets you explore tradeoffs between speed, size and quality.\n",
        "  - [ALBERT](https://tfhub.dev/google/collections/albert/1): four different sizes of \"A Lite BERT\" that reduces model size (but not computation time) by sharing parameters between layers.\n",
        "  - [BERT Experts](https://tfhub.dev/google/collections/experts/bert/1): eight models that all have the BERT-base architecture but offer a choice between different pre-training domains, to align more closely with the target task.\n",
        "  - [Electra](https://tfhub.dev/google/collections/electra/1) has the same architecture as BERT (in three different sizes), but gets pre-trained as a discriminator in a set-up that resembles a Generative Adversarial Network (GAN).\n",
        "  - BERT with Talking-Heads Attention and Gated GELU [[base](https://tfhub.dev/tensorflow/talkheads_ggelu_bert_en_base/1), [large](https://tfhub.dev/tensorflow/talkheads_ggelu_bert_en_large/1)] has two improvements to the core of the Transformer architecture.\n",
        "\n",
        "The model documentation on TensorFlow Hub has more details and references to the\n",
        "research literature. Follow the links above, or click on the [`tfhub.dev`](http://tfhub.dev) URL\n",
        "printed after the next cell execution.\n",
        "\n",
        "The suggestion is to start with a Small BERT (with fewer parameters) since they are faster to fine-tune. If you like a small model but with higher accuracy, ALBERT might be your next option. If you want even better accuracy, choose\n",
        "one of the classic BERT sizes or their recent refinements like Electra, Talking Heads, or a BERT Expert.\n",
        "\n",
        "Aside from the models available below, there are [multiple versions](https://tfhub.dev/google/collections/transformer_encoders_text/1) of the models that are larger and can yield even better accuracy, but they are too big to be fine-tuned on a single GPU. You will be able to do that on the [Solve GLUE tasks using BERT on a TPU colab](https://www.tensorflow.org/tutorials/text/solve_glue_tasks_using_bert_on_tpu).\n",
        "\n",
        "You'll see in the code below that switching the tfhub.dev URL is enough to try any of these models, because all the differences between them are encapsulated in the SavedModels from TF Hub."
      ]
    },
    {
      "cell_type": "code",
      "metadata": {
        "cellView": "form",
        "colab": {
          "base_uri": "https://localhost:8080/"
        },
        "id": "y8_ctG55-uTX",
        "outputId": "679a227d-9492-4a9a-c181-474b7738b528"
      },
      "source": [
        "#@title Choose a BERT model to fine-tune\n",
        "\n",
        "bert_model_name = 'electra_base'  #@param [\"bert_en_uncased_L-12_H-768_A-12\", \"bert_en_cased_L-12_H-768_A-12\", \"bert_multi_cased_L-12_H-768_A-12\", \"small_bert/bert_en_uncased_L-2_H-128_A-2\", \"small_bert/bert_en_uncased_L-2_H-256_A-4\", \"small_bert/bert_en_uncased_L-2_H-512_A-8\", \"small_bert/bert_en_uncased_L-2_H-768_A-12\", \"small_bert/bert_en_uncased_L-4_H-128_A-2\", \"small_bert/bert_en_uncased_L-4_H-256_A-4\", \"small_bert/bert_en_uncased_L-4_H-512_A-8\", \"small_bert/bert_en_uncased_L-4_H-768_A-12\", \"small_bert/bert_en_uncased_L-6_H-128_A-2\", \"small_bert/bert_en_uncased_L-6_H-256_A-4\", \"small_bert/bert_en_uncased_L-6_H-512_A-8\", \"small_bert/bert_en_uncased_L-6_H-768_A-12\", \"small_bert/bert_en_uncased_L-8_H-128_A-2\", \"small_bert/bert_en_uncased_L-8_H-256_A-4\", \"small_bert/bert_en_uncased_L-8_H-512_A-8\", \"small_bert/bert_en_uncased_L-8_H-768_A-12\", \"small_bert/bert_en_uncased_L-10_H-128_A-2\", \"small_bert/bert_en_uncased_L-10_H-256_A-4\", \"small_bert/bert_en_uncased_L-10_H-512_A-8\", \"small_bert/bert_en_uncased_L-10_H-768_A-12\", \"small_bert/bert_en_uncased_L-12_H-128_A-2\", \"small_bert/bert_en_uncased_L-12_H-256_A-4\", \"small_bert/bert_en_uncased_L-12_H-512_A-8\", \"small_bert/bert_en_uncased_L-12_H-768_A-12\", \"albert_en_base\", \"electra_small\", \"electra_base\", \"experts_pubmed\", \"experts_wiki_books\", \"talking-heads_base\"]\n",
        "\n",
        "map_name_to_handle = {\n",
        "    'bert_en_uncased_L-12_H-768_A-12':\n",
        "        'https://tfhub.dev/tensorflow/bert_en_uncased_L-12_H-768_A-12/3',\n",
        "    'bert_en_cased_L-12_H-768_A-12':\n",
        "        'https://tfhub.dev/tensorflow/bert_en_cased_L-12_H-768_A-12/3',\n",
        "    'bert_multi_cased_L-12_H-768_A-12':\n",
        "        'https://tfhub.dev/tensorflow/bert_multi_cased_L-12_H-768_A-12/3',\n",
        "    'small_bert/bert_en_uncased_L-2_H-128_A-2':\n",
        "        'https://tfhub.dev/tensorflow/small_bert/bert_en_uncased_L-2_H-128_A-2/1',\n",
        "    'small_bert/bert_en_uncased_L-2_H-256_A-4':\n",
        "        'https://tfhub.dev/tensorflow/small_bert/bert_en_uncased_L-2_H-256_A-4/1',\n",
        "    'small_bert/bert_en_uncased_L-2_H-512_A-8':\n",
        "        'https://tfhub.dev/tensorflow/small_bert/bert_en_uncased_L-2_H-512_A-8/1',\n",
        "    'small_bert/bert_en_uncased_L-2_H-768_A-12':\n",
        "        'https://tfhub.dev/tensorflow/small_bert/bert_en_uncased_L-2_H-768_A-12/1',\n",
        "    'small_bert/bert_en_uncased_L-4_H-128_A-2':\n",
        "        'https://tfhub.dev/tensorflow/small_bert/bert_en_uncased_L-4_H-128_A-2/1',\n",
        "    'small_bert/bert_en_uncased_L-4_H-256_A-4':\n",
        "        'https://tfhub.dev/tensorflow/small_bert/bert_en_uncased_L-4_H-256_A-4/1',\n",
        "    'small_bert/bert_en_uncased_L-4_H-512_A-8':\n",
        "        'https://tfhub.dev/tensorflow/small_bert/bert_en_uncased_L-4_H-512_A-8/1',\n",
        "    'small_bert/bert_en_uncased_L-4_H-768_A-12':\n",
        "        'https://tfhub.dev/tensorflow/small_bert/bert_en_uncased_L-4_H-768_A-12/1',\n",
        "    'small_bert/bert_en_uncased_L-6_H-128_A-2':\n",
        "        'https://tfhub.dev/tensorflow/small_bert/bert_en_uncased_L-6_H-128_A-2/1',\n",
        "    'small_bert/bert_en_uncased_L-6_H-256_A-4':\n",
        "        'https://tfhub.dev/tensorflow/small_bert/bert_en_uncased_L-6_H-256_A-4/1',\n",
        "    'small_bert/bert_en_uncased_L-6_H-512_A-8':\n",
        "        'https://tfhub.dev/tensorflow/small_bert/bert_en_uncased_L-6_H-512_A-8/1',\n",
        "    'small_bert/bert_en_uncased_L-6_H-768_A-12':\n",
        "        'https://tfhub.dev/tensorflow/small_bert/bert_en_uncased_L-6_H-768_A-12/1',\n",
        "    'small_bert/bert_en_uncased_L-8_H-128_A-2':\n",
        "        'https://tfhub.dev/tensorflow/small_bert/bert_en_uncased_L-8_H-128_A-2/1',\n",
        "    'small_bert/bert_en_uncased_L-8_H-256_A-4':\n",
        "        'https://tfhub.dev/tensorflow/small_bert/bert_en_uncased_L-8_H-256_A-4/1',\n",
        "    'small_bert/bert_en_uncased_L-8_H-512_A-8':\n",
        "        'https://tfhub.dev/tensorflow/small_bert/bert_en_uncased_L-8_H-512_A-8/1',\n",
        "    'small_bert/bert_en_uncased_L-8_H-768_A-12':\n",
        "        'https://tfhub.dev/tensorflow/small_bert/bert_en_uncased_L-8_H-768_A-12/1',\n",
        "    'small_bert/bert_en_uncased_L-10_H-128_A-2':\n",
        "        'https://tfhub.dev/tensorflow/small_bert/bert_en_uncased_L-10_H-128_A-2/1',\n",
        "    'small_bert/bert_en_uncased_L-10_H-256_A-4':\n",
        "        'https://tfhub.dev/tensorflow/small_bert/bert_en_uncased_L-10_H-256_A-4/1',\n",
        "    'small_bert/bert_en_uncased_L-10_H-512_A-8':\n",
        "        'https://tfhub.dev/tensorflow/small_bert/bert_en_uncased_L-10_H-512_A-8/1',\n",
        "    'small_bert/bert_en_uncased_L-10_H-768_A-12':\n",
        "        'https://tfhub.dev/tensorflow/small_bert/bert_en_uncased_L-10_H-768_A-12/1',\n",
        "    'small_bert/bert_en_uncased_L-12_H-128_A-2':\n",
        "        'https://tfhub.dev/tensorflow/small_bert/bert_en_uncased_L-12_H-128_A-2/1',\n",
        "    'small_bert/bert_en_uncased_L-12_H-256_A-4':\n",
        "        'https://tfhub.dev/tensorflow/small_bert/bert_en_uncased_L-12_H-256_A-4/1',\n",
        "    'small_bert/bert_en_uncased_L-12_H-512_A-8':\n",
        "        'https://tfhub.dev/tensorflow/small_bert/bert_en_uncased_L-12_H-512_A-8/1',\n",
        "    'small_bert/bert_en_uncased_L-12_H-768_A-12':\n",
        "        'https://tfhub.dev/tensorflow/small_bert/bert_en_uncased_L-12_H-768_A-12/1',\n",
        "    'albert_en_base':\n",
        "        'https://tfhub.dev/tensorflow/albert_en_base/2',\n",
        "    'electra_small':\n",
        "        'https://tfhub.dev/google/electra_small/2',\n",
        "    'electra_base':\n",
        "        'https://tfhub.dev/google/electra_base/2',\n",
        "    'experts_pubmed':\n",
        "        'https://tfhub.dev/google/experts/bert/pubmed/2',\n",
        "    'experts_wiki_books':\n",
        "        'https://tfhub.dev/google/experts/bert/wiki_books/2',\n",
        "    'talking-heads_base':\n",
        "        'https://tfhub.dev/tensorflow/talkheads_ggelu_bert_en_base/1',\n",
        "}\n",
        "\n",
        "map_model_to_preprocess = {\n",
        "    'bert_en_uncased_L-12_H-768_A-12':\n",
        "        'https://tfhub.dev/tensorflow/bert_en_uncased_preprocess/3',\n",
        "    'bert_en_cased_L-12_H-768_A-12':\n",
        "        'https://tfhub.dev/tensorflow/bert_en_cased_preprocess/3',\n",
        "    'small_bert/bert_en_uncased_L-2_H-128_A-2':\n",
        "        'https://tfhub.dev/tensorflow/bert_en_uncased_preprocess/3',\n",
        "    'small_bert/bert_en_uncased_L-2_H-256_A-4':\n",
        "        'https://tfhub.dev/tensorflow/bert_en_uncased_preprocess/3',\n",
        "    'small_bert/bert_en_uncased_L-2_H-512_A-8':\n",
        "        'https://tfhub.dev/tensorflow/bert_en_uncased_preprocess/3',\n",
        "    'small_bert/bert_en_uncased_L-2_H-768_A-12':\n",
        "        'https://tfhub.dev/tensorflow/bert_en_uncased_preprocess/3',\n",
        "    'small_bert/bert_en_uncased_L-4_H-128_A-2':\n",
        "        'https://tfhub.dev/tensorflow/bert_en_uncased_preprocess/3',\n",
        "    'small_bert/bert_en_uncased_L-4_H-256_A-4':\n",
        "        'https://tfhub.dev/tensorflow/bert_en_uncased_preprocess/3',\n",
        "    'small_bert/bert_en_uncased_L-4_H-512_A-8':\n",
        "        'https://tfhub.dev/tensorflow/bert_en_uncased_preprocess/3',\n",
        "    'small_bert/bert_en_uncased_L-4_H-768_A-12':\n",
        "        'https://tfhub.dev/tensorflow/bert_en_uncased_preprocess/3',\n",
        "    'small_bert/bert_en_uncased_L-6_H-128_A-2':\n",
        "        'https://tfhub.dev/tensorflow/bert_en_uncased_preprocess/3',\n",
        "    'small_bert/bert_en_uncased_L-6_H-256_A-4':\n",
        "        'https://tfhub.dev/tensorflow/bert_en_uncased_preprocess/3',\n",
        "    'small_bert/bert_en_uncased_L-6_H-512_A-8':\n",
        "        'https://tfhub.dev/tensorflow/bert_en_uncased_preprocess/3',\n",
        "    'small_bert/bert_en_uncased_L-6_H-768_A-12':\n",
        "        'https://tfhub.dev/tensorflow/bert_en_uncased_preprocess/3',\n",
        "    'small_bert/bert_en_uncased_L-8_H-128_A-2':\n",
        "        'https://tfhub.dev/tensorflow/bert_en_uncased_preprocess/3',\n",
        "    'small_bert/bert_en_uncased_L-8_H-256_A-4':\n",
        "        'https://tfhub.dev/tensorflow/bert_en_uncased_preprocess/3',\n",
        "    'small_bert/bert_en_uncased_L-8_H-512_A-8':\n",
        "        'https://tfhub.dev/tensorflow/bert_en_uncased_preprocess/3',\n",
        "    'small_bert/bert_en_uncased_L-8_H-768_A-12':\n",
        "        'https://tfhub.dev/tensorflow/bert_en_uncased_preprocess/3',\n",
        "    'small_bert/bert_en_uncased_L-10_H-128_A-2':\n",
        "        'https://tfhub.dev/tensorflow/bert_en_uncased_preprocess/3',\n",
        "    'small_bert/bert_en_uncased_L-10_H-256_A-4':\n",
        "        'https://tfhub.dev/tensorflow/bert_en_uncased_preprocess/3',\n",
        "    'small_bert/bert_en_uncased_L-10_H-512_A-8':\n",
        "        'https://tfhub.dev/tensorflow/bert_en_uncased_preprocess/3',\n",
        "    'small_bert/bert_en_uncased_L-10_H-768_A-12':\n",
        "        'https://tfhub.dev/tensorflow/bert_en_uncased_preprocess/3',\n",
        "    'small_bert/bert_en_uncased_L-12_H-128_A-2':\n",
        "        'https://tfhub.dev/tensorflow/bert_en_uncased_preprocess/3',\n",
        "    'small_bert/bert_en_uncased_L-12_H-256_A-4':\n",
        "        'https://tfhub.dev/tensorflow/bert_en_uncased_preprocess/3',\n",
        "    'small_bert/bert_en_uncased_L-12_H-512_A-8':\n",
        "        'https://tfhub.dev/tensorflow/bert_en_uncased_preprocess/3',\n",
        "    'small_bert/bert_en_uncased_L-12_H-768_A-12':\n",
        "        'https://tfhub.dev/tensorflow/bert_en_uncased_preprocess/3',\n",
        "    'bert_multi_cased_L-12_H-768_A-12':\n",
        "        'https://tfhub.dev/tensorflow/bert_multi_cased_preprocess/3',\n",
        "    'albert_en_base':\n",
        "        'https://tfhub.dev/tensorflow/albert_en_preprocess/3',\n",
        "    'electra_small':\n",
        "        'https://tfhub.dev/tensorflow/bert_en_uncased_preprocess/3',\n",
        "    'electra_base':\n",
        "        'https://tfhub.dev/tensorflow/bert_en_uncased_preprocess/3',\n",
        "    'experts_pubmed':\n",
        "        'https://tfhub.dev/tensorflow/bert_en_uncased_preprocess/3',\n",
        "    'experts_wiki_books':\n",
        "        'https://tfhub.dev/tensorflow/bert_en_uncased_preprocess/3',\n",
        "    'talking-heads_base':\n",
        "        'https://tfhub.dev/tensorflow/bert_en_uncased_preprocess/3',\n",
        "}\n",
        "\n",
        "tfhub_handle_encoder = map_name_to_handle[bert_model_name]\n",
        "tfhub_handle_preprocess = map_model_to_preprocess[bert_model_name]\n",
        "\n",
        "print(f'BERT model selected           : {tfhub_handle_encoder}')\n",
        "print(f'Preprocess model auto-selected: {tfhub_handle_preprocess}')"
      ],
      "execution_count": 30,
      "outputs": [
        {
          "output_type": "stream",
          "text": [
            "BERT model selected           : https://tfhub.dev/google/electra_base/2\n",
            "Preprocess model auto-selected: https://tfhub.dev/tensorflow/bert_en_uncased_preprocess/3\n"
          ],
          "name": "stdout"
        }
      ]
    },
    {
      "cell_type": "markdown",
      "metadata": {
        "id": "7WrcxxTRDdHi"
      },
      "source": [
        "## The preprocessing model\n",
        "\n",
        "Text inputs need to be transformed to numeric token ids and arranged in several Tensors before being input to BERT. TensorFlow Hub provides a matching preprocessing model for each of the BERT models discussed above, which implements this transformation using TF ops from the TF.text library. It is not necessary to run pure Python code outside your TensorFlow model to preprocess text.\n",
        "\n",
        "The preprocessing model must be the one referenced by the documentation of the BERT model, which you can read at the URL printed above. For BERT models from the drop-down above, the preprocessing model is selected automatically.\n",
        "\n",
        "Note: You will load the preprocessing model into a [hub.KerasLayer](https://www.tensorflow.org/hub/api_docs/python/hub/KerasLayer) to compose your fine-tuned model. This is the preferred API to load a TF2-style SavedModel from TF Hub into a Keras model."
      ]
    },
    {
      "cell_type": "markdown",
      "metadata": {
        "id": "x4naBiEE_cZX"
      },
      "source": [
        "Let's try the preprocessing model on some text and see the output:"
      ]
    },
    {
      "cell_type": "markdown",
      "metadata": {
        "id": "EqL7ihkN_862"
      },
      "source": [
        "As you can see, now you have the 3 outputs from the preprocessing that a BERT model would use (`input_words_id`, `input_mask` and `input_type_ids`).\n",
        "\n",
        "Some other important points:\n",
        "- The input is truncated to 128 tokens. The number of tokens can be customized, and you can see more details on the [Solve GLUE tasks using BERT on a TPU colab](https://www.tensorflow.org/tutorials/text/solve_glue_tasks_using_bert_on_tpu).\n",
        "- The `input_type_ids` only have one value (0) because this is a single sentence input. For a multiple sentence input, it would have one number for each input.\n",
        "\n",
        "Since this text preprocessor is a TensorFlow model, It can be included in your model directly."
      ]
    },
    {
      "cell_type": "markdown",
      "metadata": {
        "id": "DKnLPSEmtp9i"
      },
      "source": [
        "## Using the BERT model\n",
        "\n",
        "Before putting BERT into your own model, let's take a look at its outputs. You will load it from TF Hub and see the returned values."
      ]
    },
    {
      "cell_type": "markdown",
      "metadata": {
        "id": "sm61jDrezAll"
      },
      "source": [
        "The BERT models return a map with 3 important keys: `pooled_output`, `sequence_output`, `encoder_outputs`:\n",
        "\n",
        "- `pooled_output` to represent each input sequence as a whole. The shape is `[batch_size, H]`. You can think of this as an embedding for the entire movie review.\n",
        "- `sequence_output` represents each input token in the context. The shape is `[batch_size, seq_length, H]`. You can think of this as a contextual embedding for every token in the movie review.\n",
        "- `encoder_outputs` are the intermediate activations of the `L` Transformer blocks. `outputs[\"encoder_outputs\"][i]` is a Tensor of shape `[batch_size, seq_length, 1024]` with the outputs of the i-th Transformer block, for `0 <= i < L`. The last value of the list is equal to `sequence_output`.\n",
        "\n",
        "For the fine-tuning you are going to use the `pooled_output` array."
      ]
    },
    {
      "cell_type": "markdown",
      "metadata": {
        "id": "pDNKfAXbDnJH"
      },
      "source": [
        "## Define your model\n",
        "\n",
        "You will create a very simple fine-tuned model, with the preprocessing model, the selected BERT model, one Dense and a Dropout layer.\n",
        "\n",
        "Note: for more information about the base model's input and output you can use just follow the model's url for documentation. Here specifically you don't need to worry about it because the preprocessing model will take care of that for you.\n"
      ]
    },
    {
      "cell_type": "code",
      "metadata": {
        "id": "7Uh03fldVO_9"
      },
      "source": [
        "import tensorflow as tf\n",
        "from keras.applications.vgg16 import VGG16"
      ],
      "execution_count": 19,
      "outputs": []
    },
    {
      "cell_type": "code",
      "metadata": {
        "id": "aksj743St9ga"
      },
      "source": [
        "def build_classifier_model():\n",
        "  text_input = tf.keras.layers.Input(shape=(), dtype=tf.string, name='text_input')\n",
        "  preprocessing_layer = hub.KerasLayer(tfhub_handle_preprocess, name='preprocessing')\n",
        "  encoder_inputs = preprocessing_layer(text_input)\n",
        "  encoder = hub.KerasLayer(tfhub_handle_encoder, trainable=True, name='BERT_encoder')\n",
        "  outputs = encoder(encoder_inputs)\n",
        "  net = outputs['pooled_output']\n",
        "  net = tf.keras.layers.Dropout(0.1)(net)\n",
        "  net = tf.keras.layers.Dense(128, activation='relu')(net)\n",
        "\n",
        "\n",
        "\n",
        "  model = VGG16(include_top=False, input_shape=(224,224,3))\n",
        "  model.layers[0]._name = \"img_input\"\n",
        "  # mark loaded layers as not trainable\n",
        "  # for layer in model.layers:\n",
        "  #     layer.trainable = False\n",
        "  # add new classifier layers\n",
        "  flat1 = tf.keras.layers.Flatten()(model.layers[-1].output)\n",
        "  img_l = tf.keras.layers.Dropout(0.1)(flat1)\n",
        "  class1 = tf.keras.layers.Dense(128, activation='relu', kernel_initializer='he_uniform')(img_l)\n",
        "  class1 = tf.keras.layers.concatenate([net, class1])\n",
        "  # pre_out = tf.keras.layers.Dense(128, activation='relu')(class1)\n",
        "  # net = tf.keras.layers.Dropout(0.1)(pre_out)\n",
        "\n",
        "  net = tf.keras.layers.Dense(1, activation='sigmoid', name='classifier')(class1)\n",
        "  # return tf.keras.Model(inputs=model.inputs, outputs=net)\n",
        "  return tf.keras.Model(inputs=[text_input, model.inputs], outputs=net)"
      ],
      "execution_count": 95,
      "outputs": []
    },
    {
      "cell_type": "markdown",
      "metadata": {
        "id": "Zs4yhFraBuGQ"
      },
      "source": [
        "Let's check that the model runs with the output of the preprocessing model."
      ]
    },
    {
      "cell_type": "code",
      "metadata": {
        "id": "mGMF8AZcB2Zy"
      },
      "source": [
        "classifier_model = build_classifier_model()\n",
        "# bert_raw_result = classifier_model(tf.constant(text_test))\n",
        "# print(tf.sigmoid(bert_raw_result))"
      ],
      "execution_count": 96,
      "outputs": []
    },
    {
      "cell_type": "markdown",
      "metadata": {
        "id": "ZTUzNV2JE2G3"
      },
      "source": [
        "The output is meaningless, of course, because the model has not been trained yet.\n",
        "\n",
        "Let's take a look at the model's structure."
      ]
    },
    {
      "cell_type": "code",
      "metadata": {
        "colab": {
          "base_uri": "https://localhost:8080/",
          "height": 1000
        },
        "id": "0EmzyHZXKIpm",
        "outputId": "5c1827f3-1572-48dd-fd91-6cbd8a1bdccd"
      },
      "source": [
        "tf.keras.utils.plot_model(classifier_model)"
      ],
      "execution_count": 103,
      "outputs": [
        {
          "output_type": "execute_result",
          "data": {
            "image/png": "[encoded data removed]",
            "text/plain": [
              "<IPython.core.display.Image object>"
            ]
          },
          "metadata": {
            "tags": []
          },
          "execution_count": 103
        }
      ]
    },
    {
      "cell_type": "code",
      "metadata": {
        "colab": {
          "base_uri": "https://localhost:8080/"
        },
        "id": "ZQNc3m1RE6Wm",
        "outputId": "855c4ea6-1ced-4f69-eb02-f87a595ed9c8"
      },
      "source": [
        "classifier_model.summary()"
      ],
      "execution_count": 47,
      "outputs": [
        {
          "output_type": "stream",
          "text": [
            "Model: \"model_1\"\n",
            "__________________________________________________________________________________________________\n",
            "Layer (type)                    Output Shape         Param #     Connected to                     \n",
            "==================================================================================================\n",
            "img_input (InputLayer)          [(None, 224, 224, 3) 0                                            \n",
            "__________________________________________________________________________________________________\n",
            "block1_conv1 (Conv2D)           (None, 224, 224, 64) 1792        img_input[0][0]                  \n",
            "__________________________________________________________________________________________________\n",
            "block1_conv2 (Conv2D)           (None, 224, 224, 64) 36928       block1_conv1[0][0]               \n",
            "__________________________________________________________________________________________________\n",
            "block1_pool (MaxPooling2D)      (None, 112, 112, 64) 0           block1_conv2[0][0]               \n",
            "__________________________________________________________________________________________________\n",
            "block2_conv1 (Conv2D)           (None, 112, 112, 128 73856       block1_pool[0][0]                \n",
            "__________________________________________________________________________________________________\n",
            "block2_conv2 (Conv2D)           (None, 112, 112, 128 147584      block2_conv1[0][0]               \n",
            "__________________________________________________________________________________________________\n",
            "block2_pool (MaxPooling2D)      (None, 56, 56, 128)  0           block2_conv2[0][0]               \n",
            "__________________________________________________________________________________________________\n",
            "block3_conv1 (Conv2D)           (None, 56, 56, 256)  295168      block2_pool[0][0]                \n",
            "__________________________________________________________________________________________________\n",
            "block3_conv2 (Conv2D)           (None, 56, 56, 256)  590080      block3_conv1[0][0]               \n",
            "__________________________________________________________________________________________________\n",
            "block3_conv3 (Conv2D)           (None, 56, 56, 256)  590080      block3_conv2[0][0]               \n",
            "__________________________________________________________________________________________________\n",
            "block3_pool (MaxPooling2D)      (None, 28, 28, 256)  0           block3_conv3[0][0]               \n",
            "__________________________________________________________________________________________________\n",
            "block4_conv1 (Conv2D)           (None, 28, 28, 512)  1180160     block3_pool[0][0]                \n",
            "__________________________________________________________________________________________________\n",
            "block4_conv2 (Conv2D)           (None, 28, 28, 512)  2359808     block4_conv1[0][0]               \n",
            "__________________________________________________________________________________________________\n",
            "block4_conv3 (Conv2D)           (None, 28, 28, 512)  2359808     block4_conv2[0][0]               \n",
            "__________________________________________________________________________________________________\n",
            "block4_pool (MaxPooling2D)      (None, 14, 14, 512)  0           block4_conv3[0][0]               \n",
            "__________________________________________________________________________________________________\n",
            "block5_conv1 (Conv2D)           (None, 14, 14, 512)  2359808     block4_pool[0][0]                \n",
            "__________________________________________________________________________________________________\n",
            "block5_conv2 (Conv2D)           (None, 14, 14, 512)  2359808     block5_conv1[0][0]               \n",
            "__________________________________________________________________________________________________\n",
            "text_input (InputLayer)         [(None,)]            0                                            \n",
            "__________________________________________________________________________________________________\n",
            "block5_conv3 (Conv2D)           (None, 14, 14, 512)  2359808     block5_conv2[0][0]               \n",
            "__________________________________________________________________________________________________\n",
            "preprocessing (KerasLayer)      {'input_word_ids': ( 0           text_input[0][0]                 \n",
            "__________________________________________________________________________________________________\n",
            "block5_pool (MaxPooling2D)      (None, 7, 7, 512)    0           block5_conv3[0][0]               \n",
            "__________________________________________________________________________________________________\n",
            "BERT_encoder (KerasLayer)       {'encoder_outputs':  109482241   preprocessing[0][0]              \n",
            "                                                                 preprocessing[0][1]              \n",
            "                                                                 preprocessing[0][2]              \n",
            "__________________________________________________________________________________________________\n",
            "flatten_6 (Flatten)             (None, 25088)        0           block5_pool[0][0]                \n",
            "__________________________________________________________________________________________________\n",
            "dropout_14 (Dropout)            (None, 768)          0           BERT_encoder[0][13]              \n",
            "__________________________________________________________________________________________________\n",
            "dropout_15 (Dropout)            (None, 25088)        0           flatten_6[0][0]                  \n",
            "__________________________________________________________________________________________________\n",
            "dense_10 (Dense)                (None, 128)          98432       dropout_14[0][0]                 \n",
            "__________________________________________________________________________________________________\n",
            "dense_11 (Dense)                (None, 128)          3211392     dropout_15[0][0]                 \n",
            "__________________________________________________________________________________________________\n",
            "concatenate_2 (Concatenate)     (None, 256)          0           dense_10[0][0]                   \n",
            "                                                                 dense_11[0][0]                   \n",
            "__________________________________________________________________________________________________\n",
            "dense_12 (Dense)                (None, 128)          32896       concatenate_2[0][0]              \n",
            "__________________________________________________________________________________________________\n",
            "dropout_16 (Dropout)            (None, 128)          0           dense_12[0][0]                   \n",
            "__________________________________________________________________________________________________\n",
            "classifier (Dense)              (None, 1)            129         dropout_16[0][0]                 \n",
            "==================================================================================================\n",
            "Total params: 127,539,778\n",
            "Trainable params: 112,825,089\n",
            "Non-trainable params: 14,714,689\n",
            "__________________________________________________________________________________________________\n"
          ],
          "name": "stdout"
        }
      ]
    },
    {
      "cell_type": "code",
      "metadata": {
        "colab": {
          "base_uri": "https://localhost:8080/"
        },
        "id": "mpxhc-SOTG7c",
        "outputId": "3ecd7028-9c3b-4bd1-e394-847defcf850e"
      },
      "source": [
        "classifier_model.summary()"
      ],
      "execution_count": null,
      "outputs": [
        {
          "output_type": "stream",
          "text": [
            "Model: \"model\"\n",
            "__________________________________________________________________________________________________\n",
            "Layer (type)                    Output Shape         Param #     Connected to                     \n",
            "==================================================================================================\n",
            "txt_input (InputLayer)          [(None,)]            0                                            \n",
            "__________________________________________________________________________________________________\n",
            "preprocessing (KerasLayer)      {'input_mask': (None 0           txt_input[0][0]                  \n",
            "__________________________________________________________________________________________________\n",
            "BERT_encoder (KerasLayer)       {'encoder_outputs':  109482241   preprocessing[0][0]              \n",
            "                                                                 preprocessing[0][1]              \n",
            "                                                                 preprocessing[0][2]              \n",
            "__________________________________________________________________________________________________\n",
            "img_input (InputLayer)          [(None, 25088)]      0                                            \n",
            "__________________________________________________________________________________________________\n",
            "dropout (Dropout)               (None, 768)          0           BERT_encoder[0][13]              \n",
            "__________________________________________________________________________________________________\n",
            "dropout_1 (Dropout)             (None, 25088)        0           img_input[0][0]                  \n",
            "__________________________________________________________________________________________________\n",
            "dense (Dense)                   (None, 128)          98432       dropout[0][0]                    \n",
            "__________________________________________________________________________________________________\n",
            "dense_1 (Dense)                 (None, 128)          3211392     dropout_1[0][0]                  \n",
            "__________________________________________________________________________________________________\n",
            "concatenate (Concatenate)       (None, 256)          0           dense[0][0]                      \n",
            "                                                                 dense_1[0][0]                    \n",
            "__________________________________________________________________________________________________\n",
            "dropout_2 (Dropout)             (None, 256)          0           concatenate[0][0]                \n",
            "__________________________________________________________________________________________________\n",
            "dense_2 (Dense)                 (None, 128)          32896       dropout_2[0][0]                  \n",
            "__________________________________________________________________________________________________\n",
            "classifier (Dense)              (None, 1)            129         dense_2[0][0]                    \n",
            "==================================================================================================\n",
            "Total params: 112,825,090\n",
            "Trainable params: 112,825,089\n",
            "Non-trainable params: 1\n",
            "__________________________________________________________________________________________________\n"
          ],
          "name": "stdout"
        }
      ]
    },
    {
      "cell_type": "markdown",
      "metadata": {
        "id": "WbUWoZMwc302"
      },
      "source": [
        "## Model training\n",
        "\n",
        "You now have all the pieces to train a model, including the preprocessing module, BERT encoder, data, and classifier."
      ]
    },
    {
      "cell_type": "markdown",
      "metadata": {
        "id": "WpJ3xcwDT56v"
      },
      "source": [
        "### Loss function\n",
        "\n",
        "Since this is a binary classification problem and the model outputs a probability (a single-unit layer), you'll use `losses.BinaryCrossentropy` loss function.\n"
      ]
    },
    {
      "cell_type": "code",
      "metadata": {
        "id": "OWPOZE-L3AgE"
      },
      "source": [
        "loss = tf.keras.losses.BinaryCrossentropy(from_logits=True)\n",
        "metrics = [tf.keras.metrics.Accuracy(), tf.keras.metrics.AUC()]"
      ],
      "execution_count": 104,
      "outputs": []
    },
    {
      "cell_type": "code",
      "metadata": {
        "id": "rRLI6zVQHfpn"
      },
      "source": [
        ""
      ],
      "execution_count": null,
      "outputs": []
    },
    {
      "cell_type": "markdown",
      "metadata": {
        "id": "77psrpfzbxtp"
      },
      "source": [
        "### Optimizer\n",
        "\n",
        "For fine-tuning, let's use the same optimizer that BERT was originally trained with: the \"Adaptive Moments\" (Adam). This optimizer minimizes the prediction loss and does regularization by weight decay (not using moments), which is also known as [AdamW](https://arxiv.org/abs/1711.05101).\n",
        "\n",
        "For the learning rate (`init_lr`), we use the same schedule as BERT pre-training: linear decay of a notional initial learning rate, prefixed with a linear warm-up phase over the first 10% of training steps (`num_warmup_steps`). In line with the BERT paper, the initial learning rate is smaller for fine-tuning (best of 5e-5, 3e-5, 2e-5)."
      ]
    },
    {
      "cell_type": "code",
      "metadata": {
        "id": "KLD484pIeRXO",
        "colab": {
          "base_uri": "https://localhost:8080/"
        },
        "outputId": "65b9cd7a-d2a6-4aab-ac8f-45bcaba47784"
      },
      "source": [
        "tf.data.experimental.cardinality(train_ds).numpy()"
      ],
      "execution_count": 49,
      "outputs": [
        {
          "output_type": "execute_result",
          "data": {
            "text/plain": [
              "-2"
            ]
          },
          "metadata": {
            "tags": []
          },
          "execution_count": 49
        }
      ]
    },
    {
      "cell_type": "code",
      "metadata": {
        "id": "P9eP2y9dbw32"
      },
      "source": [
        "epochs = 2\n",
        "steps_per_epoch = 6800\n",
        "num_train_steps = steps_per_epoch * epochs\n",
        "num_warmup_steps = int(0.1*num_train_steps)\n",
        "\n",
        "init_lr = 3e-4\n",
        "optimizer = optimization.create_optimizer(init_lr=init_lr,\n",
        "                                          num_train_steps=num_train_steps,\n",
        "                                          num_warmup_steps=num_warmup_steps,\n",
        "                                          optimizer_type='adamw')"
      ],
      "execution_count": null,
      "outputs": []
    },
    {
      "cell_type": "markdown",
      "metadata": {
        "id": "SqlarlpC_v0g"
      },
      "source": [
        "### Loading the BERT model and training\n",
        "\n",
        "Using the `classifier_model` you created earlier, you can compile the model with the loss, metric and optimizer."
      ]
    },
    {
      "cell_type": "code",
      "metadata": {
        "id": "-7GPDhR98jsD"
      },
      "source": [
        "classifier_model.compile(\n",
        "    # optimizer=optimizer,\n",
        "                        optimizer=tf.keras.optimizers.Adam(3e-5),\n",
        "                         loss=loss,\n",
        "                         metrics=metrics)"
      ],
      "execution_count": 105,
      "outputs": []
    },
    {
      "cell_type": "code",
      "metadata": {
        "id": "EidKs8GmJVlu"
      },
      "source": [
        ""
      ],
      "execution_count": null,
      "outputs": []
    },
    {
      "cell_type": "markdown",
      "metadata": {
        "id": "CpBuV5j2cS_b"
      },
      "source": [
        "Note: training time will vary depending on the complexity of the BERT model you have selected."
      ]
    },
    {
      "cell_type": "code",
      "metadata": {
        "id": "HtfDFAnN_Neu",
        "colab": {
          "base_uri": "https://localhost:8080/",
          "height": 973
        },
        "outputId": "0aebcef4-e8fd-41f6-9f2a-fbef043b6283"
      },
      "source": [
        "print(f'Training model with {tfhub_handle_encoder}')\n",
        "import datetime\n",
        "import os\n",
        "callback = tf.keras.callbacks.EarlyStopping(monitor='loss', patience=3)\n",
        "history = classifier_model.fit(train_ds,\n",
        "                               validation_data=val_ds,\n",
        "                                epochs=20\n",
        "                              )"
      ],
      "execution_count": 106,
      "outputs": [
        {
          "output_type": "stream",
          "text": [
            "Training model with https://tfhub.dev/google/electra_base/2\n",
            "Epoch 1/20\n"
          ],
          "name": "stdout"
        },
        {
          "output_type": "error",
          "ename": "ValueError",
          "evalue": "ignored",
          "traceback": [
            "\u001b[0;31m---------------------------------------------------------------------------\u001b[0m",
            "\u001b[0;31mValueError\u001b[0m                                Traceback (most recent call last)",
            "\u001b[0;32m<ipython-input-106-5ab5b9caa464>\u001b[0m in \u001b[0;36m<module>\u001b[0;34m()\u001b[0m\n\u001b[1;32m      5\u001b[0m history = classifier_model.fit(train_ds,\n\u001b[1;32m      6\u001b[0m                                \u001b[0mvalidation_data\u001b[0m\u001b[0;34m=\u001b[0m\u001b[0mval_ds\u001b[0m\u001b[0;34m,\u001b[0m\u001b[0;34m\u001b[0m\u001b[0;34m\u001b[0m\u001b[0m\n\u001b[0;32m----> 7\u001b[0;31m                                 \u001b[0mepochs\u001b[0m\u001b[0;34m=\u001b[0m\u001b[0;36m20\u001b[0m\u001b[0;34m\u001b[0m\u001b[0;34m\u001b[0m\u001b[0m\n\u001b[0m\u001b[1;32m      8\u001b[0m                               )\n",
            "\u001b[0;32m/usr/local/lib/python3.7/dist-packages/tensorflow/python/keras/engine/training.py\u001b[0m in \u001b[0;36mfit\u001b[0;34m(self, x, y, batch_size, epochs, verbose, callbacks, validation_split, validation_data, shuffle, class_weight, sample_weight, initial_epoch, steps_per_epoch, validation_steps, validation_batch_size, validation_freq, max_queue_size, workers, use_multiprocessing)\u001b[0m\n\u001b[1;32m   1098\u001b[0m                 _r=1):\n\u001b[1;32m   1099\u001b[0m               \u001b[0mcallbacks\u001b[0m\u001b[0;34m.\u001b[0m\u001b[0mon_train_batch_begin\u001b[0m\u001b[0;34m(\u001b[0m\u001b[0mstep\u001b[0m\u001b[0;34m)\u001b[0m\u001b[0;34m\u001b[0m\u001b[0;34m\u001b[0m\u001b[0m\n\u001b[0;32m-> 1100\u001b[0;31m               \u001b[0mtmp_logs\u001b[0m \u001b[0;34m=\u001b[0m \u001b[0mself\u001b[0m\u001b[0;34m.\u001b[0m\u001b[0mtrain_function\u001b[0m\u001b[0;34m(\u001b[0m\u001b[0miterator\u001b[0m\u001b[0;34m)\u001b[0m\u001b[0;34m\u001b[0m\u001b[0;34m\u001b[0m\u001b[0m\n\u001b[0m\u001b[1;32m   1101\u001b[0m               \u001b[0;32mif\u001b[0m \u001b[0mdata_handler\u001b[0m\u001b[0;34m.\u001b[0m\u001b[0mshould_sync\u001b[0m\u001b[0;34m:\u001b[0m\u001b[0;34m\u001b[0m\u001b[0;34m\u001b[0m\u001b[0m\n\u001b[1;32m   1102\u001b[0m                 \u001b[0mcontext\u001b[0m\u001b[0;34m.\u001b[0m\u001b[0masync_wait\u001b[0m\u001b[0;34m(\u001b[0m\u001b[0;34m)\u001b[0m\u001b[0;34m\u001b[0m\u001b[0;34m\u001b[0m\u001b[0m\n",
            "\u001b[0;32m/usr/local/lib/python3.7/dist-packages/tensorflow/python/eager/def_function.py\u001b[0m in \u001b[0;36m__call__\u001b[0;34m(self, *args, **kwds)\u001b[0m\n\u001b[1;32m    826\u001b[0m     \u001b[0mtracing_count\u001b[0m \u001b[0;34m=\u001b[0m \u001b[0mself\u001b[0m\u001b[0;34m.\u001b[0m\u001b[0mexperimental_get_tracing_count\u001b[0m\u001b[0;34m(\u001b[0m\u001b[0;34m)\u001b[0m\u001b[0;34m\u001b[0m\u001b[0;34m\u001b[0m\u001b[0m\n\u001b[1;32m    827\u001b[0m     \u001b[0;32mwith\u001b[0m \u001b[0mtrace\u001b[0m\u001b[0;34m.\u001b[0m\u001b[0mTrace\u001b[0m\u001b[0;34m(\u001b[0m\u001b[0mself\u001b[0m\u001b[0;34m.\u001b[0m\u001b[0m_name\u001b[0m\u001b[0;34m)\u001b[0m \u001b[0;32mas\u001b[0m \u001b[0mtm\u001b[0m\u001b[0;34m:\u001b[0m\u001b[0;34m\u001b[0m\u001b[0;34m\u001b[0m\u001b[0m\n\u001b[0;32m--> 828\u001b[0;31m       \u001b[0mresult\u001b[0m \u001b[0;34m=\u001b[0m \u001b[0mself\u001b[0m\u001b[0;34m.\u001b[0m\u001b[0m_call\u001b[0m\u001b[0;34m(\u001b[0m\u001b[0;34m*\u001b[0m\u001b[0margs\u001b[0m\u001b[0;34m,\u001b[0m \u001b[0;34m**\u001b[0m\u001b[0mkwds\u001b[0m\u001b[0;34m)\u001b[0m\u001b[0;34m\u001b[0m\u001b[0;34m\u001b[0m\u001b[0m\n\u001b[0m\u001b[1;32m    829\u001b[0m       \u001b[0mcompiler\u001b[0m \u001b[0;34m=\u001b[0m \u001b[0;34m\"xla\"\u001b[0m \u001b[0;32mif\u001b[0m \u001b[0mself\u001b[0m\u001b[0;34m.\u001b[0m\u001b[0m_experimental_compile\u001b[0m \u001b[0;32melse\u001b[0m \u001b[0;34m\"nonXla\"\u001b[0m\u001b[0;34m\u001b[0m\u001b[0;34m\u001b[0m\u001b[0m\n\u001b[1;32m    830\u001b[0m       \u001b[0mnew_tracing_count\u001b[0m \u001b[0;34m=\u001b[0m \u001b[0mself\u001b[0m\u001b[0;34m.\u001b[0m\u001b[0mexperimental_get_tracing_count\u001b[0m\u001b[0;34m(\u001b[0m\u001b[0;34m)\u001b[0m\u001b[0;34m\u001b[0m\u001b[0;34m\u001b[0m\u001b[0m\n",
            "\u001b[0;32m/usr/local/lib/python3.7/dist-packages/tensorflow/python/eager/def_function.py\u001b[0m in \u001b[0;36m_call\u001b[0;34m(self, *args, **kwds)\u001b[0m\n\u001b[1;32m    869\u001b[0m       \u001b[0;31m# This is the first call of __call__, so we have to initialize.\u001b[0m\u001b[0;34m\u001b[0m\u001b[0;34m\u001b[0m\u001b[0;34m\u001b[0m\u001b[0m\n\u001b[1;32m    870\u001b[0m       \u001b[0minitializers\u001b[0m \u001b[0;34m=\u001b[0m \u001b[0;34m[\u001b[0m\u001b[0;34m]\u001b[0m\u001b[0;34m\u001b[0m\u001b[0;34m\u001b[0m\u001b[0m\n\u001b[0;32m--> 871\u001b[0;31m       \u001b[0mself\u001b[0m\u001b[0;34m.\u001b[0m\u001b[0m_initialize\u001b[0m\u001b[0;34m(\u001b[0m\u001b[0margs\u001b[0m\u001b[0;34m,\u001b[0m \u001b[0mkwds\u001b[0m\u001b[0;34m,\u001b[0m \u001b[0madd_initializers_to\u001b[0m\u001b[0;34m=\u001b[0m\u001b[0minitializers\u001b[0m\u001b[0;34m)\u001b[0m\u001b[0;34m\u001b[0m\u001b[0;34m\u001b[0m\u001b[0m\n\u001b[0m\u001b[1;32m    872\u001b[0m     \u001b[0;32mfinally\u001b[0m\u001b[0;34m:\u001b[0m\u001b[0;34m\u001b[0m\u001b[0;34m\u001b[0m\u001b[0m\n\u001b[1;32m    873\u001b[0m       \u001b[0;31m# At this point we know that the initialization is complete (or less\u001b[0m\u001b[0;34m\u001b[0m\u001b[0;34m\u001b[0m\u001b[0;34m\u001b[0m\u001b[0m\n",
            "\u001b[0;32m/usr/local/lib/python3.7/dist-packages/tensorflow/python/eager/def_function.py\u001b[0m in \u001b[0;36m_initialize\u001b[0;34m(self, args, kwds, add_initializers_to)\u001b[0m\n\u001b[1;32m    724\u001b[0m     self._concrete_stateful_fn = (\n\u001b[1;32m    725\u001b[0m         self._stateful_fn._get_concrete_function_internal_garbage_collected(  # pylint: disable=protected-access\n\u001b[0;32m--> 726\u001b[0;31m             *args, **kwds))\n\u001b[0m\u001b[1;32m    727\u001b[0m \u001b[0;34m\u001b[0m\u001b[0m\n\u001b[1;32m    728\u001b[0m     \u001b[0;32mdef\u001b[0m \u001b[0minvalid_creator_scope\u001b[0m\u001b[0;34m(\u001b[0m\u001b[0;34m*\u001b[0m\u001b[0munused_args\u001b[0m\u001b[0;34m,\u001b[0m \u001b[0;34m**\u001b[0m\u001b[0munused_kwds\u001b[0m\u001b[0;34m)\u001b[0m\u001b[0;34m:\u001b[0m\u001b[0;34m\u001b[0m\u001b[0;34m\u001b[0m\u001b[0m\n",
            "\u001b[0;32m/usr/local/lib/python3.7/dist-packages/tensorflow/python/eager/function.py\u001b[0m in \u001b[0;36m_get_concrete_function_internal_garbage_collected\u001b[0;34m(self, *args, **kwargs)\u001b[0m\n\u001b[1;32m   2967\u001b[0m       \u001b[0margs\u001b[0m\u001b[0;34m,\u001b[0m \u001b[0mkwargs\u001b[0m \u001b[0;34m=\u001b[0m \u001b[0;32mNone\u001b[0m\u001b[0;34m,\u001b[0m \u001b[0;32mNone\u001b[0m\u001b[0;34m\u001b[0m\u001b[0;34m\u001b[0m\u001b[0m\n\u001b[1;32m   2968\u001b[0m     \u001b[0;32mwith\u001b[0m \u001b[0mself\u001b[0m\u001b[0;34m.\u001b[0m\u001b[0m_lock\u001b[0m\u001b[0;34m:\u001b[0m\u001b[0;34m\u001b[0m\u001b[0;34m\u001b[0m\u001b[0m\n\u001b[0;32m-> 2969\u001b[0;31m       \u001b[0mgraph_function\u001b[0m\u001b[0;34m,\u001b[0m \u001b[0m_\u001b[0m \u001b[0;34m=\u001b[0m \u001b[0mself\u001b[0m\u001b[0;34m.\u001b[0m\u001b[0m_maybe_define_function\u001b[0m\u001b[0;34m(\u001b[0m\u001b[0margs\u001b[0m\u001b[0;34m,\u001b[0m \u001b[0mkwargs\u001b[0m\u001b[0;34m)\u001b[0m\u001b[0;34m\u001b[0m\u001b[0;34m\u001b[0m\u001b[0m\n\u001b[0m\u001b[1;32m   2970\u001b[0m     \u001b[0;32mreturn\u001b[0m \u001b[0mgraph_function\u001b[0m\u001b[0;34m\u001b[0m\u001b[0;34m\u001b[0m\u001b[0m\n\u001b[1;32m   2971\u001b[0m \u001b[0;34m\u001b[0m\u001b[0m\n",
            "\u001b[0;32m/usr/local/lib/python3.7/dist-packages/tensorflow/python/eager/function.py\u001b[0m in \u001b[0;36m_maybe_define_function\u001b[0;34m(self, args, kwargs)\u001b[0m\n\u001b[1;32m   3359\u001b[0m \u001b[0;34m\u001b[0m\u001b[0m\n\u001b[1;32m   3360\u001b[0m           \u001b[0mself\u001b[0m\u001b[0;34m.\u001b[0m\u001b[0m_function_cache\u001b[0m\u001b[0;34m.\u001b[0m\u001b[0mmissed\u001b[0m\u001b[0;34m.\u001b[0m\u001b[0madd\u001b[0m\u001b[0;34m(\u001b[0m\u001b[0mcall_context_key\u001b[0m\u001b[0;34m)\u001b[0m\u001b[0;34m\u001b[0m\u001b[0;34m\u001b[0m\u001b[0m\n\u001b[0;32m-> 3361\u001b[0;31m           \u001b[0mgraph_function\u001b[0m \u001b[0;34m=\u001b[0m \u001b[0mself\u001b[0m\u001b[0;34m.\u001b[0m\u001b[0m_create_graph_function\u001b[0m\u001b[0;34m(\u001b[0m\u001b[0margs\u001b[0m\u001b[0;34m,\u001b[0m \u001b[0mkwargs\u001b[0m\u001b[0;34m)\u001b[0m\u001b[0;34m\u001b[0m\u001b[0;34m\u001b[0m\u001b[0m\n\u001b[0m\u001b[1;32m   3362\u001b[0m           \u001b[0mself\u001b[0m\u001b[0;34m.\u001b[0m\u001b[0m_function_cache\u001b[0m\u001b[0;34m.\u001b[0m\u001b[0mprimary\u001b[0m\u001b[0;34m[\u001b[0m\u001b[0mcache_key\u001b[0m\u001b[0;34m]\u001b[0m \u001b[0;34m=\u001b[0m \u001b[0mgraph_function\u001b[0m\u001b[0;34m\u001b[0m\u001b[0;34m\u001b[0m\u001b[0m\n\u001b[1;32m   3363\u001b[0m \u001b[0;34m\u001b[0m\u001b[0m\n",
            "\u001b[0;32m/usr/local/lib/python3.7/dist-packages/tensorflow/python/eager/function.py\u001b[0m in \u001b[0;36m_create_graph_function\u001b[0;34m(self, args, kwargs, override_flat_arg_shapes)\u001b[0m\n\u001b[1;32m   3204\u001b[0m             \u001b[0marg_names\u001b[0m\u001b[0;34m=\u001b[0m\u001b[0marg_names\u001b[0m\u001b[0;34m,\u001b[0m\u001b[0;34m\u001b[0m\u001b[0;34m\u001b[0m\u001b[0m\n\u001b[1;32m   3205\u001b[0m             \u001b[0moverride_flat_arg_shapes\u001b[0m\u001b[0;34m=\u001b[0m\u001b[0moverride_flat_arg_shapes\u001b[0m\u001b[0;34m,\u001b[0m\u001b[0;34m\u001b[0m\u001b[0;34m\u001b[0m\u001b[0m\n\u001b[0;32m-> 3206\u001b[0;31m             capture_by_value=self._capture_by_value),\n\u001b[0m\u001b[1;32m   3207\u001b[0m         \u001b[0mself\u001b[0m\u001b[0;34m.\u001b[0m\u001b[0m_function_attributes\u001b[0m\u001b[0;34m,\u001b[0m\u001b[0;34m\u001b[0m\u001b[0;34m\u001b[0m\u001b[0m\n\u001b[1;32m   3208\u001b[0m         \u001b[0mfunction_spec\u001b[0m\u001b[0;34m=\u001b[0m\u001b[0mself\u001b[0m\u001b[0;34m.\u001b[0m\u001b[0mfunction_spec\u001b[0m\u001b[0;34m,\u001b[0m\u001b[0;34m\u001b[0m\u001b[0;34m\u001b[0m\u001b[0m\n",
            "\u001b[0;32m/usr/local/lib/python3.7/dist-packages/tensorflow/python/framework/func_graph.py\u001b[0m in \u001b[0;36mfunc_graph_from_py_func\u001b[0;34m(name, python_func, args, kwargs, signature, func_graph, autograph, autograph_options, add_control_dependencies, arg_names, op_return_value, collections, capture_by_value, override_flat_arg_shapes)\u001b[0m\n\u001b[1;32m    988\u001b[0m         \u001b[0m_\u001b[0m\u001b[0;34m,\u001b[0m \u001b[0moriginal_func\u001b[0m \u001b[0;34m=\u001b[0m \u001b[0mtf_decorator\u001b[0m\u001b[0;34m.\u001b[0m\u001b[0munwrap\u001b[0m\u001b[0;34m(\u001b[0m\u001b[0mpython_func\u001b[0m\u001b[0;34m)\u001b[0m\u001b[0;34m\u001b[0m\u001b[0;34m\u001b[0m\u001b[0m\n\u001b[1;32m    989\u001b[0m \u001b[0;34m\u001b[0m\u001b[0m\n\u001b[0;32m--> 990\u001b[0;31m       \u001b[0mfunc_outputs\u001b[0m \u001b[0;34m=\u001b[0m \u001b[0mpython_func\u001b[0m\u001b[0;34m(\u001b[0m\u001b[0;34m*\u001b[0m\u001b[0mfunc_args\u001b[0m\u001b[0;34m,\u001b[0m \u001b[0;34m**\u001b[0m\u001b[0mfunc_kwargs\u001b[0m\u001b[0;34m)\u001b[0m\u001b[0;34m\u001b[0m\u001b[0;34m\u001b[0m\u001b[0m\n\u001b[0m\u001b[1;32m    991\u001b[0m \u001b[0;34m\u001b[0m\u001b[0m\n\u001b[1;32m    992\u001b[0m       \u001b[0;31m# invariant: `func_outputs` contains only Tensors, CompositeTensors,\u001b[0m\u001b[0;34m\u001b[0m\u001b[0;34m\u001b[0m\u001b[0;34m\u001b[0m\u001b[0m\n",
            "\u001b[0;32m/usr/local/lib/python3.7/dist-packages/tensorflow/python/eager/def_function.py\u001b[0m in \u001b[0;36mwrapped_fn\u001b[0;34m(*args, **kwds)\u001b[0m\n\u001b[1;32m    632\u001b[0m             \u001b[0mxla_context\u001b[0m\u001b[0;34m.\u001b[0m\u001b[0mExit\u001b[0m\u001b[0;34m(\u001b[0m\u001b[0;34m)\u001b[0m\u001b[0;34m\u001b[0m\u001b[0;34m\u001b[0m\u001b[0m\n\u001b[1;32m    633\u001b[0m         \u001b[0;32melse\u001b[0m\u001b[0;34m:\u001b[0m\u001b[0;34m\u001b[0m\u001b[0;34m\u001b[0m\u001b[0m\n\u001b[0;32m--> 634\u001b[0;31m           \u001b[0mout\u001b[0m \u001b[0;34m=\u001b[0m \u001b[0mweak_wrapped_fn\u001b[0m\u001b[0;34m(\u001b[0m\u001b[0;34m)\u001b[0m\u001b[0;34m.\u001b[0m\u001b[0m__wrapped__\u001b[0m\u001b[0;34m(\u001b[0m\u001b[0;34m*\u001b[0m\u001b[0margs\u001b[0m\u001b[0;34m,\u001b[0m \u001b[0;34m**\u001b[0m\u001b[0mkwds\u001b[0m\u001b[0;34m)\u001b[0m\u001b[0;34m\u001b[0m\u001b[0;34m\u001b[0m\u001b[0m\n\u001b[0m\u001b[1;32m    635\u001b[0m         \u001b[0;32mreturn\u001b[0m \u001b[0mout\u001b[0m\u001b[0;34m\u001b[0m\u001b[0;34m\u001b[0m\u001b[0m\n\u001b[1;32m    636\u001b[0m \u001b[0;34m\u001b[0m\u001b[0m\n",
            "\u001b[0;32m/usr/local/lib/python3.7/dist-packages/tensorflow/python/framework/func_graph.py\u001b[0m in \u001b[0;36mwrapper\u001b[0;34m(*args, **kwargs)\u001b[0m\n\u001b[1;32m    975\u001b[0m           \u001b[0;32mexcept\u001b[0m \u001b[0mException\u001b[0m \u001b[0;32mas\u001b[0m \u001b[0me\u001b[0m\u001b[0;34m:\u001b[0m  \u001b[0;31m# pylint:disable=broad-except\u001b[0m\u001b[0;34m\u001b[0m\u001b[0;34m\u001b[0m\u001b[0m\n\u001b[1;32m    976\u001b[0m             \u001b[0;32mif\u001b[0m \u001b[0mhasattr\u001b[0m\u001b[0;34m(\u001b[0m\u001b[0me\u001b[0m\u001b[0;34m,\u001b[0m \u001b[0;34m\"ag_error_metadata\"\u001b[0m\u001b[0;34m)\u001b[0m\u001b[0;34m:\u001b[0m\u001b[0;34m\u001b[0m\u001b[0;34m\u001b[0m\u001b[0m\n\u001b[0;32m--> 977\u001b[0;31m               \u001b[0;32mraise\u001b[0m \u001b[0me\u001b[0m\u001b[0;34m.\u001b[0m\u001b[0mag_error_metadata\u001b[0m\u001b[0;34m.\u001b[0m\u001b[0mto_exception\u001b[0m\u001b[0;34m(\u001b[0m\u001b[0me\u001b[0m\u001b[0;34m)\u001b[0m\u001b[0;34m\u001b[0m\u001b[0;34m\u001b[0m\u001b[0m\n\u001b[0m\u001b[1;32m    978\u001b[0m             \u001b[0;32melse\u001b[0m\u001b[0;34m:\u001b[0m\u001b[0;34m\u001b[0m\u001b[0;34m\u001b[0m\u001b[0m\n\u001b[1;32m    979\u001b[0m               \u001b[0;32mraise\u001b[0m\u001b[0;34m\u001b[0m\u001b[0;34m\u001b[0m\u001b[0m\n",
            "\u001b[0;31mValueError\u001b[0m: in user code:\n\n    /usr/local/lib/python3.7/dist-packages/tensorflow/python/keras/engine/training.py:805 train_function  *\n        return step_function(self, iterator)\n    /usr/local/lib/python3.7/dist-packages/tensorflow/python/keras/engine/training.py:795 step_function  **\n        outputs = model.distribute_strategy.run(run_step, args=(data,))\n    /usr/local/lib/python3.7/dist-packages/tensorflow/python/distribute/distribute_lib.py:1259 run\n        return self._extended.call_for_each_replica(fn, args=args, kwargs=kwargs)\n    /usr/local/lib/python3.7/dist-packages/tensorflow/python/distribute/distribute_lib.py:2730 call_for_each_replica\n        return self._call_for_each_replica(fn, args, kwargs)\n    /usr/local/lib/python3.7/dist-packages/tensorflow/python/distribute/distribute_lib.py:3417 _call_for_each_replica\n        return fn(*args, **kwargs)\n    /usr/local/lib/python3.7/dist-packages/tensorflow/python/keras/engine/training.py:788 run_step  **\n        outputs = model.train_step(data)\n    /usr/local/lib/python3.7/dist-packages/tensorflow/python/keras/engine/training.py:754 train_step\n        y_pred = self(x, training=True)\n    /usr/local/lib/python3.7/dist-packages/tensorflow/python/keras/engine/base_layer.py:1012 __call__\n        outputs = call_fn(inputs, *args, **kwargs)\n    /usr/local/lib/python3.7/dist-packages/tensorflow/python/keras/engine/functional.py:425 call\n        inputs, training=training, mask=mask)\n    /usr/local/lib/python3.7/dist-packages/tensorflow/python/keras/engine/functional.py:560 _run_internal_graph\n        outputs = node.layer(*args, **kwargs)\n    /usr/local/lib/python3.7/dist-packages/tensorflow/python/keras/engine/base_layer.py:998 __call__\n        input_spec.assert_input_compatibility(self.input_spec, inputs, self.name)\n    /usr/local/lib/python3.7/dist-packages/tensorflow/python/keras/engine/input_spec.py:239 assert_input_compatibility\n        str(tuple(shape)))\n\n    ValueError: Input 0 of layer block1_conv1 is incompatible with the layer: : expected min_ndim=4, found ndim=2. Full shape received: (None, 1)\n"
          ]
        }
      ]
    },
    {
      "cell_type": "markdown",
      "metadata": {
        "id": "p_bcu4O4DOsH"
      },
      "source": [
        "# MInchev stex kanes"
      ]
    },
    {
      "cell_type": "markdown",
      "metadata": {
        "id": "uBthMlTSV8kn"
      },
      "source": [
        "### Evaluate the model\n",
        "\n",
        "Let's see how the model performs. Two values will be returned. Loss (a number which represents the error, lower values are better), and accuracy."
      ]
    },
    {
      "cell_type": "code",
      "metadata": {
        "colab": {
          "base_uri": "https://localhost:8080/"
        },
        "id": "JXuzY8Ll7v5Q",
        "outputId": "6bcdc295-a29c-4935-d813-92f38fed8ca5"
      },
      "source": [
        "classifier_model.metrics_names"
      ],
      "execution_count": null,
      "outputs": [
        {
          "output_type": "execute_result",
          "data": {
            "text/plain": [
              "['loss', 'auc']"
            ]
          },
          "metadata": {
            "tags": []
          },
          "execution_count": 53
        }
      ]
    },
    {
      "cell_type": "code",
      "metadata": {
        "colab": {
          "base_uri": "https://localhost:8080/",
          "height": 257
        },
        "id": "slqB-urBV9sP",
        "outputId": "e4df959d-1aed-4c99-8535-fbfda1699b44"
      },
      "source": [
        "loss, accuracy = classifier_model.evaluate(val_ds)\n",
        "\n",
        "print(f'Loss: {loss}')\n",
        "print(f'Accuracy: {accuracy}')"
      ],
      "execution_count": 89,
      "outputs": [
        {
          "output_type": "stream",
          "text": [
            "54/54 [==============================] - 7s 134ms/step - loss: 0.8085 - accuracy: 0.0000e+00 - auc_2: 0.5930\n"
          ],
          "name": "stdout"
        },
        {
          "output_type": "error",
          "ename": "ValueError",
          "evalue": "ignored",
          "traceback": [
            "\u001b[0;31m---------------------------------------------------------------------------\u001b[0m",
            "\u001b[0;31mValueError\u001b[0m                                Traceback (most recent call last)",
            "\u001b[0;32m<ipython-input-89-52174028ffac>\u001b[0m in \u001b[0;36m<module>\u001b[0;34m()\u001b[0m\n\u001b[0;32m----> 1\u001b[0;31m \u001b[0mloss\u001b[0m\u001b[0;34m,\u001b[0m \u001b[0maccuracy\u001b[0m \u001b[0;34m=\u001b[0m \u001b[0mclassifier_model\u001b[0m\u001b[0;34m.\u001b[0m\u001b[0mevaluate\u001b[0m\u001b[0;34m(\u001b[0m\u001b[0mval_ds\u001b[0m\u001b[0;34m)\u001b[0m\u001b[0;34m\u001b[0m\u001b[0;34m\u001b[0m\u001b[0m\n\u001b[0m\u001b[1;32m      2\u001b[0m \u001b[0;34m\u001b[0m\u001b[0m\n\u001b[1;32m      3\u001b[0m \u001b[0mprint\u001b[0m\u001b[0;34m(\u001b[0m\u001b[0;34mf'Loss: {loss}'\u001b[0m\u001b[0;34m)\u001b[0m\u001b[0;34m\u001b[0m\u001b[0;34m\u001b[0m\u001b[0m\n\u001b[1;32m      4\u001b[0m \u001b[0mprint\u001b[0m\u001b[0;34m(\u001b[0m\u001b[0;34mf'Accuracy: {accuracy}'\u001b[0m\u001b[0;34m)\u001b[0m\u001b[0;34m\u001b[0m\u001b[0;34m\u001b[0m\u001b[0m\n",
            "\u001b[0;31mValueError\u001b[0m: too many values to unpack (expected 2)"
          ]
        }
      ]
    },
    {
      "cell_type": "code",
      "metadata": {
        "colab": {
          "base_uri": "https://localhost:8080/",
          "height": 178
        },
        "id": "pXVcBXL20bAw",
        "outputId": "ee11e5b9-300c-4e54-b829-4450d4f3e8e4"
      },
      "source": [
        "pred = tf.sigmoid(classifier_model.predict({\"img_input\":tf.convert_to_tensor(np.array(test_data.img_data.to_list()).reshape(len(test_data), 25088)),\n",
        "                              \"txt_input\":tf.convert_to_tensor(test_data.text.to_list())}))"
      ],
      "execution_count": null,
      "outputs": [
        {
          "output_type": "error",
          "ename": "NameError",
          "evalue": "ignored",
          "traceback": [
            "\u001b[0;31m---------------------------------------------------------------------------\u001b[0m",
            "\u001b[0;31mNameError\u001b[0m                                 Traceback (most recent call last)",
            "\u001b[0;32m<ipython-input-63-dd7a0c921479>\u001b[0m in \u001b[0;36m<module>\u001b[0;34m()\u001b[0m\n\u001b[0;32m----> 1\u001b[0;31m pred = tf.sigmoid(classifier_model.predict({\"img_input\":tf.convert_to_tensor(np.array(test_data.img_data.to_list()).reshape(len(test_data), 25088)),\n\u001b[0m\u001b[1;32m      2\u001b[0m                               \"txt_input\":tf.convert_to_tensor(test_data.text.to_list())}))\n",
            "\u001b[0;31mNameError\u001b[0m: name 'test_data' is not defined"
          ]
        }
      ]
    },
    {
      "cell_type": "code",
      "metadata": {
        "id": "34TZd57X4YR3"
      },
      "source": [
        "import numpy as np"
      ],
      "execution_count": null,
      "outputs": []
    },
    {
      "cell_type": "code",
      "metadata": {
        "colab": {
          "base_uri": "https://localhost:8080/",
          "height": 574
        },
        "id": "SENSXQk9JN05",
        "outputId": "37947208-bec1-45d5-c46a-eb4429678021"
      },
      "source": [
        "classifier_model.predict(test_dataset)"
      ],
      "execution_count": 94,
      "outputs": [
        {
          "output_type": "error",
          "ename": "InvalidArgumentError",
          "evalue": "ignored",
          "traceback": [
            "\u001b[0;31m---------------------------------------------------------------------------\u001b[0m",
            "\u001b[0;31mInvalidArgumentError\u001b[0m                      Traceback (most recent call last)",
            "\u001b[0;32m<ipython-input-94-94b104f42342>\u001b[0m in \u001b[0;36m<module>\u001b[0;34m()\u001b[0m\n\u001b[0;32m----> 1\u001b[0;31m \u001b[0mclassifier_model\u001b[0m\u001b[0;34m.\u001b[0m\u001b[0mpredict\u001b[0m\u001b[0;34m(\u001b[0m\u001b[0mtest_dataset\u001b[0m\u001b[0;34m)\u001b[0m\u001b[0;34m\u001b[0m\u001b[0;34m\u001b[0m\u001b[0m\n\u001b[0m",
            "\u001b[0;32m/usr/local/lib/python3.7/dist-packages/tensorflow/python/keras/engine/training.py\u001b[0m in \u001b[0;36mpredict\u001b[0;34m(self, x, batch_size, verbose, steps, callbacks, max_queue_size, workers, use_multiprocessing)\u001b[0m\n\u001b[1;32m   1627\u001b[0m           \u001b[0;32mfor\u001b[0m \u001b[0mstep\u001b[0m \u001b[0;32min\u001b[0m \u001b[0mdata_handler\u001b[0m\u001b[0;34m.\u001b[0m\u001b[0msteps\u001b[0m\u001b[0;34m(\u001b[0m\u001b[0;34m)\u001b[0m\u001b[0;34m:\u001b[0m\u001b[0;34m\u001b[0m\u001b[0;34m\u001b[0m\u001b[0m\n\u001b[1;32m   1628\u001b[0m             \u001b[0mcallbacks\u001b[0m\u001b[0;34m.\u001b[0m\u001b[0mon_predict_batch_begin\u001b[0m\u001b[0;34m(\u001b[0m\u001b[0mstep\u001b[0m\u001b[0;34m)\u001b[0m\u001b[0;34m\u001b[0m\u001b[0;34m\u001b[0m\u001b[0m\n\u001b[0;32m-> 1629\u001b[0;31m             \u001b[0mtmp_batch_outputs\u001b[0m \u001b[0;34m=\u001b[0m \u001b[0mself\u001b[0m\u001b[0;34m.\u001b[0m\u001b[0mpredict_function\u001b[0m\u001b[0;34m(\u001b[0m\u001b[0miterator\u001b[0m\u001b[0;34m)\u001b[0m\u001b[0;34m\u001b[0m\u001b[0;34m\u001b[0m\u001b[0m\n\u001b[0m\u001b[1;32m   1630\u001b[0m             \u001b[0;32mif\u001b[0m \u001b[0mdata_handler\u001b[0m\u001b[0;34m.\u001b[0m\u001b[0mshould_sync\u001b[0m\u001b[0;34m:\u001b[0m\u001b[0;34m\u001b[0m\u001b[0;34m\u001b[0m\u001b[0m\n\u001b[1;32m   1631\u001b[0m               \u001b[0mcontext\u001b[0m\u001b[0;34m.\u001b[0m\u001b[0masync_wait\u001b[0m\u001b[0;34m(\u001b[0m\u001b[0;34m)\u001b[0m\u001b[0;34m\u001b[0m\u001b[0;34m\u001b[0m\u001b[0m\n",
            "\u001b[0;32m/usr/local/lib/python3.7/dist-packages/tensorflow/python/eager/def_function.py\u001b[0m in \u001b[0;36m__call__\u001b[0;34m(self, *args, **kwds)\u001b[0m\n\u001b[1;32m    826\u001b[0m     \u001b[0mtracing_count\u001b[0m \u001b[0;34m=\u001b[0m \u001b[0mself\u001b[0m\u001b[0;34m.\u001b[0m\u001b[0mexperimental_get_tracing_count\u001b[0m\u001b[0;34m(\u001b[0m\u001b[0;34m)\u001b[0m\u001b[0;34m\u001b[0m\u001b[0;34m\u001b[0m\u001b[0m\n\u001b[1;32m    827\u001b[0m     \u001b[0;32mwith\u001b[0m \u001b[0mtrace\u001b[0m\u001b[0;34m.\u001b[0m\u001b[0mTrace\u001b[0m\u001b[0;34m(\u001b[0m\u001b[0mself\u001b[0m\u001b[0;34m.\u001b[0m\u001b[0m_name\u001b[0m\u001b[0;34m)\u001b[0m \u001b[0;32mas\u001b[0m \u001b[0mtm\u001b[0m\u001b[0;34m:\u001b[0m\u001b[0;34m\u001b[0m\u001b[0;34m\u001b[0m\u001b[0m\n\u001b[0;32m--> 828\u001b[0;31m       \u001b[0mresult\u001b[0m \u001b[0;34m=\u001b[0m \u001b[0mself\u001b[0m\u001b[0;34m.\u001b[0m\u001b[0m_call\u001b[0m\u001b[0;34m(\u001b[0m\u001b[0;34m*\u001b[0m\u001b[0margs\u001b[0m\u001b[0;34m,\u001b[0m \u001b[0;34m**\u001b[0m\u001b[0mkwds\u001b[0m\u001b[0;34m)\u001b[0m\u001b[0;34m\u001b[0m\u001b[0;34m\u001b[0m\u001b[0m\n\u001b[0m\u001b[1;32m    829\u001b[0m       \u001b[0mcompiler\u001b[0m \u001b[0;34m=\u001b[0m \u001b[0;34m\"xla\"\u001b[0m \u001b[0;32mif\u001b[0m \u001b[0mself\u001b[0m\u001b[0;34m.\u001b[0m\u001b[0m_experimental_compile\u001b[0m \u001b[0;32melse\u001b[0m \u001b[0;34m\"nonXla\"\u001b[0m\u001b[0;34m\u001b[0m\u001b[0;34m\u001b[0m\u001b[0m\n\u001b[1;32m    830\u001b[0m       \u001b[0mnew_tracing_count\u001b[0m \u001b[0;34m=\u001b[0m \u001b[0mself\u001b[0m\u001b[0;34m.\u001b[0m\u001b[0mexperimental_get_tracing_count\u001b[0m\u001b[0;34m(\u001b[0m\u001b[0;34m)\u001b[0m\u001b[0;34m\u001b[0m\u001b[0;34m\u001b[0m\u001b[0m\n",
            "\u001b[0;32m/usr/local/lib/python3.7/dist-packages/tensorflow/python/eager/def_function.py\u001b[0m in \u001b[0;36m_call\u001b[0;34m(self, *args, **kwds)\u001b[0m\n\u001b[1;32m    860\u001b[0m       \u001b[0;31m# In this case we have not created variables on the first call. So we can\u001b[0m\u001b[0;34m\u001b[0m\u001b[0;34m\u001b[0m\u001b[0;34m\u001b[0m\u001b[0m\n\u001b[1;32m    861\u001b[0m       \u001b[0;31m# run the first trace but we should fail if variables are created.\u001b[0m\u001b[0;34m\u001b[0m\u001b[0;34m\u001b[0m\u001b[0;34m\u001b[0m\u001b[0m\n\u001b[0;32m--> 862\u001b[0;31m       \u001b[0mresults\u001b[0m \u001b[0;34m=\u001b[0m \u001b[0mself\u001b[0m\u001b[0;34m.\u001b[0m\u001b[0m_stateful_fn\u001b[0m\u001b[0;34m(\u001b[0m\u001b[0;34m*\u001b[0m\u001b[0margs\u001b[0m\u001b[0;34m,\u001b[0m \u001b[0;34m**\u001b[0m\u001b[0mkwds\u001b[0m\u001b[0;34m)\u001b[0m\u001b[0;34m\u001b[0m\u001b[0;34m\u001b[0m\u001b[0m\n\u001b[0m\u001b[1;32m    863\u001b[0m       \u001b[0;32mif\u001b[0m \u001b[0mself\u001b[0m\u001b[0;34m.\u001b[0m\u001b[0m_created_variables\u001b[0m\u001b[0;34m:\u001b[0m\u001b[0;34m\u001b[0m\u001b[0;34m\u001b[0m\u001b[0m\n\u001b[1;32m    864\u001b[0m         raise ValueError(\"Creating variables on a non-first call to a function\"\n",
            "\u001b[0;32m/usr/local/lib/python3.7/dist-packages/tensorflow/python/eager/function.py\u001b[0m in \u001b[0;36m__call__\u001b[0;34m(self, *args, **kwargs)\u001b[0m\n\u001b[1;32m   2941\u001b[0m        filtered_flat_args) = self._maybe_define_function(args, kwargs)\n\u001b[1;32m   2942\u001b[0m     return graph_function._call_flat(\n\u001b[0;32m-> 2943\u001b[0;31m         filtered_flat_args, captured_inputs=graph_function.captured_inputs)  # pylint: disable=protected-access\n\u001b[0m\u001b[1;32m   2944\u001b[0m \u001b[0;34m\u001b[0m\u001b[0m\n\u001b[1;32m   2945\u001b[0m   \u001b[0;34m@\u001b[0m\u001b[0mproperty\u001b[0m\u001b[0;34m\u001b[0m\u001b[0;34m\u001b[0m\u001b[0m\n",
            "\u001b[0;32m/usr/local/lib/python3.7/dist-packages/tensorflow/python/eager/function.py\u001b[0m in \u001b[0;36m_call_flat\u001b[0;34m(self, args, captured_inputs, cancellation_manager)\u001b[0m\n\u001b[1;32m   1917\u001b[0m       \u001b[0;31m# No tape is watching; skip to running the function.\u001b[0m\u001b[0;34m\u001b[0m\u001b[0;34m\u001b[0m\u001b[0;34m\u001b[0m\u001b[0m\n\u001b[1;32m   1918\u001b[0m       return self._build_call_outputs(self._inference_function.call(\n\u001b[0;32m-> 1919\u001b[0;31m           ctx, args, cancellation_manager=cancellation_manager))\n\u001b[0m\u001b[1;32m   1920\u001b[0m     forward_backward = self._select_forward_and_backward_functions(\n\u001b[1;32m   1921\u001b[0m         \u001b[0margs\u001b[0m\u001b[0;34m,\u001b[0m\u001b[0;34m\u001b[0m\u001b[0;34m\u001b[0m\u001b[0m\n",
            "\u001b[0;32m/usr/local/lib/python3.7/dist-packages/tensorflow/python/eager/function.py\u001b[0m in \u001b[0;36mcall\u001b[0;34m(self, ctx, args, cancellation_manager)\u001b[0m\n\u001b[1;32m    558\u001b[0m               \u001b[0minputs\u001b[0m\u001b[0;34m=\u001b[0m\u001b[0margs\u001b[0m\u001b[0;34m,\u001b[0m\u001b[0;34m\u001b[0m\u001b[0;34m\u001b[0m\u001b[0m\n\u001b[1;32m    559\u001b[0m               \u001b[0mattrs\u001b[0m\u001b[0;34m=\u001b[0m\u001b[0mattrs\u001b[0m\u001b[0;34m,\u001b[0m\u001b[0;34m\u001b[0m\u001b[0;34m\u001b[0m\u001b[0m\n\u001b[0;32m--> 560\u001b[0;31m               ctx=ctx)\n\u001b[0m\u001b[1;32m    561\u001b[0m         \u001b[0;32melse\u001b[0m\u001b[0;34m:\u001b[0m\u001b[0;34m\u001b[0m\u001b[0;34m\u001b[0m\u001b[0m\n\u001b[1;32m    562\u001b[0m           outputs = execute.execute_with_cancellation(\n",
            "\u001b[0;32m/usr/local/lib/python3.7/dist-packages/tensorflow/python/eager/execute.py\u001b[0m in \u001b[0;36mquick_execute\u001b[0;34m(op_name, num_outputs, inputs, attrs, ctx, name)\u001b[0m\n\u001b[1;32m     58\u001b[0m     \u001b[0mctx\u001b[0m\u001b[0;34m.\u001b[0m\u001b[0mensure_initialized\u001b[0m\u001b[0;34m(\u001b[0m\u001b[0;34m)\u001b[0m\u001b[0;34m\u001b[0m\u001b[0;34m\u001b[0m\u001b[0m\n\u001b[1;32m     59\u001b[0m     tensors = pywrap_tfe.TFE_Py_Execute(ctx._handle, device_name, op_name,\n\u001b[0;32m---> 60\u001b[0;31m                                         inputs, attrs, num_outputs)\n\u001b[0m\u001b[1;32m     61\u001b[0m   \u001b[0;32mexcept\u001b[0m \u001b[0mcore\u001b[0m\u001b[0;34m.\u001b[0m\u001b[0m_NotOkStatusException\u001b[0m \u001b[0;32mas\u001b[0m \u001b[0me\u001b[0m\u001b[0;34m:\u001b[0m\u001b[0;34m\u001b[0m\u001b[0;34m\u001b[0m\u001b[0m\n\u001b[1;32m     62\u001b[0m     \u001b[0;32mif\u001b[0m \u001b[0mname\u001b[0m \u001b[0;32mis\u001b[0m \u001b[0;32mnot\u001b[0m \u001b[0;32mNone\u001b[0m\u001b[0;34m:\u001b[0m\u001b[0;34m\u001b[0m\u001b[0;34m\u001b[0m\u001b[0m\n",
            "\u001b[0;31mInvalidArgumentError\u001b[0m: 2 root error(s) found.\n  (0) Invalid argument:  StringToNumberOp could not correctly convert string: white people is this a shooting range}\n\t [[{{node StringToNumber}}]]\n\t [[IteratorGetNext]]\n\t [[IteratorGetNext/_2]]\n  (1) Invalid argument:  StringToNumberOp could not correctly convert string: white people is this a shooting range}\n\t [[{{node StringToNumber}}]]\n\t [[IteratorGetNext]]\n0 successful operations.\n0 derived errors ignored. [Op:__inference_predict_function_311270]\n\nFunction call stack:\npredict_function -> predict_function\n"
          ]
        }
      ]
    },
    {
      "cell_type": "code",
      "metadata": {
        "colab": {
          "base_uri": "https://localhost:8080/"
        },
        "id": "r69C084CJZj2",
        "outputId": "582f2a5b-bd80-4774-eff7-fb98f64d6090"
      },
      "source": [
        ""
      ],
      "execution_count": 84,
      "outputs": [
        {
          "output_type": "execute_result",
          "data": {
            "text/plain": [
              "<PrefetchDataset shapes: ((None, 224, 224, 3), (None,)), types: (tf.float32, tf.int32)>"
            ]
          },
          "metadata": {
            "tags": []
          },
          "execution_count": 84
        }
      ]
    },
    {
      "cell_type": "code",
      "metadata": {
        "id": "gXmhfTsW215V"
      },
      "source": [
        "predictions = {}\n",
        "pred_np = np.array(pred)\n",
        "for i, id in enumerate(test_data.id):\n",
        "    # predictions[id] = 1 if pred_np[i][0] > 0.5 else 0\n",
        "    predictions[id] = pred_np[i][0]"
      ],
      "execution_count": null,
      "outputs": []
    },
    {
      "cell_type": "code",
      "metadata": {
        "id": "EHVTqf1z4Lfl"
      },
      "source": [
        "pd.DataFrame(predictions.items(), columns=['id', \"label\"]).to_csv(\"predictions.csv\")"
      ],
      "execution_count": null,
      "outputs": []
    },
    {
      "cell_type": "code",
      "metadata": {
        "colab": {
          "base_uri": "https://localhost:8080/"
        },
        "id": "7ZQjd0CY6ZDY",
        "outputId": "bd8ecb4a-f52d-4722-e20a-ebc58e74e619"
      },
      "source": [
        "predictions"
      ],
      "execution_count": null,
      "outputs": [
        {
          "output_type": "execute_result",
          "data": {
            "text/plain": [
              "{1268: 1.0,\n",
              " 1456: 0.99856526,\n",
              " 1726: 0.99887186,\n",
              " 1742: 0.9999999,\n",
              " 1765: 1.0,\n",
              " 1768: 0.9999968,\n",
              " 1796: 0.11837333,\n",
              " 1925: 0.999974,\n",
              " 1967: 0.99998474,\n",
              " 2143: 1.0,\n",
              " 2145: 1.0,\n",
              " 2157: 1.0,\n",
              " 2364: 0.99999714,\n",
              " 2478: 0.9999987,\n",
              " 2518: 0.9999058,\n",
              " 2568: 0.999405,\n",
              " 2593: 0.9998301,\n",
              " 2634: 0.9999981,\n",
              " 2783: 0.9952651,\n",
              " 3197: 0.9998964,\n",
              " 3214: 0.9999999,\n",
              " 3217: 0.99827135,\n",
              " 3519: 0.93836755,\n",
              " 3524: 0.9265623,\n",
              " 3567: 0.9862757,\n",
              " 3568: 0.99998224,\n",
              " 3594: 0.99999976,\n",
              " 3745: 0.9999999,\n",
              " 3798: 1.0,\n",
              " 3928: 0.99999654,\n",
              " 4538: 1.0,\n",
              " 4569: 0.9963767,\n",
              " 4621: 0.9999982,\n",
              " 4769: 0.9623619,\n",
              " 4857: 0.9999652,\n",
              " 5126: 1.0,\n",
              " 5213: 0.99933165,\n",
              " 5279: 0.9999918,\n",
              " 5316: 0.999969,\n",
              " 5349: 0.9999932,\n",
              " 5439: 1.0,\n",
              " 5618: 0.99999917,\n",
              " 5938: 0.9996113,\n",
              " 6123: 0.085342936,\n",
              " 6273: 1.0,\n",
              " 6352: 0.99999964,\n",
              " 6491: 0.9999976,\n",
              " 6582: 0.9999999,\n",
              " 6723: 1.0,\n",
              " 7135: 0.99276155,\n",
              " 7198: 0.99999964,\n",
              " 7351: 0.99999964,\n",
              " 7382: 0.97491324,\n",
              " 7429: 0.99999976,\n",
              " 7528: 0.99996877,\n",
              " 7653: 0.99985623,\n",
              " 8291: 0.9587201,\n",
              " 8319: 0.99999774,\n",
              " 8416: 0.99999785,\n",
              " 8451: 0.9999999,\n",
              " 8459: 0.9999933,\n",
              " 8643: 0.9999999,\n",
              " 8765: 0.99972874,\n",
              " 8795: 0.6050601,\n",
              " 8912: 0.056837466,\n",
              " 9152: 0.9999838,\n",
              " 9386: 0.98841465,\n",
              " 9467: 1.0,\n",
              " 9563: 1.0,\n",
              " 9715: 0.9995493,\n",
              " 9863: 0.9999591,\n",
              " 10285: 0.9638675,\n",
              " 10362: 0.99999046,\n",
              " 10386: 0.93814886,\n",
              " 10425: 0.9999778,\n",
              " 10438: 0.9999968,\n",
              " 10749: 0.9604982,\n",
              " 10785: 0.99999225,\n",
              " 10832: 0.9999999,\n",
              " 10896: 1.0,\n",
              " 12045: 0.999446,\n",
              " 12067: 0.99870324,\n",
              " 12468: 0.99656653,\n",
              " 12650: 0.99996495,\n",
              " 12684: 0.99999964,\n",
              " 12834: 0.9998504,\n",
              " 12973: 0.9997205,\n",
              " 13026: 0.99999774,\n",
              " 13207: 0.9999999,\n",
              " 13280: 0.9996816,\n",
              " 13647: 0.9993561,\n",
              " 13749: 0.99999523,\n",
              " 13750: 0.99999976,\n",
              " 13809: 0.9998964,\n",
              " 14026: 1.0,\n",
              " 14235: 0.9998807,\n",
              " 14270: 0.9987198,\n",
              " 14389: 0.9939148,\n",
              " 14672: 0.9999993,\n",
              " 14865: 0.99869895,\n",
              " 14873: 0.97998446,\n",
              " 14975: 0.9997633,\n",
              " 14986: 0.9998907,\n",
              " 15243: 0.9999888,\n",
              " 16354: 1.0,\n",
              " 16405: 0.99716777,\n",
              " 16420: 0.9975204,\n",
              " 16704: 0.9999862,\n",
              " 16749: 0.9999641,\n",
              " 16809: 0.9999933,\n",
              " 16842: 1.0,\n",
              " 16843: 0.99842095,\n",
              " 16850: 0.9952916,\n",
              " 16923: 0.9978114,\n",
              " 17028: 0.9999244,\n",
              " 17045: 0.9709708,\n",
              " 17246: 0.9995437,\n",
              " 17265: 0.9999839,\n",
              " 17320: 1.0,\n",
              " 17350: 1.0,\n",
              " 17682: 0.9990005,\n",
              " 17908: 0.99999976,\n",
              " 17950: 0.92089295,\n",
              " 17963: 0.99703836,\n",
              " 18059: 1.0,\n",
              " 18306: 0.99998,\n",
              " 18356: 0.9999846,\n",
              " 18367: 1.0,\n",
              " 18452: 0.99955755,\n",
              " 18547: 0.99960345,\n",
              " 18564: 0.96241707,\n",
              " 18726: 0.99967194,\n",
              " 18742: 0.9999212,\n",
              " 18945: 0.99999976,\n",
              " 19075: 0.9653329,\n",
              " 19243: 1.0,\n",
              " 19385: 0.9999521,\n",
              " 19508: 0.97023755,\n",
              " 19523: 0.9999999,\n",
              " 19530: 1.0,\n",
              " 19536: 0.94560623,\n",
              " 19607: 0.9999969,\n",
              " 19730: 1.0,\n",
              " 20437: 0.5489546,\n",
              " 20541: 0.99234265,\n",
              " 20653: 1.0,\n",
              " 20861: 1.0,\n",
              " 20984: 0.94388306,\n",
              " 21075: 0.99857974,\n",
              " 21567: 0.92697996,\n",
              " 21643: 0.9996706,\n",
              " 21763: 0.9999963,\n",
              " 23015: 0.99999905,\n",
              " 23470: 0.89727867,\n",
              " 23541: 1.0,\n",
              " 23645: 0.99991465,\n",
              " 23785: 0.96929604,\n",
              " 23810: 0.999998,\n",
              " 24098: 0.9999999,\n",
              " 24135: 0.99993837,\n",
              " 24316: 0.99997354,\n",
              " 24396: 0.99950445,\n",
              " 25061: 0.99999833,\n",
              " 25149: 0.9999294,\n",
              " 26187: 0.9997011,\n",
              " 26397: 0.9990834,\n",
              " 26439: 0.9799606,\n",
              " 26453: 0.99955374,\n",
              " 26530: 0.9999312,\n",
              " 26547: 1.0,\n",
              " 26843: 0.9998171,\n",
              " 26943: 0.9992693,\n",
              " 26985: 0.9999778,\n",
              " 27054: 0.99847,\n",
              " 27195: 0.9999906,\n",
              " 27384: 0.9999515,\n",
              " 27485: 0.99849594,\n",
              " 27498: 0.99877113,\n",
              " 27543: 0.9999622,\n",
              " 27614: 0.9976749,\n",
              " 27635: 0.9999527,\n",
              " 27849: 1.0,\n",
              " 28017: 1.0,\n",
              " 28190: 0.99998176,\n",
              " 28406: 0.8547356,\n",
              " 28690: 0.9978052,\n",
              " 28905: 0.9771542,\n",
              " 28951: 0.9999975,\n",
              " 29054: 0.99952984,\n",
              " 29067: 0.99999726,\n",
              " 29174: 0.99999714,\n",
              " 29437: 1.0,\n",
              " 29548: 0.99967015,\n",
              " 29750: 0.62998456,\n",
              " 29843: 0.9999999,\n",
              " 29873: 0.99998116,\n",
              " 30145: 0.9999796,\n",
              " 30148: 0.99999046,\n",
              " 30186: 0.9998796,\n",
              " 30417: 1.0,\n",
              " 30478: 0.0067225876,\n",
              " 30579: 0.9999976,\n",
              " 30586: 1.0,\n",
              " 30642: 0.99999976,\n",
              " 30927: 0.9999993,\n",
              " 31072: 0.9999958,\n",
              " 31208: 0.9927423,\n",
              " 31570: 0.9982333,\n",
              " 31602: 0.99984705,\n",
              " 31702: 0.9979482,\n",
              " 31752: 0.9997204,\n",
              " 31792: 1.0,\n",
              " 32049: 0.95722926,\n",
              " 32415: 0.98905945,\n",
              " 32568: 0.9166133,\n",
              " 32579: 0.99995625,\n",
              " 32691: 1.0,\n",
              " 32875: 0.9884968,\n",
              " 32981: 0.99999845,\n",
              " 34018: 0.99994063,\n",
              " 34189: 0.9999999,\n",
              " 34209: 0.9996704,\n",
              " 34528: 0.82983863,\n",
              " 34687: 0.9996817,\n",
              " 34975: 0.9999994,\n",
              " 35174: 0.96728253,\n",
              " 35470: 0.9963977,\n",
              " 35487: 0.9989936,\n",
              " 35490: 0.99979085,\n",
              " 35497: 0.9939114,\n",
              " 35719: 0.999848,\n",
              " 35840: 1.0,\n",
              " 36058: 0.9974534,\n",
              " 36201: 0.9999578,\n",
              " 37160: 0.9936062,\n",
              " 37198: 1.0,\n",
              " 37420: 0.99999833,\n",
              " 37658: 0.99995375,\n",
              " 37692: 1.0,\n",
              " 37814: 0.99999416,\n",
              " 37912: 0.99956864,\n",
              " 38047: 1.0,\n",
              " 38076: 1.0,\n",
              " 38095: 0.99663204,\n",
              " 38165: 0.9973786,\n",
              " 38195: 0.9999933,\n",
              " 38910: 1.0,\n",
              " 38914: 0.9999999,\n",
              " 39018: 1.0,\n",
              " 39076: 0.9997727,\n",
              " 39261: 0.7905816,\n",
              " 39264: 0.9971726,\n",
              " 39456: 1.0,\n",
              " 39578: 0.9999529,\n",
              " 39607: 0.99998593,\n",
              " 39827: 0.99988747,\n",
              " 40395: 0.9106486,\n",
              " 40618: 0.3990495,\n",
              " 40675: 0.9973164,\n",
              " 40982: 0.9935772,\n",
              " 41035: 0.9977335,\n",
              " 41058: 0.9999087,\n",
              " 41276: 0.74316746,\n",
              " 41296: 0.97312254,\n",
              " 41328: 0.99999166,\n",
              " 41382: 1.0,\n",
              " 41728: 0.9999956,\n",
              " 41796: 0.99982893,\n",
              " 41890: 0.9999889,\n",
              " 42058: 1.0,\n",
              " 42361: 0.9919476,\n",
              " 42501: 0.9986994,\n",
              " 42538: 0.9999075,\n",
              " 42580: 0.9999076,\n",
              " 42631: 0.9999492,\n",
              " 42903: 0.9999999,\n",
              " 43092: 0.9999409,\n",
              " 43175: 0.99999595,\n",
              " 43275: 1.0,\n",
              " 43698: 0.99999976,\n",
              " 43805: 0.9993191,\n",
              " 43810: 1.0,\n",
              " 43910: 0.99997926,\n",
              " 45062: 0.9999325,\n",
              " 45368: 0.99999523,\n",
              " 45702: 0.99924576,\n",
              " 45862: 0.999458,\n",
              " 45968: 0.99999857,\n",
              " 46082: 1.0,\n",
              " 46085: 0.9950655,\n",
              " 46087: 0.9999455,\n",
              " 46109: 0.9999999,\n",
              " 46291: 0.99999166,\n",
              " 46518: 0.99977106,\n",
              " 46812: 1.0,\n",
              " 46920: 1.0,\n",
              " 46971: 0.99999654,\n",
              " 47016: 0.9982691,\n",
              " 47056: 0.9999999,\n",
              " 47103: 0.9999925,\n",
              " 47162: 0.3875279,\n",
              " 47183: 0.90676147,\n",
              " 47263: 1.0,\n",
              " 47568: 0.99990916,\n",
              " 47819: 0.9996055,\n",
              " 47950: 0.999795,\n",
              " 48236: 0.9767215,\n",
              " 48296: 0.9993623,\n",
              " 48352: 0.99470574,\n",
              " 48370: 0.99999774,\n",
              " 48509: 0.99999785,\n",
              " 48529: 0.9999964,\n",
              " 48670: 0.9998299,\n",
              " 48792: 1.0,\n",
              " 48973: 0.99996126,\n",
              " 49028: 0.99655306,\n",
              " 49260: 0.99984217,\n",
              " 49360: 0.9999995,\n",
              " 49521: 0.9999993,\n",
              " 49621: 0.99989116,\n",
              " 49650: 0.99999785,\n",
              " 49805: 1.0,\n",
              " 49826: 0.84950846,\n",
              " 50198: 0.9745935,\n",
              " 50241: 0.9999994,\n",
              " 50261: 0.9773656,\n",
              " 50317: 1.0,\n",
              " 50379: 1.0,\n",
              " 50389: 0.8992221,\n",
              " 50841: 0.9380894,\n",
              " 50984: 0.9999995,\n",
              " 51306: 0.9994511,\n",
              " 51607: 0.9999888,\n",
              " 51807: 0.96362424,\n",
              " 51862: 0.99963343,\n",
              " 51869: 0.9999957,\n",
              " 51940: 1.0,\n",
              " 52031: 0.99998057,\n",
              " 52079: 0.9849145,\n",
              " 52091: 0.96458733,\n",
              " 52104: 0.9999982,\n",
              " 52319: 0.99949,\n",
              " 52394: 0.9999981,\n",
              " 52603: 0.9999975,\n",
              " 52634: 0.5984081,\n",
              " 53027: 1.0,\n",
              " 53046: 7.399921e-05,\n",
              " 53172: 0.9999863,\n",
              " 53418: 1.0,\n",
              " 53491: 0.9998683,\n",
              " 53609: 0.46665567,\n",
              " 53769: 0.9997154,\n",
              " 53968: 0.99993026,\n",
              " 54069: 0.99989057,\n",
              " 54108: 0.99998844,\n",
              " 54129: 0.99998367,\n",
              " 54206: 1.0,\n",
              " 54231: 0.98797256,\n",
              " 54703: 0.59383017,\n",
              " 54730: 0.011575824,\n",
              " 54780: 1.0,\n",
              " 54819: 0.9999999,\n",
              " 54893: 1.0,\n",
              " 54930: 0.9995265,\n",
              " 56098: 0.9116315,\n",
              " 56124: 0.9999989,\n",
              " 56149: 0.9999958,\n",
              " 56207: 0.9979615,\n",
              " 56241: 0.92233247,\n",
              " 56273: 0.9999429,\n",
              " 56413: 0.9987968,\n",
              " 56428: 0.99982184,\n",
              " 56473: 0.9995919,\n",
              " 56803: 0.9999951,\n",
              " 56947: 1.0,\n",
              " 56980: 0.99986446,\n",
              " 57208: 0.9930795,\n",
              " 57369: 0.9993629,\n",
              " 57621: 1.0,\n",
              " 57643: 0.9999503,\n",
              " 57823: 0.99992836,\n",
              " 57896: 0.9999989,\n",
              " 58093: 0.99023634,\n",
              " 58213: 1.0,\n",
              " 58672: 1.0,\n",
              " 58726: 0.9999788,\n",
              " 59140: 0.9999938,\n",
              " 59170: 0.9999974,\n",
              " 59206: 0.99999917,\n",
              " 59738: 0.9999534,\n",
              " 59806: 0.99996424,\n",
              " 60183: 0.999283,\n",
              " 60724: 0.99999917,\n",
              " 60893: 0.99951875,\n",
              " 61038: 1.0,\n",
              " 61048: 0.99943715,\n",
              " 61085: 0.9989065,\n",
              " 61349: 1.0,\n",
              " 61503: 0.99969435,\n",
              " 61872: 0.9816124,\n",
              " 61973: 0.9999993,\n",
              " 62035: 0.9999906,\n",
              " 62093: 0.9928433,\n",
              " 62094: 0.008239837,\n",
              " 62319: 0.9946308,\n",
              " 62375: 0.9899665,\n",
              " 62378: 1.0,\n",
              " 62504: 0.99925464,\n",
              " 62581: 0.9999989,\n",
              " 62703: 0.9997482,\n",
              " 62948: 0.9999654,\n",
              " 62970: 0.9999832,\n",
              " 63175: 0.9786648,\n",
              " 63280: 0.99969673,\n",
              " 63507: 0.9985752,\n",
              " 63745: 1.0,\n",
              " 63827: 0.99894017,\n",
              " 63921: 0.9999993,\n",
              " 63987: 1.0,\n",
              " 64071: 0.99833775,\n",
              " 64072: 0.9970595,\n",
              " 64125: 0.9999987,\n",
              " 64281: 0.9995191,\n",
              " 64312: 1.0,\n",
              " 64510: 0.99998,\n",
              " 64891: 0.9999714,\n",
              " 65093: 0.9999962,\n",
              " 65342: 0.9951048,\n",
              " 65403: 1.0,\n",
              " 65801: 0.9999999,\n",
              " 65832: 0.99924135,\n",
              " 67082: 0.9962453,\n",
              " 67103: 0.99986815,\n",
              " 67208: 0.99806184,\n",
              " 67435: 1.0,\n",
              " 68043: 0.10428727,\n",
              " 68127: 0.99325365,\n",
              " 68192: 0.99983954,\n",
              " 68253: 0.99983585,\n",
              " 68257: 0.9053035,\n",
              " 68401: 0.95332056,\n",
              " 68409: 0.99999464,\n",
              " 68452: 0.91016525,\n",
              " 68459: 1.0,\n",
              " 68530: 0.99999774,\n",
              " 68930: 0.99940836,\n",
              " 69015: 0.99998116,\n",
              " 69032: 0.99999416,\n",
              " 69150: 0.9999994,\n",
              " 69512: 0.9944561,\n",
              " 69548: 0.9981127,\n",
              " 69815: 0.9999919,\n",
              " 69850: 0.9999405,\n",
              " 70413: 0.9999999,\n",
              " 70953: 1.0,\n",
              " 71269: 0.99999833,\n",
              " 71620: 0.9997497,\n",
              " 71680: 0.99999213,\n",
              " 71968: 0.99997044,\n",
              " 72048: 1.0,\n",
              " 72061: 0.9981918,\n",
              " 72168: 0.99297214,\n",
              " 72864: 0.9995479,\n",
              " 72904: 0.9999945,\n",
              " 73021: 0.99991643,\n",
              " 73069: 0.99991095,\n",
              " 73482: 0.999925,\n",
              " 73526: 1.0,\n",
              " 73601: 0.03375309,\n",
              " 73605: 0.9987697,\n",
              " 73914: 0.9999819,\n",
              " 73945: 1.0,\n",
              " 73962: 0.99960333,\n",
              " 74013: 0.99999917,\n",
              " 74058: 0.9959705,\n",
              " 74250: 0.088760145,\n",
              " 74253: 0.9999999,\n",
              " 74350: 0.9549014,\n",
              " 74906: 0.9999653,\n",
              " 74908: 0.99999976,\n",
              " 74912: 1.0,\n",
              " 74965: 0.9999827,\n",
              " 75142: 0.99999833,\n",
              " 75186: 0.99968493,\n",
              " 75286: 0.9999994,\n",
              " 75392: 0.74566096,\n",
              " 75482: 1.0,\n",
              " 75639: 1.0,\n",
              " 75918: 0.99999404,\n",
              " 76015: 0.99977916,\n",
              " 76092: 0.98918915,\n",
              " 76132: 0.9951147,\n",
              " 76295: 0.99999344,\n",
              " 76398: 0.99885666,\n",
              " 76432: 0.9999951,\n",
              " 76921: 0.99998987,\n",
              " 78134: 1.0,\n",
              " 78156: 0.85950506,\n",
              " 78251: 0.9999323,\n",
              " 78462: 0.99952936,\n",
              " 78612: 1.0,\n",
              " 78659: 1.0,\n",
              " 78914: 0.9999597,\n",
              " 78945: 1.0,\n",
              " 79012: 1.0,\n",
              " 79042: 0.99999964,\n",
              " 79085: 0.48553064,\n",
              " 79603: 0.96242833,\n",
              " 79615: 0.9999721,\n",
              " 80243: 0.9976993,\n",
              " 80426: 0.9988789,\n",
              " 80512: 0.9995882,\n",
              " 80597: 0.0186246,\n",
              " 80912: 1.0,\n",
              " 80947: 0.99945,\n",
              " 82054: 0.99992526,\n",
              " 82143: 0.9999484,\n",
              " 82197: 0.9999895,\n",
              " 82301: 1.0,\n",
              " 82437: 0.99942386,\n",
              " 82509: 0.9999999,\n",
              " 82537: 0.99999905,\n",
              " 82590: 0.99957913,\n",
              " 82945: 0.99979514,\n",
              " 83045: 1.0,\n",
              " 83264: 0.89508617,\n",
              " 83497: 1.0,\n",
              " 83675: 0.96296394,\n",
              " 83745: 0.99999714,\n",
              " 83920: 0.99996114,\n",
              " 83946: 0.9997042,\n",
              " 83954: 0.9999454,\n",
              " 84015: 0.99673694,\n",
              " 84036: 1.0,\n",
              " 84102: 0.9999975,\n",
              " 84107: 0.99987483,\n",
              " 84150: 0.9966396,\n",
              " 84162: 0.9976509,\n",
              " 84273: 0.9999999,\n",
              " 84302: 0.9993954,\n",
              " 84362: 0.9999316,\n",
              " 84510: 0.99978036,\n",
              " 84536: 0.99985015,\n",
              " 84756: 0.8408079,\n",
              " 84762: 1.0,\n",
              " 85067: 0.99999285,\n",
              " 85216: 0.9999958,\n",
              " 85237: 1.0,\n",
              " 85293: 0.86274105,\n",
              " 85621: 0.9999337,\n",
              " 85679: 0.996161,\n",
              " 85761: 0.9999999,\n",
              " 85790: 0.9999987,\n",
              " 86170: 0.9849502,\n",
              " 86195: 0.9999939,\n",
              " 86357: 0.99998975,\n",
              " 86417: 0.99999964,\n",
              " 86450: 0.9999974,\n",
              " 86471: 0.9939446,\n",
              " 86927: 0.9999993,\n",
              " 87034: 0.9994981,\n",
              " 87130: 1.0,\n",
              " 87169: 0.99829215,\n",
              " 87251: 0.9999969,\n",
              " 87520: 1.0,\n",
              " 89047: 0.9999962,\n",
              " 89071: 0.99998546,\n",
              " 89362: 0.98075795,\n",
              " 89425: 0.9974942,\n",
              " 89430: 0.9999943,\n",
              " 89536: 1.0,\n",
              " 89642: 0.9999356,\n",
              " 90236: 0.9999056,\n",
              " 90243: 0.9999999,\n",
              " 90256: 1.0,\n",
              " 90267: 0.9999509,\n",
              " 90465: 0.99998546,\n",
              " 90643: 0.9999614,\n",
              " 90843: 1.0,\n",
              " 91058: 0.99924135,\n",
              " 91253: 0.9994741,\n",
              " 91405: 0.57232535,\n",
              " 91468: 0.99939835,\n",
              " 91586: 0.9919441,\n",
              " 91602: 0.99874145,\n",
              " 91638: 0.9992908,\n",
              " 91756: 0.99936837,\n",
              " 91763: 0.99999976,\n",
              " 91836: 0.9999747,\n",
              " 91847: 0.99980205,\n",
              " 92046: 0.9300047,\n",
              " 92058: 0.99512,\n",
              " 92068: 0.99999833,\n",
              " 92317: 0.9999913,\n",
              " 92435: 0.97831273,\n",
              " 92567: 0.99650264,\n",
              " 92738: 0.98460686,\n",
              " 93041: 1.0,\n",
              " 93051: 1.0,\n",
              " 93148: 0.99994266,\n",
              " 93172: 0.9950728,\n",
              " 93425: 0.99991405,\n",
              " 93528: 0.07649385,\n",
              " 93541: 0.996938,\n",
              " 93620: 0.9997291,\n",
              " 94016: 0.9135435,\n",
              " 94170: 0.999092,\n",
              " 94185: 0.39154878,\n",
              " 94231: 0.99998665,\n",
              " 94387: 0.9999999,\n",
              " 94560: 0.99999416,\n",
              " 94738: 0.9958638,\n",
              " 94813: 0.9999201,\n",
              " 95038: 0.99951625,\n",
              " 95086: 0.979411,\n",
              " 95173: 0.997799,\n",
              " 95176: 0.9999975,\n",
              " 95386: 0.9999958,\n",
              " 95487: 0.99143654,\n",
              " 95604: 0.9998609,\n",
              " 95613: 0.99725133,\n",
              " 95640: 0.99984217,\n",
              " 95806: 0.9736313,\n",
              " 95830: 0.9988285,\n",
              " 96180: 0.99999917,\n",
              " 96250: 0.36883014,\n",
              " 96284: 0.9999999,\n",
              " 96312: 0.999998,\n",
              " 96472: 0.9997248,\n",
              " 97068: 0.99990594,\n",
              " 97132: 0.99999845,\n",
              " 97305: 0.95986557,\n",
              " 97320: 0.89246523,\n",
              " 97453: 0.99997973,\n",
              " 98235: 0.9999027,\n",
              " 98516: 0.9999889,\n",
              " 98543: 0.94093776,\n",
              " 98547: 0.9999523,\n",
              " 98701: 0.9970276,\n",
              " 98720: 1.0}"
            ]
          },
          "metadata": {
            "tags": []
          },
          "execution_count": 83
        }
      ]
    },
    {
      "cell_type": "code",
      "metadata": {
        "id": "ri5f0qcD6YkW"
      },
      "source": [
        ""
      ],
      "execution_count": null,
      "outputs": []
    },
    {
      "cell_type": "markdown",
      "metadata": {
        "id": "uttWpgmSfzq9"
      },
      "source": [
        "### Plot the accuracy and loss over time\n",
        "\n",
        "Based on the `History` object returned by `model.fit()`. You can plot the training and validation loss for comparison, as well as the training and validation accuracy:"
      ]
    },
    {
      "cell_type": "code",
      "metadata": {
        "colab": {
          "base_uri": "https://localhost:8080/",
          "height": 439
        },
        "id": "fiythcODf0xo",
        "outputId": "4ace5c77-e4d8-4625-f9c0-5d8a55eec813"
      },
      "source": [
        "history_dict = history.history\n",
        "print(history_dict.keys())\n",
        "\n",
        "acc = history_dict['binary_accuracy']\n",
        "val_acc = history_dict['val_binary_accuracy']\n",
        "loss = history_dict['loss']\n",
        "val_loss = history_dict['val_loss']\n",
        "\n",
        "epochs = range(1, len(acc) + 1)\n",
        "fig = plt.figure(figsize=(10, 6))\n",
        "fig.tight_layout()\n",
        "\n",
        "plt.subplot(2, 1, 1)\n",
        "# \"bo\" is for \"blue dot\"\n",
        "plt.plot(epochs, loss, 'r', label='Training loss')\n",
        "# b is for \"solid blue line\"\n",
        "plt.plot(epochs, val_loss, 'b', label='Validation loss')\n",
        "plt.title('Training and validation loss')\n",
        "# plt.xlabel('Epochs')\n",
        "plt.ylabel('Loss')\n",
        "plt.legend()\n",
        "\n",
        "plt.subplot(2, 1, 2)\n",
        "plt.plot(epochs, acc, 'r', label='Training acc')\n",
        "plt.plot(epochs, val_acc, 'b', label='Validation acc')\n",
        "plt.title('Training and validation accuracy')\n",
        "plt.xlabel('Epochs')\n",
        "plt.ylabel('Accuracy')\n",
        "plt.legend(loc='lower right')"
      ],
      "execution_count": null,
      "outputs": [
        {
          "output_type": "stream",
          "text": [
            "dict_keys(['loss', 'binary_accuracy', 'val_loss', 'val_binary_accuracy'])\n"
          ],
          "name": "stdout"
        },
        {
          "output_type": "execute_result",
          "data": {
            "text/plain": [
              "<matplotlib.legend.Legend at 0x7f965591d4d0>"
            ]
          },
          "metadata": {
            "tags": []
          },
          "execution_count": 134
        },
        {
          "output_type": "display_data",
          "data": {
            "image/png": "[encoded data removed]",
            "text/plain": [
              "<Figure size 720x432 with 2 Axes>"
            ]
          },
          "metadata": {
            "tags": []
          }
        }
      ]
    },
    {
      "cell_type": "markdown",
      "metadata": {
        "id": "WzJZCo-cf-Jf"
      },
      "source": [
        "In this plot, the red lines represents the training loss and accuracy, and the blue lines are the validation loss and accuracy."
      ]
    },
    {
      "cell_type": "markdown",
      "metadata": {
        "id": "Rtn7jewb6dg4"
      },
      "source": [
        "## Export for inference\n",
        "\n",
        "Now you just save your fine-tuned model for later use."
      ]
    },
    {
      "cell_type": "code",
      "metadata": {
        "colab": {
          "base_uri": "https://localhost:8080/"
        },
        "id": "ShcvqJAgVera",
        "outputId": "beb9b6d3-ff55-468c-dc9d-992b0c71b751"
      },
      "source": [
        "dataset_name = 'aca'\n",
        "saved_model_path = './{}_bert'.format(dataset_name.replace('/', '_'))\n",
        "\n",
        "classifier_model.save(\"drive/MyDrive/aca\", include_optimizer=False)"
      ],
      "execution_count": null,
      "outputs": [
        {
          "output_type": "stream",
          "text": [
            "WARNING:absl:Found untraced functions such as restored_function_body, restored_function_body, restored_function_body, restored_function_body, restored_function_body while saving (showing 5 of 900). These functions will not be directly callable after loading.\n",
            "WARNING:absl:Found untraced functions such as restored_function_body, restored_function_body, restored_function_body, restored_function_body, restored_function_body while saving (showing 5 of 900). These functions will not be directly callable after loading.\n"
          ],
          "name": "stderr"
        }
      ]
    },
    {
      "cell_type": "code",
      "metadata": {
        "colab": {
          "base_uri": "https://localhost:8080/"
        },
        "id": "WCmzr_CuRyum",
        "outputId": "f1db84dc-4384-4d84-b8cb-8d724e73cd34"
      },
      "source": [
        ""
      ],
      "execution_count": null,
      "outputs": [
        {
          "output_type": "stream",
          "text": [
            "Mounted at /content/drive\n"
          ],
          "name": "stdout"
        }
      ]
    },
    {
      "cell_type": "markdown",
      "metadata": {
        "id": "PbI25bS1vD7s"
      },
      "source": [
        "Let's reload the model so you can try it side by side with the model that is still in memory."
      ]
    },
    {
      "cell_type": "code",
      "metadata": {
        "id": "gUEWVskZjEF0"
      },
      "source": [
        "reloaded_model = tf.saved_model.load(saved_model_path)"
      ],
      "execution_count": null,
      "outputs": []
    },
    {
      "cell_type": "markdown",
      "metadata": {
        "id": "oyTappHTvNCz"
      },
      "source": [
        "Here you can test your model on any sentence you want, just add to the examples variable below."
      ]
    },
    {
      "cell_type": "code",
      "metadata": {
        "id": "VBWzH6exlCPS"
      },
      "source": [
        "def print_my_examples(inputs, results):\n",
        "  result_for_printing = \\\n",
        "    [f'input: {inputs[i]:<30} : score: {results[i][0]:.6f}'\n",
        "                         for i in range(len(inputs))]\n",
        "  print(*result_for_printing, sep='\\n')\n",
        "  print()\n",
        "\n",
        "\n",
        "examples = [\n",
        "    'this is such an amazing movie!',  # this is the same sentence tried earlier\n",
        "    'The movie was great!',\n",
        "    'The movie was meh.',\n",
        "    'The movie was okish.',\n",
        "    'The movie was terrible...'\n",
        "]\n",
        "\n",
        "reloaded_results = tf.sigmoid(reloaded_model(tf.constant(examples)))\n",
        "original_results = tf.sigmoid(classifier_model(tf.constant(examples)))\n",
        "\n",
        "print('Results from the saved model:')\n",
        "print_my_examples(examples, reloaded_results)\n",
        "print('Results from the model in memory:')\n",
        "print_my_examples(examples, original_results)"
      ],
      "execution_count": null,
      "outputs": []
    },
    {
      "cell_type": "markdown",
      "metadata": {
        "id": "3cOmih754Y_M"
      },
      "source": [
        "If you want to use your model on [TF Serving](https://www.tensorflow.org/tfx/guide/serving), remember that it will call your SavedModel through one of its named signatures. In Python, you can test them as follows:"
      ]
    },
    {
      "cell_type": "code",
      "metadata": {
        "id": "0FdVD3973S-O"
      },
      "source": [
        "serving_results = reloaded_model \\\n",
        "            .signatures['serving_default'](tf.constant(examples))\n",
        "\n",
        "serving_results = tf.sigmoid(serving_results['classifier'])\n",
        "\n",
        "print_my_examples(examples, serving_results)"
      ],
      "execution_count": null,
      "outputs": []
    },
    {
      "cell_type": "markdown",
      "metadata": {
        "id": "B4gN1KwReLPN"
      },
      "source": [
        "## Next steps\n",
        "\n",
        "As a next step, you can try [Solve GLUE tasks using BERT on a TPU tutorial](https://www.tensorflow.org/tutorials/text/solve_glue_tasks_using_bert_on_tpu) which runs on a TPU and shows you how to work with multiple inputs."
      ]
    }
  ]
}